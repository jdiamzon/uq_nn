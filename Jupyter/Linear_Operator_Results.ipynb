{
 "cells": [
  {
   "cell_type": "markdown",
   "metadata": {},
   "source": [
    "# Learning a Nonlinear Operator with a Feed-Forward Neural Network\n",
    "\n",
    "In this notebook, we use a feed-forward neural network (FFNN) to learn a nonlinear operator that maps between function spaces. The operator is defined by the integral:\n",
    "\n",
    "$$g(y) = \\int_{-1}^{1} \\left( f(x)y + f(x)f'(x)\\sin(\\pi y^2)\\cos(x) \\right) dx$$\n",
    "\n",
    "\n",
    "This notebook includes the following steps:\n",
    "1. Generating training data using the defined operator.\n",
    "2. Defining and training a feed-forward neural network to learn the operator.\n",
    "3. Evaluating and plotting the results.\n",
    "\n",
    "We use two helper scripts, `gll_discretize.jl` and `sample_operators.jl`, to handle data generation and preprocessing."
   ]
  },
  {
   "cell_type": "code",
   "execution_count": null,
   "metadata": {},
   "outputs": [],
   "source": [
    "include(\"../Scripts/utils/approx_formula.jl\")\n",
    "include(\"../Scripts/utils/create_model.jl\")\n",
    "include(\"../Scripts/data_generator.jl\")\n",
    "include(\"../Scripts/Discretizations/gll_discretize.jl\")\n",
    "include(\"../scripts/file_names.jl\")\n",
    "include(\"../Scripts/noise_generator.jl\")\n",
    "include(\"../Scripts/sample_operators.jl\")\n",
    "include(\"../Scripts/utils/plot_data.jl\")\n",
    "include(\"../Scripts/utils/unpack_params.jl\")\n",
    "\n",
    "# const fig_results_path = expanduser(\"~/UQ_NN/figures/Results/\") # Define a path to store the results"
   ]
  },
  {
   "cell_type": "code",
   "execution_count": null,
   "metadata": {},
   "outputs": [],
   "source": [
    "include(\"../Scripts/startup_LinOp.jl\")"
   ]
  },
  {
   "cell_type": "code",
   "execution_count": null,
   "metadata": {},
   "outputs": [],
   "source": [
    "CairoMakie.activate!(type=\"svg\")"
   ]
  },
  {
   "cell_type": "code",
   "execution_count": null,
   "metadata": {},
   "outputs": [],
   "source": [
    "\n",
    "set_theme!(theme_latexfonts())\n",
    "CairoMakie.activate!()"
   ]
  },
  {
   "cell_type": "markdown",
   "metadata": {},
   "source": [
    "# Verifying Analytic Formula"
   ]
  },
  {
   "cell_type": "markdown",
   "metadata": {},
   "source": [
    "## Particular Function Perturbed by Small Noise"
   ]
  },
  {
   "cell_type": "code",
   "execution_count": null,
   "metadata": {},
   "outputs": [],
   "source": [
    "ℒ_op"
   ]
  },
  {
   "cell_type": "code",
   "execution_count": null,
   "metadata": {},
   "outputs": [],
   "source": [
    "# Generate training data of particular function\n",
    "## test_func is a curve of randomly selected data points\n",
    "function 𝒻ₚ(x)\n",
    "  return exp.(sin.(5.0 * x))\n",
    "end\n",
    "nodesxₚ_gll, nodes_y_part, input_𝒻ₚ, output_𝒻ₚ = generate_data(Nx, Ny, 𝒻ₚ, ℒ_op)\n",
    "\n",
    "𝒻ₚ_gll::Data_with_Grid{Float64} = Data_with_Grid(input_data=input_𝒻ₚ, output_data=output_𝒻ₚ, nodes=nodesxₚ_gll) # domain and codomain grid are the same size"
   ]
  },
  {
   "cell_type": "code",
   "execution_count": null,
   "metadata": {},
   "outputs": [],
   "source": [
    "plot_inputoutput_curves(𝒻ₚ_gll, 𝒩ₙₙ1L, 𝚯_1L)"
   ]
  },
  {
   "cell_type": "markdown",
   "metadata": {},
   "source": [
    "## Comparison of Input-Output Curves for Various Layer Sizes"
   ]
  },
  {
   "cell_type": "markdown",
   "metadata": {},
   "source": [
    "### Input-Output for 2 Layers"
   ]
  },
  {
   "cell_type": "code",
   "execution_count": null,
   "metadata": {},
   "outputs": [],
   "source": [
    "plot_inputoutput_curves(𝒻ₚ_gll, 𝒩ₙₙ2L, 𝚯_2L)"
   ]
  },
  {
   "cell_type": "code",
   "execution_count": null,
   "metadata": {},
   "outputs": [],
   "source": [
    "𝒩ₙₙ2L(𝒻ₚ_gll.input_data)"
   ]
  },
  {
   "cell_type": "code",
   "execution_count": null,
   "metadata": {},
   "outputs": [],
   "source": [
    "𝒩ₙₙ2L(𝒻ₚ_gll.input_data; ps=𝚯_2L::ComponentArray{<:Float32}, st=layer_states_2L) == 𝒩ₙₙ2L(𝒻ₚ_gll.input_data)"
   ]
  },
  {
   "cell_type": "code",
   "execution_count": null,
   "metadata": {},
   "outputs": [],
   "source": [
    "selection::Int = rand(1:num_samples);\n",
    "input_data::Vector = train_input_fns[:, selection]# |> cpu_device()\n",
    "𝒩_of_μₚ::Vector = 𝒩ₙₙ2L(input_data)\n",
    "\n",
    "\n",
    "print(\"Selection: \", selection)\n",
    "begin\n",
    "\n",
    "  fig = Makie.Figure()\n",
    "  ax = Makie.Axis(fig[1, 1]; xlabel=\"x\", ylabel=L\"y = N(f(x))\", title=\"Sample Curve $selection vs. Neural Net Solution, 2 Layers\")\n",
    "\n",
    "  add_interp_line(ax, train_output_fns[:, selection])\n",
    "  Makie.scatter!(ax, nodes_x, train_output_fns[:, selection],\n",
    "    label=\"\\\"Sampled\\\" Data\";\n",
    "    markersize=12,\n",
    "    alpha=0.5,\n",
    "    strokewidth=2)\n",
    "  Makie.scatter!(ax, nodes_x, 𝒩_of_μₚ,\n",
    "    label=\"Neural Net Generated Data\";\n",
    "    markersize=6,\n",
    "    alpha=0.5,\n",
    "    strokewidth=2)\n",
    "\n",
    "  axislegend(ax)\n",
    "  fig\n",
    "\n",
    "end"
   ]
  },
  {
   "cell_type": "markdown",
   "metadata": {},
   "source": [
    "### Input-Output for 3 Layers"
   ]
  },
  {
   "cell_type": "code",
   "execution_count": null,
   "metadata": {},
   "outputs": [],
   "source": [
    "plot_inputoutput_curves(𝒻ₚ_gll, 𝒩ₙₙ3L, 𝚯_3L)"
   ]
  },
  {
   "cell_type": "code",
   "execution_count": null,
   "metadata": {},
   "outputs": [],
   "source": [
    "selection::Int = rand(1:num_samples);\n",
    "input_data::Vector = train_input_fns[:, selection]# |> cpu_device()\n",
    "𝒩_of_μₚ::Vector = 𝒩ₙₙ3L(input_data)\n",
    "\n",
    "\n",
    "print(\"Selection: \", selection)\n",
    "begin\n",
    "\n",
    "  fig = Makie.Figure()\n",
    "  ax = Makie.Axis(fig[1, 1]; xlabel=\"x\", ylabel=L\"y = N(f(x))\", title=\"Sample Curve $selection vs. Neural Net Solution, 3 Layers\")\n",
    "\n",
    "  add_interp_line(ax, train_output_fns[:, selection])\n",
    "  Makie.scatter!(ax, nodes_x, train_output_fns[:, selection],\n",
    "    label=\"\\\"Sampled\\\" Data\";\n",
    "    markersize=12,\n",
    "    alpha=0.5,\n",
    "    strokewidth=2)\n",
    "  Makie.scatter!(ax, nodes_x, 𝒩_of_μₚ,\n",
    "    label=\"Neural Net Generated Data\";\n",
    "    markersize=6,\n",
    "    alpha=0.5,\n",
    "    strokewidth=2)\n",
    "\n",
    "  axislegend(ax)\n",
    "  fig\n",
    "\n",
    "end"
   ]
  },
  {
   "cell_type": "code",
   "execution_count": null,
   "metadata": {},
   "outputs": [],
   "source": [
    "𝚯_7L"
   ]
  },
  {
   "cell_type": "markdown",
   "metadata": {},
   "source": [
    "### Input-Output for 5 Layers"
   ]
  },
  {
   "cell_type": "code",
   "execution_count": null,
   "metadata": {},
   "outputs": [],
   "source": [
    "plot_inputoutput_curves(𝒻ₚ_gll, 𝒩ₙₙ5L, 𝚯_5L)"
   ]
  },
  {
   "cell_type": "markdown",
   "metadata": {},
   "source": [
    "### Input-Output for 7 Layers"
   ]
  },
  {
   "cell_type": "code",
   "execution_count": null,
   "metadata": {},
   "outputs": [],
   "source": [
    "# plot_inputoutput_curves(𝒩ₙₙ5L, 𝚯_5L, layer_states_5L;\n",
    "#   grid_nodes=nodesxₚ_gll,\n",
    "#   input_data=input_𝒻ₚ,\n",
    "#   output_data=output_𝒻ₚ)\n",
    "\n",
    "plot_inputoutput_curves(𝒻ₚ_gll, 𝒩ₙₙ7L, 𝚯_7L)"
   ]
  },
  {
   "cell_type": "code",
   "execution_count": null,
   "metadata": {},
   "outputs": [],
   "source": [
    "selection::Int = rand(1:num_samples);\n",
    "input_data::Vector = train_input_fns[:, selection] |> cpu_device()\n",
    "𝒩_of_μₚ::Vector = 𝒩ₙₙ5L(input_data)\n",
    "\n",
    "\n",
    "print(\"Selection: \", selection)\n",
    "begin\n",
    "\n",
    "  fig = Makie.Figure()\n",
    "  ax = Makie.Axis(fig[1, 1]; xlabel=\"x\", ylabel=L\"y = N(f(x))\", title=\"Sample Curve $selection vs. Neural Net Solution, 5 Layers\")\n",
    "\n",
    "  add_interp_line(ax, train_output_fns[:, selection])\n",
    "  Makie.scatter!(ax, nodes_x, train_output_fns[:, selection],\n",
    "    label=\"\\\"Sampled\\\" Data\";\n",
    "    markersize=12,\n",
    "    alpha=0.5,\n",
    "    strokewidth=2)\n",
    "  Makie.scatter!(ax, nodes_x, 𝒩_of_μₚ,\n",
    "    label=\"Neural Net Generated Data\";\n",
    "    markersize=6,\n",
    "    alpha=0.5,\n",
    "    strokewidth=2)\n",
    "\n",
    "  axislegend(ax)\n",
    "  fig\n",
    "\n",
    "end"
   ]
  },
  {
   "cell_type": "code",
   "execution_count": null,
   "metadata": {},
   "outputs": [],
   "source": [
    "# plot_inputoutput_curves(𝒩ₙₙ5L, 𝚯_5L, layer_states_5L;\n",
    "#   grid_nodes=nodesxₚ_gll,\n",
    "#   input_data=input_𝒻ₚ,\n",
    "#   output_data=output_𝒻ₚ)\n",
    "\n",
    "plot_inputoutput_curves(𝒻ₚ_gll, 𝒩ₙₙ5L, 𝚯_5L)"
   ]
  },
  {
   "cell_type": "code",
   "execution_count": null,
   "metadata": {},
   "outputs": [],
   "source": [
    "selection::Int = rand(1:num_samples);\n",
    "input_data::Vector = train_input_fns[:, selection] |> cpu_device()\n",
    "𝒩_of_μₚ::Vector = 𝒩ₙₙ7L(input_data)\n",
    "\n",
    "\n",
    "print(\"Selection: \", selection)\n",
    "begin\n",
    "\n",
    "  fig = Makie.Figure()\n",
    "  ax = Makie.Axis(fig[1, 1]; xlabel=\"x\", ylabel=L\"y = N(f(x))\", title=\"Sample Curve $selection vs. Neural Net Solution, 7 Layers\")\n",
    "\n",
    "  add_interp_line(ax, train_output_fns[:, selection])\n",
    "  Makie.scatter!(ax, nodes_x, train_output_fns[:, selection],\n",
    "    label=\"\\\"Sampled\\\" Data\";\n",
    "    markersize=12,\n",
    "    alpha=0.5,\n",
    "    strokewidth=2)\n",
    "  Makie.scatter!(ax, nodes_x, 𝒩_of_μₚ,\n",
    "    label=\"Neural Net Generated Data\";\n",
    "    markersize=6,\n",
    "    alpha=0.5,\n",
    "    strokewidth=2)\n",
    "\n",
    "  axislegend(ax)\n",
    "  fig\n",
    "\n",
    "end"
   ]
  },
  {
   "cell_type": "markdown",
   "metadata": {},
   "source": [
    "### Input-Output for 10 Layers"
   ]
  },
  {
   "cell_type": "code",
   "execution_count": null,
   "metadata": {},
   "outputs": [],
   "source": [
    "# plot_inputoutput_curves(𝒩ₙₙ10L, 𝚯_10L, layer_states_10L;\n",
    "#   grid_nodes=nodesxₚ_gll,\n",
    "#   input_data=input_𝒻ₚ,\n",
    "#   output_data=output_𝒻ₚ)\n",
    "\n",
    "plot_inputoutput_curves(𝒻ₚ_gll, 𝒩ₙₙ10L, 𝚯_10L)"
   ]
  },
  {
   "cell_type": "code",
   "execution_count": null,
   "metadata": {},
   "outputs": [],
   "source": [
    "selection::Int = rand(1:num_samples);\n",
    "input_data::Vector = train_input_fns[:, selection] |> cpu_device()\n",
    "𝒩_of_μₚ::Vector = 𝒩ₙₙ10L(input_data)\n",
    "\n",
    "\n",
    "print(\"Selection: \", selection)\n",
    "begin\n",
    "\n",
    "  fig = Makie.Figure()\n",
    "  ax = Makie.Axis(fig[1, 1]; xlabel=\"x\", ylabel=L\"y = N(f(x))\", title=\"Sample Curve $selection vs. Neural Net Solution, 10 Layers\")\n",
    "\n",
    "  add_interp_line(ax, train_output_fns[:, selection])\n",
    "  Makie.scatter!(ax, nodes_x, train_output_fns[:, selection],\n",
    "    label=\"\\\"Sampled\\\" Data\";\n",
    "    markersize=12,\n",
    "    alpha=0.5,\n",
    "    strokewidth=2)\n",
    "  Makie.scatter!(ax, nodes_x, 𝒩_of_μₚ,\n",
    "    label=\"Neural Net Generated Data\";\n",
    "    markersize=6,\n",
    "    alpha=0.5,\n",
    "    strokewidth=2)\n",
    "\n",
    "  axislegend(ax)\n",
    "  fig\n",
    "\n",
    "end"
   ]
  },
  {
   "cell_type": "markdown",
   "metadata": {},
   "source": [
    "### Input-Output for 12 Layers"
   ]
  },
  {
   "cell_type": "code",
   "execution_count": null,
   "metadata": {},
   "outputs": [],
   "source": [
    "# plot_inputoutput_curves(𝒩ₙₙ10L, 𝚯_10L, layer_states_10L;\n",
    "#   grid_nodes=nodesxₚ_gll,\n",
    "#   input_data=input_𝒻ₚ,\n",
    "#   output_data=output_𝒻ₚ)\n",
    "\n",
    "plot_inputoutput_curves(𝒻ₚ_gll, 𝒩ₙₙ12L, 𝚯_12L)"
   ]
  },
  {
   "cell_type": "code",
   "execution_count": null,
   "metadata": {},
   "outputs": [],
   "source": [
    "selection::Int = rand(1:num_samples);\n",
    "input_data::Vector = train_input_fns[:, selection] |> cpu_device()\n",
    "𝒩_of_μₚ::Vector = 𝒩ₙₙ12L(input_data)\n",
    "\n",
    "\n",
    "print(\"Selection: \", selection)\n",
    "begin\n",
    "\n",
    "  fig = Makie.Figure()\n",
    "  ax = Makie.Axis(fig[1, 1]; xlabel=\"x\", ylabel=L\"y = N(f(x))\", title=\"Sample Curve $selection vs. Neural Net Solution, 12 Layers\")\n",
    "\n",
    "  add_interp_line(ax, train_output_fns[:, selection])\n",
    "  Makie.scatter!(ax, nodes_x, train_output_fns[:, selection],\n",
    "    label=\"\\\"Sampled\\\" Data\";\n",
    "    markersize=12,\n",
    "    alpha=0.5,\n",
    "    strokewidth=2)\n",
    "  Makie.scatter!(ax, nodes_x, 𝒩_of_μₚ,\n",
    "    label=\"Neural Net Generated Data\";\n",
    "    markersize=6,\n",
    "    alpha=0.5,\n",
    "    strokewidth=2)\n",
    "\n",
    "  axislegend(ax)\n",
    "  fig\n",
    "\n",
    "end"
   ]
  },
  {
   "cell_type": "markdown",
   "metadata": {},
   "source": [
    "### Input-Output for 20 Layers"
   ]
  },
  {
   "cell_type": "code",
   "execution_count": null,
   "metadata": {},
   "outputs": [],
   "source": [
    "# plot_inputoutput_curves(𝒩ₙₙ20L, 𝚯_20L, layer_states_20L;\n",
    "#   grid_nodes=nodesxₚ_gll,\n",
    "#   input_data=input_𝒻ₚ,\n",
    "#   output_data=output_𝒻ₚ)\n",
    "\n",
    "plot_inputoutput_curves(𝒻ₚ_gll, 𝒩ₙₙ20L, 𝚯_20L)"
   ]
  },
  {
   "cell_type": "code",
   "execution_count": null,
   "metadata": {},
   "outputs": [],
   "source": [
    "selection::Int = rand(1:num_samples);\n",
    "input_data::Vector = train_input_fns[:, selection] |> cpu_device()\n",
    "𝒩_of_μₚ::Vector = 𝒩ₙₙ20L(input_data)\n",
    "\n",
    "\n",
    "print(\"Selection: \", selection)\n",
    "begin\n",
    "\n",
    "  fig = Makie.Figure()\n",
    "  ax = Makie.Axis(fig[1, 1]; xlabel=\"x\", ylabel=L\"y = N(f(x))\", title=\"Sample Curve $selection vs. Neural Net Solution, 20 Layers\")\n",
    "\n",
    "  add_interp_line(ax, train_output_fns[:, selection])\n",
    "  scatter!(ax, nodes_x, train_output_fns[:, selection],\n",
    "    label=\"\\\"Sampled\\\" Data\";\n",
    "    markersize=12,\n",
    "    alpha=0.5,\n",
    "    strokewidth=2)\n",
    "  Makie.scatter!(ax, nodes_x, 𝒩_of_μₚ,\n",
    "    label=\"Neural Net Generated Data\";\n",
    "    markersize=6,\n",
    "    alpha=0.5,\n",
    "    strokewidth=2)\n",
    "\n",
    "  axislegend(ax)\n",
    "  fig\n",
    "\n",
    "end"
   ]
  },
  {
   "cell_type": "code",
   "execution_count": null,
   "metadata": {},
   "outputs": [],
   "source": [
    "typeof(Uniform(-1.5, 1.5)) <: Uniform"
   ]
  },
  {
   "cell_type": "markdown",
   "metadata": {},
   "source": [
    "## Plotting Marginals Computed Numerically"
   ]
  },
  {
   "cell_type": "markdown",
   "metadata": {},
   "source": [
    "### Generating Noised Samples"
   ]
  },
  {
   "cell_type": "code",
   "execution_count": null,
   "metadata": {},
   "outputs": [],
   "source": [
    "# 5::Real = 1.5\n",
    "β::Real = 1.5\n",
    "μₚ::Vector = input_𝒻ₚ;\n",
    "uniform_distrib::Uniform{Float64} = Uniform(-β, β);\n",
    "num_nonHidden_layer::Int = 1;\n",
    "num_layers::Int = length(keys(𝚯_3L)) - num_nonHidden_layer;\n",
    "\n",
    "# selection = 14\n",
    "selection = rand(1:31);\n",
    "Selected𝒩ₙₙ = 𝒩ₙₙ3L;\n",
    "𝒩_of_μₚ::Vector = Selected𝒩ₙₙ(μₚ);\n",
    "\n",
    "input_noised_f_part_samples, output_noised_g_part_samples = generate_noised_samples(μₚ;\n",
    "  𝒩ₙₙ=Selected𝒩ₙₙ,\n",
    "  # input_data=input_𝒻ₚ,\n",
    "  # output_data=output_𝒻ₚ,\n",
    "  noise_pdf=uniform_distrib)\n",
    "\n",
    "gₖ::Vector = output_noised_g_part_samples[selection, :]\n",
    "mean_gk::Real = mean(gₖ)\n",
    "\n",
    "gk_of_μ::Real = 𝒩_of_μₚ[selection];"
   ]
  },
  {
   "cell_type": "code",
   "execution_count": null,
   "metadata": {},
   "outputs": [],
   "source": [
    "\n",
    "begin\n",
    "  fig = Figure()\n",
    "  ax = Makie.Axis(fig[1, 1];\n",
    "    xlabel=L\"g_{%$selection} = [\\mathcal{N}(f(μ \\pm \\beta)]\",\n",
    "    ylabel=L\"p(g_{%$selection})\",\n",
    "    title=L\"\\text{(%$num_layers layers) Histogram of } p(g_{%$selection})\")\n",
    "  hist!(ax, gₖ, normalization=:pdf, bins=100,\n",
    "    label_formatter=x -> round(x, digits=2), label_size=15,\n",
    "    strokewidth=0.5, strokecolor=(:black, 0.5), color=:values)\n",
    "  CairoMakie.vlines!(ax, mean(gₖ), label=\"Mean g_k = $mean_gk\", linestyle=:dash)\n",
    "  # axislegend(ax)\n",
    "\n",
    "  ax2 = Makie.Axis(fig[1, 2];\n",
    "    xlabel=L\"g_{%$selection} = [\\mathcal{N}(f(μ \\pm \\beta)]\",\n",
    "    ylabel=L\"p(g_j)\",\n",
    "    title=L\"\\text{(%$num_layers layers) KDE of } p(g_%$selection)\")\n",
    "  Makie.density!(gₖ)\n",
    "  CairoMakie.vlines!(ax2, mean(gₖ), label=\"Mean g_k = $mean_gk\", linestyle=:dash)\n",
    "  # axislegend(ax2)\n",
    "  CairoMakie.vlines!(ax2, 𝒩_of_μₚ[selection], label=\"Mean g_k = $gk_of_μ\", linestyle=:dash)\n",
    "\n",
    "  # legendax = Makie.Axis(fig[1, 3];\n",
    "  #   xlabel=\"\",\n",
    "  #   ylabel=\"\",\n",
    "  #   title=L\"\\text{(%$num_layers layers) KDE of } p(g_%$selection)\")\n",
    "  # axislegend(legendax)\n",
    "\n",
    "  fig\n",
    "end"
   ]
  },
  {
   "cell_type": "code",
   "execution_count": null,
   "metadata": {},
   "outputs": [],
   "source": [
    "σ_part::Vector = zeros(length(μₚ))\n",
    "numericalMean_part::Vector = zeros(length(μₚ))\n",
    "for k in 1:31\n",
    "  gₖ::Vector = output_noised_g_part_samples[k, :]\n",
    "  σ_part[k] = std(gₖ)\n",
    "  numericalMean_part[k] = mean(gₖ)\n",
    "end\n",
    "\n",
    "c1 = Makie.wong_colors(0.5)[1]\n",
    "c2 = Makie.wong_colors(0.5)[2]\n",
    "c3 = Makie.wong_colors(0.5)[3]\n",
    "c4 = Makie.wong_colors(0.5)[4]\n",
    "c5 = Makie.wong_colors(0.5)[5]\n",
    "\n",
    "selected_points = Point2f.([nodesxₚ_gll[8], nodesxₚ_gll[13], nodesxₚ_gll[17], nodesxₚ_gll[25]], [𝒩_of_μₚ[8], 𝒩_of_μₚ[13], 𝒩_of_μₚ[17], 𝒩_of_μₚ[25]])\n",
    "\n",
    "begin\n",
    "\n",
    "  fig = Makie.Figure(size=(1500, 1000), px_per_unit=2.5, fontsize=45)\n",
    "  ax = Makie.Axis(fig[1, 1];\n",
    "    limits=(-1.0, 1.1, -8, 5),\n",
    "    xlabel=L\"y\",\n",
    "    ylabel=L\"g(y)\")\n",
    "  # title=\"Sample Curve f(x) = exp(sin(5x)) vs. Neural Net Solution, |β| ≤ $β, $num_layers Layers\")\n",
    "\n",
    "\n",
    "  Makie.band!(ax, nodesxₚ_gll, 𝒩_of_μₚ .- 3 * σ_part, 𝒩_of_μₚ .+ 3 * σ_part, label=\"3σ\", alpha=0.6)\n",
    "  Makie.band!(ax, nodesxₚ_gll, 𝒩_of_μₚ .- 2 * σ_part, 𝒩_of_μₚ .+ 2 * σ_part, label=\"2σ\", color=:darkgoldenrod, alpha=0.8)\n",
    "  Makie.band!(ax, nodesxₚ_gll, 𝒩_of_μₚ .- σ_part, 𝒩_of_μₚ .+ σ_part, label=\"σ\", color=:indigo, alpha=0.9)\n",
    "\n",
    "  for i in 1:length(nodesxₚ_gll)\n",
    "    hist!(ax, output_noised_g_part_samples[i, :], scale_to=0.1, offset=nodesxₚ_gll[i], direction=:x)\n",
    "  end\n",
    "  Makie.errorbars!(nodesxₚ_gll, 𝒩_of_μₚ, σ_part, color=range(0, 1, length=length(nodesxₚ_gll)), whiskerwidth=10)\n",
    "\n",
    "  add_interp_line(ax, output_𝒻ₚ, L\"g(\\mu)\", 3, 1.0)\n",
    "\n",
    "  add_interp_line(ax, output_noised_g_part_samples[:, first_samp], L\"\\mu + z_{%$first_samp}\", 1.5, 0.8)\n",
    "  add_interp_line(ax, output_noised_g_part_samples[:, second_samp], L\"\\mu + z_{%$second_samp}\", 1.5, 0.8)\n",
    "  add_interp_line(ax, output_noised_g_part_samples[:, third_samp], L\"\\mu + z_{%$third_samp}\", 1.5, 0.8)\n",
    "\n",
    "  Makie.scatter!(ax, nodesxₚ_gll, output_𝒻ₚ,\n",
    "    label=\"\\\"Sampled\\\" Data\";\n",
    "    markersize=12,\n",
    "    alpha=0.5,\n",
    "    strokewidth=2)\n",
    "  # Makie.scatter!(ax, nodesxₚ_gll, vec(𝒩_of_μₚ),\n",
    "  #   label=\"Neural Net Generated Data\";\n",
    "  #   markersize=6,\n",
    "  #   alpha=0.5,\n",
    "  #   strokewidth=2)\n",
    "  # axislegend(ax, position=:rb)\n",
    "  Makie.scatter!(ax, selected_points,\n",
    "    label=\"Four Samples\";\n",
    "    markersize=28,\n",
    "    alpha=1.0,\n",
    "    strokewidth=2,\n",
    "    color=c2)\n",
    "  fig[1, 2] = Legend(fig, ax, framevisible=false)\n",
    "  fig\n",
    "end"
   ]
  },
  {
   "cell_type": "code",
   "execution_count": null,
   "metadata": {},
   "outputs": [],
   "source": [
    "input_noised_f_part_samples"
   ]
  },
  {
   "cell_type": "code",
   "execution_count": null,
   "metadata": {},
   "outputs": [],
   "source": [
    "σ_part::Vector = zeros(length(μₚ))\n",
    "numericalMean_part::Vector = zeros(length(μₚ))\n",
    "for k in 1:31\n",
    "  fₖ::Vector = input_noised_f_part_samples[k, :]\n",
    "  σ_part[k] = std(fₖ)\n",
    "  numericalMean_part[k] = mean(fₖ)\n",
    "end\n",
    "\n",
    "c1 = Makie.wong_colors(0.5)[1]\n",
    "c2 = Makie.wong_colors(0.5)[2]\n",
    "c3 = Makie.wong_colors(0.5)[3]\n",
    "c4 = Makie.wong_colors(0.5)[4]\n",
    "c5 = Makie.wong_colors(0.5)[5]\n",
    "\n",
    "# selected_points = Point2f.([nodesxₚ_gll[8], nodesxₚ_gll[13], nodesxₚ_gll[17], nodesxₚ_gll[25]], [𝒩_of_μₚ[8], 𝒩_of_μₚ[13], 𝒩_of_μₚ[17], 𝒩_of_μₚ[25]])\n",
    "\n",
    "begin\n",
    "\n",
    "  fig = Makie.Figure(size=(1500, 1000), px_per_unit=2.5, fontsize=45)\n",
    "  ax = Makie.Axis(fig[1, 1];\n",
    "    xlabel=L\"x\",\n",
    "    ylabel=L\"f(x)\")\n",
    "  # title=\"Sample Curve f(x) = exp(sin(5x)) vs. Neural Net Solution, |β| ≤ $β, $num_layers Layers\")\n",
    "\n",
    "\n",
    "  Makie.band!(ax, nodesxₚ_gll, μₚ .- 3 * σ_part, μₚ .+ 3 * σ_part, label=\"3σ\", alpha=0.6)\n",
    "  Makie.band!(ax, nodesxₚ_gll, μₚ .- 2 * σ_part, μₚ .+ 2 * σ_part, label=\"2σ\", color=:darkgoldenrod, alpha=0.8)\n",
    "  Makie.band!(ax, nodesxₚ_gll, μₚ .- σ_part, μₚ .+ σ_part, label=\"σ\", color=:indigo, alpha=0.9)\n",
    "  # for i in 1:length(nodesxₚ_gll)\n",
    "  #   hist!(ax, input_noised_f_part_samples[i, :], scale_to=0.1, offset=nodesxₚ_gll[i], direction=:x)\n",
    "  # end\n",
    "  Makie.errorbars!(nodesxₚ_gll, μₚ, σ_part,\n",
    "    color=range(0, 1, length=length(nodesxₚ_gll)),\n",
    "    whiskerwidth=10)\n",
    "  add_interp_line(ax, input_𝒻ₚ, L\"\\mu\", 3, 1.0)\n",
    "  first_samp::Int = 7\n",
    "  second_samp::Int = 130\n",
    "  third_samp::Int = 51\n",
    "\n",
    "  add_interp_line(ax, input_𝒻ₚ + input_noised_f_part_samples[:, first_samp], L\"\\mu + z_{%$first_samp}\", 1.5, 0.8)\n",
    "  add_interp_line(ax, input_𝒻ₚ + input_noised_f_part_samples[:, second_samp], L\"\\mu + z_{%$second_samp}\", 1.5, 0.8)\n",
    "  add_interp_line(ax, input_𝒻ₚ + input_noised_f_part_samples[:, third_samp], L\"\\mu + z_{%$third_samp}\", 1.5, 0.8)\n",
    "  Makie.scatter!(ax, nodesxₚ_gll, input_𝒻ₚ,\n",
    "    label=\"\\\"Sampled\\\" Data\";\n",
    "    markersize=12,\n",
    "    alpha=0.5,\n",
    "    strokewidth=2)\n",
    "  # Makie.scatter!(ax, nodesxₚ_gll, vec(𝒩_of_μₚ),\n",
    "  #   label=\"Neural Net Generated Data\";\n",
    "  #   markersize=6,\n",
    "  #   alpha=0.5,\n",
    "  #   strokewidth=2)\n",
    "  # axislegend(ax, position=:rb)\n",
    "  # Makie.scatter!(ax, selected_points,\n",
    "  #   label=\"Four Samples (in order of index)\";\n",
    "  #   markersize=16,\n",
    "  #   alpha=1.0,\n",
    "  #   strokewidth=2,\n",
    "  #   color=c2)\n",
    "  # axislegend(ax, position=:rb)\n",
    "  fig[1, 2] = Legend(fig, ax, framevisible=false)\n",
    "  fig\n",
    "end"
   ]
  },
  {
   "cell_type": "code",
   "execution_count": null,
   "metadata": {},
   "outputs": [],
   "source": [
    "typeof(:transparent)"
   ]
  },
  {
   "cell_type": "code",
   "execution_count": null,
   "metadata": {},
   "outputs": [],
   "source": []
  },
  {
   "cell_type": "code",
   "execution_count": null,
   "metadata": {},
   "outputs": [],
   "source": [
    "# function test_func(x)\n",
    "#   return randn(length(x))\n",
    "# end\n",
    "# Nx = Ny = 10;\n",
    "Nx = Ny = 30;\n",
    "# num_samples = 10_000;\n",
    "num_samples = 10_000;\n",
    "# nodes_x, nodes_y, train_input_fns, train_output_fns = generate_data(Nx, Ny, test_func, test_operator, num_samples)\n",
    "point_selection = rand(1:num_samples);\n",
    "\n",
    "begin\n",
    "  input_data = input_noised_f_part_samples[:, point_selection]\n",
    "  # y_sol = train_output_fns[:, point_selection]\n",
    "  # 𝒩_of_μₚ, _ = model_2L(input_data, Θ_2L, layer_states_2L)\n",
    "\n",
    "  fig = Makie.Figure()\n",
    "  ax = Makie.Axis(fig[1, 1];\n",
    "    xlabel=\"x\",\n",
    "    ylabel=L\"y = N(f(x))\",\n",
    "    title=\"Random Sample Curve $point_selection\")\n",
    "\n",
    "  add_interp_line(ax, input_data)\n",
    "  Makie.scatter!(ax, nodes_x, input_data,\n",
    "    label=\"\\\"Sampled\\\" Data\";\n",
    "    markersize=12,\n",
    "    alpha=0.5,\n",
    "    strokewidth=2)\n",
    "\n",
    "  Makie.errorbars!(nodes_x, input_data, β * ones(31),\n",
    "    color=range(0, 1, length=length(nodesxₚ_gll)),\n",
    "    whiskerwidth=10)\n",
    "\n",
    "  axislegend(ax)\n",
    "  fig\n",
    "\n",
    "end"
   ]
  },
  {
   "cell_type": "code",
   "execution_count": null,
   "metadata": {},
   "outputs": [],
   "source": [
    "isapprox(numericalMean_part, 𝒩ₙₙ2L(μₚ), rtol=0.1)"
   ]
  },
  {
   "cell_type": "code",
   "execution_count": null,
   "metadata": {},
   "outputs": [],
   "source": [
    "β::Real = 0.1\n",
    "# β::Real = 1.5\n",
    "μₚ::Vector = input_𝒻ₚLLin;\n",
    "uniform_distrib::Uniform{Float64} = Uniform(-β, β);\n",
    "num_nonHidden_layer::Int = 1;\n",
    "num_layers::Int = length(keys(𝚯_localLin1L)) - num_nonHidden_layer;"
   ]
  },
  {
   "cell_type": "code",
   "execution_count": null,
   "metadata": {},
   "outputs": [],
   "source": [
    "# selection = 14\n",
    "selection = rand(1:31);\n",
    "Selected𝒩ₙₙ = 𝒩ₙₙLLin1L;\n",
    "𝒩_of_μₚ::Vector = Selected𝒩ₙₙ(μₚ);\n",
    "\n",
    "input_noised_f_part_samples, output_noised_g_part_samples = generate_noised_samples(μₚ;\n",
    "  𝒩ₙₙ=Selected𝒩ₙₙ,\n",
    "  # input_data=input_𝒻ₚ,\n",
    "  # output_data=output_𝒻ₚ,\n",
    "  noise_pdf=uniform_distrib)\n",
    "\n",
    "gₖ::Vector = output_noised_g_part_samples[selection, :]\n",
    "mean_gk::Real = mean(gₖ)\n",
    "\n",
    "gk_of_μ::Real = 𝒩_of_μₚ[selection];\n",
    "begin\n",
    "  fig = Figure()\n",
    "  ax = Makie.Axis(fig[1, 1];\n",
    "    xlabel=L\"g_{%$selection} = [\\mathcal{N}(f(μ \\pm \\beta)]\",\n",
    "    ylabel=L\"p(g_{%$selection})\",\n",
    "    title=L\"\\text{(%$num_layers layers) Histogram of } p(g_{%$selection})\")\n",
    "  hist!(ax, gₖ, normalization=:pdf, bins=100,\n",
    "    label_formatter=x -> round(x, digits=2), label_size=15,\n",
    "    strokewidth=0.5, strokecolor=(:black, 0.5), color=:values)\n",
    "  CairoMakie.vlines!(ax, mean(gₖ), label=\"Mean g_k = $mean_gk\", linestyle=:dash)\n",
    "  # axislegend(ax)\n",
    "\n",
    "  ax2 = Makie.Axis(fig[1, 2];\n",
    "    xlabel=L\"g_{%$selection} = [\\mathcal{N}(f(μ \\pm \\beta)]\",\n",
    "    ylabel=L\"p(g_j)\",\n",
    "    title=L\"\\text{(%$num_layers layers) KDE of } p(g_%$selection)\")\n",
    "  Makie.density!(gₖ)\n",
    "  CairoMakie.vlines!(ax2, mean(gₖ), label=\"Mean g_k = $mean_gk\", linestyle=:dash)\n",
    "  # axislegend(ax2)\n",
    "  CairoMakie.vlines!(ax2, 𝒩_of_μₚ[selection], label=\"Mean g_k = $gk_of_μ\", linestyle=:dash)\n",
    "\n",
    "  # legendax = Makie.Axis(fig[1, 3];\n",
    "  #   xlabel=\"\",\n",
    "  #   ylabel=\"\",\n",
    "  #   title=L\"\\text{(%$num_layers layers) KDE of } p(g_%$selection)\")\n",
    "  # axislegend(legendax)\n",
    "\n",
    "  fig\n",
    "end"
   ]
  },
  {
   "cell_type": "code",
   "execution_count": null,
   "metadata": {},
   "outputs": [],
   "source": [
    "σ_part::Vector = zeros(length(input_data))\n",
    "numericalMean_part::Vector = zeros(length(input_data))\n",
    "for k in 1:31\n",
    "  gₖ::Vector = output_noised_g_part_samples[k, :]\n",
    "  σ_part[k] = std(gₖ)\n",
    "  numericalMean_part[k] = mean(gₖ)\n",
    "end\n",
    "\n",
    "c1 = Makie.wong_colors(0.5)[1]\n",
    "c2 = Makie.wong_colors(0.5)[2]\n",
    "c3 = Makie.wong_colors(0.5)[3]\n",
    "c4 = Makie.wong_colors(0.5)[4]\n",
    "c5 = Makie.wong_colors(0.5)[5]\n",
    "\n",
    "selected_points = Point2f.([nodesxₚ_gllLLin[8], nodesxₚ_gllLLin[13], nodesxₚ_gllLLin[17], nodesxₚ_gllLLin[25]], [𝒩_of_μₚ[8], 𝒩_of_μₚ[13], 𝒩_of_μₚ[17], 𝒩_of_μₚ[25]])\n",
    "\n",
    "begin\n",
    "\n",
    "  fig = Makie.Figure(px_per_unit=2.5, fontsize=12)\n",
    "  ax = Makie.Axis(fig[1, 1];\n",
    "    xlabel=L\"y\",\n",
    "    ylabel=L\"g(y) = N(f(x))\",\n",
    "    title=\"Sample Curve f(x) = exp(sin(5x)) vs. Neural Net Solution, |β| ≤ $β, $num_layers Layers\")\n",
    "\n",
    "\n",
    "  Makie.band!(ax, nodesxₚ_gllLLin, 𝒩_of_μₚ .- 3 * σ_part, 𝒩_of_μₚ .+ 3 * σ_part, label=\"3σ\", alpha=0.6)\n",
    "  Makie.band!(ax, nodesxₚ_gllLLin, 𝒩_of_μₚ .- 2 * σ_part, 𝒩_of_μₚ .+ 2 * σ_part, label=\"2σ\", color=:darkgoldenrod, alpha=0.8)\n",
    "  Makie.band!(ax, nodesxₚ_gllLLin, 𝒩_of_μₚ .- σ_part, 𝒩_of_μₚ .+ σ_part, label=\"σ\", color=:indigo, alpha=0.9)\n",
    "  for i in 1:length(nodesxₚ_gllLLin)\n",
    "    hist!(ax, output_noised_g_part_samples[i, :], scale_to=0.1, offset=nodesxₚ_gllLLin[i], direction=:x)\n",
    "  end\n",
    "  Makie.errorbars!(nodesxₚ_gllLLin, 𝒩_of_μₚ, σ_part,\n",
    "    color=range(0, 1, length=length(nodesxₚ_gllLLin)),\n",
    "    whiskerwidth=10)\n",
    "  add_interp_line(ax, output_𝒻ₚLLin)\n",
    "  Makie.scatter!(ax, nodesxₚ_gllLLin, output_𝒻ₚLLin,\n",
    "    label=\"\\\"Sampled\\\" Data\";\n",
    "    markersize=12,\n",
    "    alpha=0.5,\n",
    "    strokewidth=2)\n",
    "  # Makie.scatter!(ax, nodesxₚ_gll, vec(𝒩_of_μₚ),\n",
    "  #   label=\"Neural Net Generated Data\";\n",
    "  #   markersize=6,\n",
    "  #   alpha=0.5,\n",
    "  #   strokewidth=2)\n",
    "  # axislegend(ax, position=:rb)\n",
    "  Makie.scatter!(ax, selected_points,\n",
    "    label=\"Four Samples (in order of index)\";\n",
    "    markersize=16,\n",
    "    alpha=1.0,\n",
    "    strokewidth=2,\n",
    "    color=c2)\n",
    "  axislegend(ax, position=:rb)\n",
    "  fig\n",
    "end"
   ]
  },
  {
   "cell_type": "code",
   "execution_count": null,
   "metadata": {},
   "outputs": [],
   "source": [
    "[3:20] isa Vector{UnitRange{Int64}}"
   ]
  },
  {
   "cell_type": "code",
   "execution_count": null,
   "metadata": {},
   "outputs": [],
   "source": [
    "plot_inputoutput_curves(𝒻ₚ_gllLLin, 𝒩ₙₙLLin1L, 𝚯_localLin1L)"
   ]
  },
  {
   "cell_type": "code",
   "execution_count": null,
   "metadata": {},
   "outputs": [],
   "source": []
  },
  {
   "cell_type": "code",
   "execution_count": null,
   "metadata": {},
   "outputs": [],
   "source": [
    "DataFrame(\"𝒩ₙₙ2L(μₚ)\" => 𝒩ₙₙ2L(μₚ),\n",
    "  \"𝔼{g(μₚ)} = 𝔼{𝒩∘f(μₚ)}\" => numericalMean_part,\n",
    "  \"Error\" => abs.(𝒩ₙₙ2L(μₚ) .- numericalMean_part))"
   ]
  },
  {
   "cell_type": "markdown",
   "metadata": {},
   "source": [
    "# Face Splitting product:"
   ]
  },
  {
   "cell_type": "code",
   "execution_count": null,
   "metadata": {},
   "outputs": [],
   "source": [
    "function ⊡(A::AbstractArray, B::AbstractArray)\n",
    "  m = size(A, 1)\n",
    "  nA = size(A, 2)\n",
    "  nB = size(B, 2)\n",
    "\n",
    "  # Preallocate the result matrix.\n",
    "  result = Array{eltype(kron(A[1, :], B[1, :]))}(undef, m, nA * nB)\n",
    "\n",
    "  # Compute the row-wise (face-splitting) product.\n",
    "  for i in 1:m\n",
    "    result[i, :] = kron(A[i, :], B[i, :])\n",
    "  end\n",
    "\n",
    "  return result\n",
    "end\n"
   ]
  },
  {
   "cell_type": "markdown",
   "metadata": {},
   "source": [
    "### Testing Linear Term in Analytical Expression with Autodiff Results:"
   ]
  },
  {
   "cell_type": "code",
   "execution_count": null,
   "metadata": {},
   "outputs": [],
   "source": [
    "oftf(x, y) = oftype(float(x), y)\n",
    "heaviside(x)::Float64 = x >= 0 ? 1.0 : 0.0\n",
    "α_lrelu::Float64 = 0.01\n",
    "ϕꜝ(x; a=oftf(x, α_lrelu)) = heaviside(x) - a * (1.0 - heaviside(x))"
   ]
  },
  {
   "cell_type": "code",
   "execution_count": null,
   "metadata": {},
   "outputs": [],
   "source": [
    "# F₁1L(v)::Vector = ϕ.(W_01L * v + b_01L)\n",
    "F₁1L_test(z)::Vector = ϕ.(𝐖_1L[1] * (input_𝒻ₚ + z) + 𝐛_1L[1])\n",
    "\n",
    "∂𝐳F₁ₗ_test(z)::Matrix = Zygote.jacobian(z -> F₁1L(z), z)[1]"
   ]
  },
  {
   "cell_type": "code",
   "execution_count": null,
   "metadata": {},
   "outputs": [],
   "source": [
    "𝐳_test = input_noised_f_part_samples[:,1]\n",
    "∂𝐳F₁ₗ_test(𝐳_test)"
   ]
  },
  {
   "cell_type": "code",
   "execution_count": null,
   "metadata": {},
   "outputs": [],
   "source": [
    "⊡(ϕꜝ.(𝐖_1L[1] * input_𝒻ₚ + 𝐛_1L[1]), 𝐖_1L[1])"
   ]
  },
  {
   "cell_type": "code",
   "execution_count": null,
   "metadata": {},
   "outputs": [],
   "source": [
    "∂𝐳F₂ₗ(input_𝒻ₚ)"
   ]
  },
  {
   "cell_type": "code",
   "execution_count": null,
   "metadata": {},
   "outputs": [],
   "source": [
    "⊡(ϕꜝ.(𝐖_2L[2] * ϕ.(𝐖_2L[1] * input_𝒻ₚ + 𝐛_2L[1]) + 𝐛_2L[2]), 𝐖_2L[2]) * ⊡(ϕꜝ.(𝐖_2L[1] * input_𝒻ₚ + 𝐛_2L[1]), 𝐖_2L[1])"
   ]
  },
  {
   "cell_type": "code",
   "execution_count": null,
   "metadata": {},
   "outputs": [],
   "source": []
  },
  {
   "cell_type": "markdown",
   "metadata": {},
   "source": [
    "# This is the definition of leakyrelu activation function from the NNLib library that is used:\n",
    "\n",
    "```julia\n",
    "leakyrelu(x, a=oftf(x, leakyrelu_a)) = ifelse(x>0, float(x), oftf(x, a*x))  # max(a*x, x) is 3x slower\n",
    "\n",
    "const leakyrelu_a = 0.01  # also used in gradient below\n",
    "```\n"
   ]
  },
  {
   "cell_type": "code",
   "execution_count": null,
   "metadata": {},
   "outputs": [],
   "source": [
    "# of type float (to allow for integer inputs)\n",
    "oftf(x, y) = oftype(float(x), y)\n",
    "const leakyrelu_a::Float64 = 0.01  # also used in gradient below\n",
    "leakyrelu_deriv(x, a=oftf(x, leakyrelu_a)) = ifelse(x > 0, 1.0, oftf(1.0, a))  # max(a*x, x) is 3x slower\n",
    "# \"\"\"\n",
    "# heaviside function definition inspired from:  https://mth229.github.io/functions.html\n",
    "# \"\"\"\n",
    "# This is wrong:\n",
    "# heaviside(x) =  x > 0 ? 1.0 :\n",
    "#                 x == 0.0 ? 0.0 :\n",
    "#                 -1.0\n",
    "# rectangular(x, radius=1.0) = heaviside.(x .+ radius) - heaviside.(x .- radius)"
   ]
  },
  {
   "cell_type": "markdown",
   "metadata": {},
   "source": [
    "### Now defining:\n",
    "$\\omega(g_j) = g_j - \\bm{\\alpha}_j'\\bm{\\phi}(\\bm{W}_0\\bm{\\mu} + \\bm{b}_0)$\n",
    "\n",
    "$\\bm{\\phi}'(\\bm{W}_0 \\mu + \\bm{b}_0) = \\bm{\\phi}'(\\bm{W}_0 \\mu + \\bm{b}_0) $\n",
    "\n",
    "$\\bm{J} := \\bm{\\phi}'(\\bm{W}_0 \\mu + \\bm{b}_0)\\boxdot\\bm{W}_0$\n",
    "\n",
    "$\\bm{\\gamma} = \\bm{\\alpha}_j' \\bm{J}$\n",
    "\n",
    "or $\\bm{J}_{\\bm{z}}(\\bm{F}_0(\\bm{f}(\\bm{0})))\\bm{z}$,\n",
    "\n",
    "where recall $\\bm{F}_0(\\bm{f}(\\bm{0})) := \\bm{\\phi}(\\bm{W}_0 \\bm{f}(\\bm{0}) + \\bm{b}_0)$\n",
    "\n",
    "$\\bm{\\ell} = \\beta\\bm{\\gamma}$\n",
    "\n",
    "Where e.g. for the activation function we are using - Leaky ReLU - is defined to be:\n",
    "\n",
    "$$\n",
    "\\phi(x) = \\begin{cases}\n",
    "  x & x > 0, \\\\\n",
    "  0.01x & \\text{otherwise}.\n",
    "\\end{cases}\n",
    "$$\n",
    "and its derivative:\n",
    "$$\n",
    "\\phi'(x) = \\begin{cases}\n",
    "  1 & x > 0, \\\\\n",
    "  0.01 & \\text{otherwise}.\n",
    "\\end{cases}\n",
    "$$"
   ]
  },
  {
   "cell_type": "code",
   "execution_count": null,
   "metadata": {},
   "outputs": [],
   "source": [
    "test_xAxis::LinRange = LinRange(-2.0, 2.0, 100)\n",
    "\n",
    "lines(test_xAxis, heaviside.(test_xAxis))"
   ]
  },
  {
   "cell_type": "code",
   "execution_count": null,
   "metadata": {},
   "outputs": [],
   "source": [
    "# F₁1L(𝐯)::Vector = ϕ.(W_01L * 𝐯 + b_01L)\n",
    "# ∂zF0_1L(𝛍)::Matrix = Zygote.jacobian(𝛍 -> F₁1L(𝛍), 𝛍)[1]\n",
    "\n",
    "selection = rand(1:31);\n",
    "\n",
    "#===\n",
    "Recall the parameters we have:\n",
    "W_0 = Θ[:layer_1][:weight]  - First layer weight parameters\n",
    "𝐛_0 = Θ[:layer_1][:bias]    - First layer bias parameters\n",
    "A = Θ[:layer_2][:weight]    - Matrix of Output Weights\n",
    "===#\n",
    "# selection = 6\n",
    "g_analyt::Real = 𝒩_of_μₚ[selection]\n",
    "αⱼ::Vector = A1L[selection, :]\n",
    "\n",
    "Π(x; radius=1.0)::Vector = heaviside.(x .+ radius) - heaviside.(x .- radius)\n",
    "ω(gⱼ)::Real = gⱼ .- dot(αⱼ, ϕ.(W_01L * μₚ + b_01L))\n",
    "# ∂ϕ = leakyrelu_deriv.(W_01L * μₚ + b_01L)\n",
    "# J::Matrix = zeros(size(W_0))\n",
    "J::Matrix = ∂zF0_1L(μₚ)\n",
    "# for k in 1:(Nx+1)\n",
    "#   wₖ = W_0[:, k]\n",
    "#   J[:, k] = ∂ϕ .* wₖ\n",
    "# end\n",
    "Q::Matrix = A1L * J\n",
    "gₖ::Vector = output_noised_g_part_samples[selection, :]\n",
    "mean_gk::Real = mean(gₖ)\n",
    "\n",
    "γ::Vector = vec(αⱼ' * J)\n",
    "ℓ::Vector = β * γ"
   ]
  },
  {
   "cell_type": "code",
   "execution_count": null,
   "metadata": {},
   "outputs": [],
   "source": []
  },
  {
   "cell_type": "markdown",
   "metadata": {},
   "source": [
    "# Testing Moment Formulas"
   ]
  },
  {
   "cell_type": "code",
   "execution_count": null,
   "metadata": {},
   "outputs": [],
   "source": [
    "# output_vec(v)::Vector = A1L * ϕ.(W_01L * v + b_01L)\n",
    "output_vec(v)::Vector = A1L * F₁1L(v)\n",
    "ρ_out::Vector = output_vec(vec(μₚ))"
   ]
  },
  {
   "cell_type": "markdown",
   "metadata": {},
   "source": [
    "### Testing mean formula:\n",
    "\n",
    "$\\mathbb{E}\\{g_j\\} = \\phi(\\bm{w}'_j \\bm{\\mu} + \\bm{b_0}) + \\underbrace{\\bm{q_j'}}_{\\bm{\\alpha_j'}\\bm{J}}\\cdot\\bm{\\mu}$"
   ]
  },
  {
   "cell_type": "code",
   "execution_count": null,
   "metadata": {},
   "outputs": [],
   "source": [
    "𝔼gₖ::Real = ϕ(dot(W_01L[selection, :], μₚ) + b_01L[selection]) + dot(γ, μₚ)\n",
    "# σ.(W_0 * μₚ + b_0)\n",
    "# 𝔼gₖ = dot(A1L[selection, :], ϕ.(W_01L * μₚ + b_01L))"
   ]
  },
  {
   "cell_type": "code",
   "execution_count": null,
   "metadata": {},
   "outputs": [],
   "source": [
    "mean_gk"
   ]
  },
  {
   "cell_type": "code",
   "execution_count": null,
   "metadata": {},
   "outputs": [],
   "source": [
    "isapprox(mean_gk, 𝔼gₖ; rtol=1.0)"
   ]
  },
  {
   "cell_type": "code",
   "execution_count": null,
   "metadata": {},
   "outputs": [],
   "source": [
    "q_J::Matrix = Q[selection, :]"
   ]
  },
  {
   "cell_type": "markdown",
   "metadata": {},
   "source": [
    "### Product Formula:\n",
    "\n",
    "$$\\begin{aligned} \\mathbb{E}\\{g_i g_j\\} &= \\rho_i \\rho_j + (\\rho_i\\bm{q'}_j + \\rho_j\\bm{q'}_i)\\cdot\\mathbb{E}\\{z\\} + \\mathbb{E}\\{[\\bm{q'}_i\\cdot\\bm{z}][\\bm{q'}_j\\cdot\\bm{z}] \\} \\\\\n",
    "&= \\rho_i \\rho_j + \\frac{1}{3}\\bm{q}_{i}\\cdot\\bm{q}_{j} \\end{aligned}$$"
   ]
  },
  {
   "cell_type": "markdown",
   "metadata": {},
   "source": [
    "### Testing variance: "
   ]
  },
  {
   "cell_type": "markdown",
   "metadata": {},
   "source": [
    "<!-- $\\mathbb{E}\\{g_j\\} = \\phi(\\bm{w}'_j \\bm{\\mu} + \\bm{b_0}) + \\underbrace{\\bm{q_j'}}_{\\bm{\\alpha_j'}\\bm{J}}\\cdot\\bm{\\mu}$ -->\n",
    "\n",
    "<!-- $\\langle g_j^2 \\rangle_c &= \\expt{g_j^2} - \\expt{g_j}^2$ -->\n",
    "\n",
    "\n",
    "$\\langle g_j^2 \\rangle_c = \\mathbb{E}\\{g_j^2\\} - \\mathbb{E}\\{g_j\\}^2$"
   ]
  },
  {
   "cell_type": "code",
   "execution_count": null,
   "metadata": {},
   "outputs": [],
   "source": [
    "mean_from_formula(outputᵢ::Int)::Real = dot(A1L[outputᵢ, :], ϕ.(W_01L * μₚ + b_01L))"
   ]
  },
  {
   "cell_type": "code",
   "execution_count": null,
   "metadata": {},
   "outputs": [],
   "source": [
    "mean_prod(outputᵢ::Int, outputⱼ::Int)::Real = ρ_out[outputᵢ] * ρ_out[outputⱼ] + ((β^2) / 3.0) * dot(Q[outputᵢ, :], Q[outputⱼ, :])"
   ]
  },
  {
   "cell_type": "code",
   "execution_count": null,
   "metadata": {},
   "outputs": [],
   "source": [
    "# var_from_formula(outputᵢ::Int, outputⱼ::Int)::Real = ρ_out[outputᵢ] * ρ_out[outputⱼ] + ((β^2) / 3.0) * dot(Q[outputᵢ, :], Q[outputⱼ, :]) - 𝔼gₖ^2\n",
    "\n",
    "var_from_formula(outputᵢ::Int)::Real = mean_prod(outputᵢ, outputᵢ) - mean_from_formula(outputᵢ)^2"
   ]
  },
  {
   "cell_type": "code",
   "execution_count": null,
   "metadata": {},
   "outputs": [],
   "source": [
    "Cov_formula(outputᵢ::Int, outputⱼ::Int)::Real = mean_prod(outputᵢ, outputⱼ) - mean_from_formula(outputᵢ) * mean_from_formula(outputⱼ)"
   ]
  },
  {
   "cell_type": "code",
   "execution_count": null,
   "metadata": {},
   "outputs": [],
   "source": [
    "mean_from_formula(selection)^2"
   ]
  },
  {
   "cell_type": "code",
   "execution_count": null,
   "metadata": {},
   "outputs": [],
   "source": [
    "var_from_formula(selection)"
   ]
  },
  {
   "cell_type": "code",
   "execution_count": null,
   "metadata": {},
   "outputs": [],
   "source": [
    "var_numerical = var(gₖ)"
   ]
  },
  {
   "cell_type": "code",
   "execution_count": null,
   "metadata": {},
   "outputs": [],
   "source": [
    "σ_part[selection]^2"
   ]
  },
  {
   "cell_type": "code",
   "execution_count": null,
   "metadata": {},
   "outputs": [],
   "source": [
    "Cov_formula(1, 1)"
   ]
  },
  {
   "cell_type": "code",
   "execution_count": null,
   "metadata": {},
   "outputs": [],
   "source": [
    "isapprox(var_from_formula(selection), var_numerical; rtol=0.01)"
   ]
  },
  {
   "cell_type": "code",
   "execution_count": null,
   "metadata": {},
   "outputs": [],
   "source": [
    "Cov_formula(selection, selection) == var_from_formula(selection)"
   ]
  },
  {
   "cell_type": "code",
   "execution_count": null,
   "metadata": {},
   "outputs": [],
   "source": [
    "selectᵢ = selection - 1;\n",
    "selectⱼ = selection + 1;\n",
    "\n",
    "cov_from_formula = Cov_formula(selection - 1, selection + 1)"
   ]
  },
  {
   "cell_type": "code",
   "execution_count": null,
   "metadata": {},
   "outputs": [],
   "source": [
    "gᵢ = output_noised_g_part_samples[selection-1, :]\n",
    "gⱼ = output_noised_g_part_samples[selection+1, :]\n",
    "\n",
    "cov_numerical = cov(gᵢ, gⱼ)"
   ]
  },
  {
   "cell_type": "code",
   "execution_count": null,
   "metadata": {},
   "outputs": [],
   "source": [
    "isapprox(cov_numerical, cov_from_formula; rtol=0.01)"
   ]
  },
  {
   "cell_type": "markdown",
   "metadata": {},
   "source": [
    "### Let's try fourier transform of product of sinc functions instead."
   ]
  },
  {
   "cell_type": "code",
   "execution_count": null,
   "metadata": {},
   "outputs": [],
   "source": [
    "# Define the sinc function (normalized by π)\n",
    "sinc_func(x, γ) = sin(γ * x) / (γ * x)"
   ]
  },
  {
   "cell_type": "code",
   "execution_count": null,
   "metadata": {},
   "outputs": [],
   "source": [
    "# N = 1000  # Assume some number of points\n",
    "# x = LinRange(-100000, 100000, N)\n",
    "# dx = (x[end] - x[1]) / (N - 1)"
   ]
  },
  {
   "cell_type": "code",
   "execution_count": null,
   "metadata": {},
   "outputs": [],
   "source": [
    "length(x)"
   ]
  },
  {
   "cell_type": "code",
   "execution_count": null,
   "metadata": {},
   "outputs": [],
   "source": [
    "# N = length(gₖ)\n",
    "N = 1000\n",
    "L = N\n",
    "x = range(-L, L, length=N) #.+ dot(αⱼ, ϕ.(W_0 * μₚ + b_0))\n",
    "# Define the sinc function (normalized by π)\n",
    "sinc_func(x, γ) = sin(γ * x) / (γ * x)\n",
    "\n",
    "test_sinc_func = sinc_func.(x, ℓ[1]);\n",
    "# test_sinc_func = sinc_func.(x, (1.0 / π) * ℓ[1]);\n",
    "# sinc_values_formula = ((1.0 / π) * (1 / 2 * β))*sinc_func.(a_j_range, ℓ[1]);\n",
    "# amount = Nx+1\n",
    "amount = Nx + 1\n",
    "for k in 2:(amount)\n",
    "  sinc_values_k = sinc_func.(x, ℓ[k])\n",
    "  # sinc_values_k = sinc_func.(x, (1.0 / π) * ℓ[k])\n",
    "  test_sinc_func = test_sinc_func .* sinc_values_k\n",
    "end\n",
    "\n",
    "test_sinc_func = (2 * N) * (1.0 / (2.0 * π)) * test_sinc_func\n",
    "\n",
    "# test_sinc_func = (100 * N - 1) * (1.0 / (2.0 * π)) * test_sinc_func\n",
    "\n",
    "# Step 2: Perform the inverse Fourier transform\n",
    "inv_fourier = ift(test_sinc_func)"
   ]
  },
  {
   "cell_type": "markdown",
   "metadata": {},
   "source": [
    "# N-layer Marginals Computation:\n",
    "## - PDF via IDFT"
   ]
  },
  {
   "cell_type": "markdown",
   "metadata": {},
   "source": [
    "## Noise-Amp Selection:"
   ]
  },
  {
   "cell_type": "code",
   "execution_count": null,
   "metadata": {},
   "outputs": [],
   "source": [
    "# ### === Noise Generation\n",
    "\n",
    "# μₚ = input_𝒻ₚ;\n",
    "# # β::Float64 = 0.095\n",
    "# # β::Float64 = 0.9\n",
    "β::Real = 1.5\n",
    "\n",
    "uniform_distrib::Uniform{Float64} = Uniform(-β, β)\n",
    "\n",
    "# sample_indices = 1:8:29;\n",
    "# plot_positions = vec(collect(Iterators.product(1:2, 1:2)));\n",
    "\n",
    "\n"
   ]
  },
  {
   "cell_type": "markdown",
   "metadata": {},
   "source": [
    "## For 1 layer:"
   ]
  },
  {
   "cell_type": "code",
   "execution_count": null,
   "metadata": {},
   "outputs": [],
   "source": [
    "plot_output_marginals_noLegend(input_𝒻ₚ;\n",
    "  selection=17,\n",
    "  𝒩ₙₙNL=𝒩ₙₙ1L, 𝚯_NL=𝚯_1L, Fₙₗ=F₁1L, ∂𝐳Fₙₗ=∂𝐳F₁ₗ, β_noise=β, noise_distrib=uniform_distrib)"
   ]
  },
  {
   "cell_type": "code",
   "execution_count": null,
   "metadata": {},
   "outputs": [],
   "source": [
    "sample_indices = 1:9:19;\n",
    "plot_positions = vec(collect(Iterators.product(1:3, 1)));\n",
    "\n",
    "fig_1L::Makie.Figure, output_noised_g_part_samples_1L::Matrix = plot_output_marginals(input_𝒻ₚ, sample_indices, plot_positions;\n",
    "  𝒩ₙₙNL=𝒩ₙₙ1L, 𝚯_NL=𝚯_1L, Fₙₗ=F₁1L, ∂𝐳Fₙₗ=∂𝐳F₁ₗ, β_noise=β, noise_distrib=uniform_distrib)"
   ]
  },
  {
   "cell_type": "code",
   "execution_count": null,
   "metadata": {},
   "outputs": [],
   "source": [
    "fig_1L"
   ]
  },
  {
   "cell_type": "code",
   "execution_count": null,
   "metadata": {},
   "outputs": [],
   "source": [
    "save(joinpath(fig_results_path, \"Lin_1L_1__5.pdf\"), fig_1L; pt_per_unit=0.5)"
   ]
  },
  {
   "cell_type": "code",
   "execution_count": null,
   "metadata": {},
   "outputs": [],
   "source": [
    "cornerplot_fig::Makie.Figure = plot_output_cornerPlot(input_𝒻ₚ;\n",
    "  # selection=1,\n",
    "  𝒩ₙₙNL=𝒩ₙₙ1L, 𝚯_NL=𝚯_1L, Fₙₗ=F₁1L, ∂𝐳Fₙₗ=∂𝐳F₁ₗ, β_noise=β, noise_distrib=uniform_distrib)"
   ]
  },
  {
   "cell_type": "code",
   "execution_count": null,
   "metadata": {},
   "outputs": [],
   "source": [
    "save(joinpath(fig_results_path, \"CornerPlotLinOp1L.pdf\"), cornerplot_fig; pt_per_unit=0.5)"
   ]
  },
  {
   "cell_type": "code",
   "execution_count": null,
   "metadata": {},
   "outputs": [],
   "source": [
    "sample_indices = 1:2:29;\n",
    "plot_positions = vec(collect(Iterators.product(1:3, 1:3)));\n",
    "\n",
    "fig_1L::Makie.Figure = plot_output_marginals(input_𝒻ₚ, sample_indices, plot_positions;\n",
    "  𝒩ₙₙNL=𝒩ₙₙ1L, 𝚯_NL=𝚯_1L, Fₙₗ=F₁1L, ∂𝐳Fₙₗ=∂𝐳F₁ₗ, β_noise=β, noise_distrib=uniform_distrib)"
   ]
  },
  {
   "cell_type": "code",
   "execution_count": null,
   "metadata": {},
   "outputs": [],
   "source": [
    "save(joinpath(fig_results_path, \"Lin_1L_1__5.pdf\"), fig_1L; pt_per_unit=0.5)"
   ]
  },
  {
   "cell_type": "code",
   "execution_count": null,
   "metadata": {},
   "outputs": [],
   "source": [
    "plot_output_cornerPlot(input_𝒻ₚ;\n",
    "  # selection=1,\n",
    "  𝒩ₙₙNL=𝒩ₙₙ1L, 𝚯_NL=𝚯_1L, Fₙₗ=F₁1L, ∂𝐳Fₙₗ=∂𝐳F₁ₗ, β_noise=β, noise_distrib=uniform_distrib)"
   ]
  },
  {
   "cell_type": "code",
   "execution_count": null,
   "metadata": {},
   "outputs": [],
   "source": [
    "# sample_indices = 1:2:29;\n",
    "# plot_positions = vec(collect(Iterators.product(1:3, 1:5)));\n",
    "\n",
    "sample_indices = 1:8:29;\n",
    "plot_positions = vec(collect(Iterators.product(1:2, 1:2)));\n",
    "\n",
    "plot_output_marginals(input_𝒻ₚ,\n",
    "  sample_indices,\n",
    "  plot_positions; 𝒩ₙₙNL=𝒩ₙₙ1L, 𝚯_NL=𝚯_1L, Fₙₗ=F₁1L, ∂𝐳Fₙₗ=∂𝐳F₁ₗ, β_noise=β, noise_distrib=uniform_distrib)"
   ]
  },
  {
   "cell_type": "markdown",
   "metadata": {},
   "source": [
    "NOTE: Remove the titles from all figures, and put proper labels (the x-axis is correct, but p(g_j) should indicate the component)\n",
    "- Note again: make sure the font size *at least* as big as the caption size\n",
    "- Note: add 6-9 figures max to each plot\n",
    "  - choose 3 g's (e.g. g_1, g_3, g_19), and use them as representatives for the different number of layers for both operators)\n",
    "  - and plot the following: linear operator, nonlinear operator"
   ]
  },
  {
   "cell_type": "code",
   "execution_count": null,
   "metadata": {},
   "outputs": [],
   "source": [
    "# g_samples = output_noised_g_part_samples\n",
    "output_noised_g_part_samples_1L"
   ]
  },
  {
   "cell_type": "code",
   "execution_count": null,
   "metadata": {},
   "outputs": [],
   "source": [
    "# using MATLAB"
   ]
  },
  {
   "cell_type": "code",
   "execution_count": null,
   "metadata": {},
   "outputs": [],
   "source": [
    "\n",
    "# if ℒ_op == ℒ_lin\n",
    "#   write_matfile(\"~/Documents/MATLAB/Copula_code/1layer_test.mat\";\n",
    "#     g_samp_data=output_noised_g_part_samples_1L)\n",
    "# end\n",
    "\n",
    "# if ℒ_op == ℒ_nonlin\n",
    "#   write_matfile(\"~/Documents/MATLAB/Copula_code/1layer_test_firstNonlinear.mat\";\n",
    "#     g_samp_data=output_noised_g_part_samples_1L)\n",
    "# end"
   ]
  },
  {
   "cell_type": "code",
   "execution_count": null,
   "metadata": {},
   "outputs": [],
   "source": [
    "include(\"../Scripts/utils/plot_data.jl\")"
   ]
  },
  {
   "cell_type": "markdown",
   "metadata": {},
   "source": [
    "### 1 Layer - Local Linear Operator:"
   ]
  },
  {
   "cell_type": "code",
   "execution_count": null,
   "metadata": {},
   "outputs": [],
   "source": [
    "β::Real = 0.09\n",
    "uniform_distrib::Uniform{Float64} = Uniform(-β, β)\n",
    "\n",
    "plot_output_marginals(input_𝒻ₚLLin;\n",
    "  𝒩ₙₙNL=𝒩ₙₙLLin1L, 𝚯_NL=𝚯_localLin1L, Fₙₗ=FLLin₁ₗ, ∂𝐳Fₙₗ=∂𝐳FLLin₁ₗ, β_noise=β, noise_distrib=uniform_distrib)"
   ]
  },
  {
   "cell_type": "code",
   "execution_count": null,
   "metadata": {},
   "outputs": [],
   "source": [
    "sample_indices = 1:2:29;\n",
    "plot_positions = vec(collect(Iterators.product(1:3, 1:5)));\n",
    "\n",
    "plot_output_marginals(input_𝒻ₚLLin, sample_indices, plot_positions;\n",
    "  𝒩ₙₙNL=𝒩ₙₙLLin1L, 𝚯_NL=𝚯_localLin1L, Fₙₗ=FLLin₁ₗ, ∂𝐳Fₙₗ=∂𝐳FLLin₁ₗ, β_noise=β, noise_distrib=uniform_distrib)"
   ]
  },
  {
   "cell_type": "markdown",
   "metadata": {},
   "source": [
    "## For 2 layers:"
   ]
  },
  {
   "cell_type": "code",
   "execution_count": null,
   "metadata": {},
   "outputs": [],
   "source": [
    "plot_output_marginals(input_𝒻ₚ;\n",
    "  𝒩ₙₙNL=𝒩ₙₙ2L, 𝚯_NL=𝚯_2L, Fₙₗ=F₂ₗ, ∂𝐳Fₙₗ=∂𝐳F₂ₗ, β_noise=β, noise_distrib=uniform_distrib)"
   ]
  },
  {
   "cell_type": "code",
   "execution_count": null,
   "metadata": {},
   "outputs": [],
   "source": [
    "sample_indices = 1:2:29;\n",
    "plot_positions = vec(collect(Iterators.product(1:3, 1:5)));\n",
    "\n",
    "# sample_indices = 1:8:29;\n",
    "# plot_positions = vec(collect(Iterators.product(1:2, 1:2)));\n",
    "\n",
    "plot_output_marginals(input_𝒻ₚ, sample_indices, plot_positions;\n",
    "  𝒩ₙₙNL=𝒩ₙₙ2L, 𝚯_NL=𝚯_2L, Fₙₗ=F₂ₗ, ∂𝐳Fₙₗ=∂𝐳F₂ₗ, β_noise=β, noise_distrib=uniform_distrib)"
   ]
  },
  {
   "cell_type": "code",
   "execution_count": null,
   "metadata": {},
   "outputs": [],
   "source": [
    "plot_output_marginals(input_𝒻ₚ;\n",
    "  selection=25, 𝒩ₙₙNL=𝒩ₙₙ2L, 𝚯_NL=𝚯_2L, Fₙₗ=F₂ₗ, ∂𝐳Fₙₗ=∂𝐳F₂ₗ, β_noise=β, noise_distrib=uniform_distrib)"
   ]
  },
  {
   "cell_type": "code",
   "execution_count": null,
   "metadata": {},
   "outputs": [],
   "source": []
  },
  {
   "cell_type": "code",
   "execution_count": null,
   "metadata": {},
   "outputs": [],
   "source": [
    "# fig = Figure(size=(1000, 1550));\n",
    "fig = Makie.Figure(size=(1000, 1550), px_per_unit=2.5, fontsize=12)\n",
    "\n",
    "# input_noise_𝒻ₚ_samples, output_noised_g_part_samples_2L = generate_noised_samples(𝒩ₙₙ2L;\n",
    "#   input_data=input_𝒻ₚ,\n",
    "#   output_data=output_𝒻ₚ,\n",
    "#   noise_pdf=uniform_distrib)\n",
    "\n",
    "_, output_noised_g_part_samples_2L = generate_noised_samples(input_𝒻ₚ;\n",
    "  𝒩ₙₙ=𝒩ₙₙ2L,\n",
    "  noise_pdf=uniform_distrib)\n",
    "\n",
    "\n",
    "num_nonHidden_layers::Int = 1\n",
    "num_layers::Int = length(keys(𝚯_2L)) - num_nonHidden_layers\n",
    "\n",
    "#===\n",
    "Recall the parameters we have:\n",
    "===#\n",
    "# selection = 5;\n",
    "selection::Int = rand(1:length(input_𝒻ₚ))\n",
    "# g_analyt::Real = 𝒩_of_μₚ[selection]\n",
    "αⱼ2L::Vector = 𝐀_2L[selection, :]\n",
    "\n",
    "Π(x; radius=1.0)::Vector = heaviside.(x .+ radius) - heaviside.(x .- radius)\n",
    "ω(gⱼ)::Vector = gⱼ .- dot(αⱼ2L, F₂ₗ(μₚ))\n",
    "J::Matrix = ∂𝐳F₂ₗ(μₚ)\n",
    "Q::Matrix = 𝐀_2L * J\n",
    "q_j::Vector = Q[selection, :]\n",
    "gₖ::Vector = output_noised_g_part_samples_2L[selection, :]\n",
    "# mean_gk::Float64 = mean(gₖ)\n",
    "\n",
    "γ::Vector = vec(transpose(αⱼ2L) * J)\n",
    "ℓ::Vector = β * γ\n",
    "##=== Calculation of Approximated Moments\n",
    "\n",
    "ρ_out::Vector = 𝐀_2L * F₂ₗ(μₚ)\n",
    "\n",
    "mean_from_formula(outputᵢ::Int)::Real = dot(𝐀_2L[outputᵢ, :], F₂ₗ(μₚ))\n",
    "mean_prod(outputᵢ::Int, outputⱼ::Int)::Real = ρ_out[outputᵢ] * ρ_out[outputⱼ] + ((β^2) / 3.0) * dot(Q[outputᵢ, :], Q[outputⱼ, :])\n",
    "var_from_formula(outputᵢ::Int)::Real = mean_prod(outputᵢ, outputᵢ) - mean_from_formula(outputᵢ)^2\n",
    "Cov_formula(outputᵢ::Int, outputⱼ::Int)::Real = mean_prod(outputᵢ, outputⱼ) - mean_from_formula(outputᵢ) * mean_from_formula(outputⱼ)\n",
    "\n",
    "𝔼gₖ::Real = mean_from_formula(selection);\n",
    "𝕍gₖ::Real = var_from_formula(selection);\n",
    "\n",
    "##=== Calculation of Approximated Moments\n",
    "\n",
    "##=== Calculation of IFT\n",
    "N = 2048\n",
    "L = N / 2\n",
    "x = LinRange(-L, L, N)\n",
    "\n",
    "# Define the sinc function (normalized by π)\n",
    "sinc_func(x, γ) = sin(γ * x) / (γ * x)\n",
    "\n",
    "𝒻::Vector = N * (1.0 / (2.0 * π)) * Πsinc(ℓ, x; Npoints=Nx);\n",
    "\n",
    "# Step 2: Perform the inverse Fourier transform\n",
    "𝒻̂ = ift(𝒻)\n",
    "##=== Calculation of IFT\n",
    "\n",
    "begin\n",
    "  pdf_height = maximum(kde(gₖ).density)\n",
    "  fig = Figure()\n",
    "  ax = Makie.Axis(fig[1, 1];\n",
    "    limits=(mean(gₖ) - 3.0 * std(gₖ), mean(gₖ) + 3.0 * std(gₖ), 0, pdf_height + 1.0),\n",
    "    xlabel=L\"g_{%$selection} = \\mathcal{N}(f(μ_{%$selection} \\pm \\beta))\",\n",
    "    ylabel=L\"p(g_j)\",\n",
    "    title=L\"\\text{PDF of component %$selection of the outout } g_j:\\text{%$num_layers Layers}\")\n",
    "  hist!(ax, gₖ, normalization=:pdf, bins=100, label_formatter=x -> round(x, digits=2), label_size=15, strokewidth=0.5, strokecolor=(:black, 0.5), color=:values)\n",
    "\n",
    "  Makie.density!(gₖ, label=\"KDE Estimation\")\n",
    "\n",
    "  CairoMakie.lines!(ax, x * (π / L) .+ dot(αⱼ2L, F₂ₗ(μₚ)), abs.(𝒻̂), label=L\"\\mathcal{F}^{-1}(\\Pi_{k=1}^{%$(Nx+1)}sinc(\\ell_k a_{%$selection}))\", color=:darkgoldenrod, linewidth=3.5)\n",
    "  mean_value = Format.format(mean(gₖ), precision=4)\n",
    "  mean_val_from_formula = Format.format(𝔼gₖ, precision=4)\n",
    "  var_value = Format.format(var(gₖ), precision=4)\n",
    "  var_val_from_formula = Format.format(𝕍gₖ, precision=4)\n",
    "\n",
    "  CairoMakie.vlines!(ax, mean(gₖ), label=L\"\\mathbb{E}[g_k]_{\\text{num}} = %$mean_value\", linestyle=:dash)\n",
    "  CairoMakie.vlines!(ax, 𝔼gₖ, label=L\"\\mathbb{E}[g_k]_{\\text{formula}} = %$mean_val_from_formula\", linestyle=:dash)\n",
    "  CairoMakie.vlines!(ax, 𝔼gₖ, label=L\"\\mathbb{V}[g_k]_{\\text{num}} = %$var_value\", linestyle=:dash, color=:transparent)\n",
    "  CairoMakie.vlines!(ax, 𝔼gₖ, label=L\"\\mathbb{V}[g_k]_{\\text{formula}} = %$var_val_from_formula\", linestyle=:dash, color=:transparent)\n",
    "\n",
    "  # CURRENTLY BROKEN, wait for update to provide plot legend\n",
    "  # fig[1, 2] = Legend(fig, ax, \"Trig Functions\", framevisible = false)\n",
    "\n",
    "  fig\n",
    "end"
   ]
  },
  {
   "cell_type": "code",
   "execution_count": null,
   "metadata": {},
   "outputs": [],
   "source": [
    "fig = Makie.Figure(size=(1000, 1550), px_per_unit=2.5, fontsize=14);\n",
    "\n",
    "for (plot_coord, point_selection) in zip(plot_positions, sample_indices)\n",
    "  row = plot_coord[1] # actually col\n",
    "  col = plot_coord[2] # actually row\n",
    "\n",
    "  selection = point_selection\n",
    "  αⱼ2L::Vector = 𝐀_2L[selection, :]\n",
    "\n",
    "  # Π(x; radius=1.0)::Vector = heaviside.(x .+ radius) - heaviside.(x .- radius)\n",
    "  # ω(gⱼ)::Vector = gⱼ .- dot(αⱼ2L, F₂ₗ(μₚ))\n",
    "  # J::Matrix = ∂𝐳F₂ₗ(μₚ)\n",
    "  # Q::Matrix = 𝐀_2L * J\n",
    "  q_j::Vector = Q[selection, :]\n",
    "  gₖ::Vector = output_noised_g_part_samples_2L[selection, :]\n",
    "  # mean_gk::Float64 = mean(gₖ)\n",
    "\n",
    "  γ::Vector = vec(transpose(αⱼ2L) * J)\n",
    "  ℓ::Vector = β * γ\n",
    "\n",
    "  ##=== Calculation of Approximated Moments\n",
    "\n",
    "  ρ_out::Vector = 𝐀_2L * F₂ₗ(μₚ)\n",
    "\n",
    "  # 𝔼gₖ::Real = dot(𝐀_2L[selection, :], F₂ₗ(μₚ))\n",
    "  # var_from_formula = ρ_out[selection] * ρ_out[selection] + (1.0 / 3.0) * dot(q_j, q_j) * β^2 - 𝔼gₖ^2\n",
    "  𝔼gₖ::Real = mean_from_formula(selection)\n",
    "  𝕍gₖ::Real = var_from_formula(selection)\n",
    "\n",
    "\n",
    "  mean_from_formula(outputᵢ::Int)::Real = dot(𝐀_2L[outputᵢ, :], F₂ₗ(μₚ))\n",
    "  mean_prod(outputᵢ::Int, outputⱼ::Int)::Real = ρ_out[outputᵢ] * ρ_out[outputⱼ] + ((β^2) / 3.0) * dot(Q[outputᵢ, :], Q[outputⱼ, :])\n",
    "  var_from_formula(outputᵢ::Int)::Real = mean_prod(outputᵢ, outputᵢ) - mean_from_formula(outputᵢ)^2\n",
    "  Cov_formula(outputᵢ::Int, outputⱼ::Int)::Real = mean_prod(outputᵢ, outputⱼ) - mean_from_formula(outputᵢ) * mean_from_formula(outputⱼ)\n",
    "\n",
    "  # ##=== Calculation of Approximated Moments\n",
    "\n",
    "  ##=== Calculation of IFT\n",
    "  N = 2048\n",
    "  L = N / 2\n",
    "  x = LinRange(-L, L, N)\n",
    "\n",
    "  # Define the sinc function (normalized by π)\n",
    "  sinc_func(x, γ) = sin(γ * x) / (γ * x)\n",
    "\n",
    "  test_sinc_func = sinc_func.(x, ℓ[1])\n",
    "  amount = Nx + 1\n",
    "  for k in 2:(amount)\n",
    "    sinc_values_k = sinc_func.(x, ℓ[k])\n",
    "    test_sinc_func = test_sinc_func .* sinc_values_k\n",
    "  end\n",
    "\n",
    "  test_sinc_func = N * (1.0 / (2.0 * π)) * test_sinc_func\n",
    "\n",
    "  # Step 2: Perform the inverse Fourier transform\n",
    "  inv_fourier = ift(test_sinc_func)\n",
    "  ##=== Calculation of IFT\n",
    "\n",
    "  begin\n",
    "    pdf_height = maximum(kde(gₖ).density)\n",
    "    ax = Makie.Axis(fig[col, row];\n",
    "      # limits=(-0.6, 0.9, 0, 3),\n",
    "      limits=(mean(gₖ) - 3.0 * std(gₖ), mean(gₖ) + 3.0 * std(gₖ), 0, pdf_height + 1.0),\n",
    "      xlabel=L\"g_{%$selection} = \\mathcal{N}(f(μ_{%$selection} \\pm \\beta))\",\n",
    "      ylabel=L\"p(g_j)\",\n",
    "      title=L\"\\text{PDF of component %$selection of the outout } g_j:\\text{%$num_layers Layer}\")\n",
    "    hist!(ax, gₖ, normalization=:pdf, bins=100, label_formatter=x -> round(x, digits=2), label_size=15, strokewidth=0.5, strokecolor=(:black, 0.5), color=:values)\n",
    "\n",
    "    Makie.density!(gₖ, label=\"KDE Estimation\")\n",
    "\n",
    "    CairoMakie.lines!(ax, x * (π / L) .+ dot(αⱼ2L, F₂ₗ(μₚ)), abs.(inv_fourier), label=L\"\\mathcal{F}^{-1}(\\Pi_{k=1}^{%$(Nx+1)}sinc(\\ell_k a_{%$selection}))\", color=:darkgoldenrod, linewidth=3.5)\n",
    "    mean_value = format(mean(gₖ), precision=4)\n",
    "    mean_val_from_formula = format(𝔼gₖ, precision=4)\n",
    "    var_value = format(var(gₖ), precision=4)\n",
    "    var_val_from_formula = format(𝕍gₖ, precision=4)\n",
    "\n",
    "    CairoMakie.vlines!(ax, mean(gₖ), label=L\"\\mathbb{E}[g_k]_{\\text{num}} = %$mean_value\", linestyle=:dash)\n",
    "    CairoMakie.vlines!(ax, 𝔼gₖ, label=L\"\\mathbb{E}[g_k]_{\\text{formula}} = %$mean_val_from_formula\", linestyle=:dash)\n",
    "    CairoMakie.vlines!(ax, 𝔼gₖ, label=L\"\\mathbb{V}[g_k]_{\\text{num}} = %$var_value\", linestyle=:dash, color=:transparent)\n",
    "    CairoMakie.vlines!(ax, 𝔼gₖ, label=L\"\\mathbb{V}[g_k]_{\\text{formula}} = %$var_val_from_formula\", linestyle=:dash, color=:transparent)\n",
    "  end\n",
    "end\n",
    "fig"
   ]
  },
  {
   "cell_type": "markdown",
   "metadata": {},
   "source": []
  },
  {
   "cell_type": "code",
   "execution_count": null,
   "metadata": {},
   "outputs": [],
   "source": [
    "# g_samples = output_noised_g_part_samples\n",
    "output_noised_g_part_samples_2L"
   ]
  },
  {
   "cell_type": "code",
   "execution_count": null,
   "metadata": {},
   "outputs": [],
   "source": [
    "# # write_matfile(\"~/Documents/MATLAB/Copula_code/2layer_test.mat\";\n",
    "# #   g_samp_data=output_noised_g_part_samples_2L)\n",
    "\n",
    "# if ℒ_op == ℒ_lin\n",
    "#   write_matfile(\"~/Documents/MATLAB/Copula_code/2layer_test.mat\";\n",
    "#     g_samp_data=output_noised_g_part_samples_1L)\n",
    "# end\n",
    "\n",
    "# if ℒ_op == ℒ_nonlin\n",
    "#   write_matfile(\"~/Documents/MATLAB/Copula_code/2layer_test_firstNonlinear.mat\";\n",
    "#     g_samp_data=output_noised_g_part_samples_1L)\n",
    "# end"
   ]
  },
  {
   "cell_type": "code",
   "execution_count": null,
   "metadata": {},
   "outputs": [],
   "source": []
  },
  {
   "cell_type": "markdown",
   "metadata": {},
   "source": [
    "## For 3 layers:"
   ]
  },
  {
   "cell_type": "code",
   "execution_count": null,
   "metadata": {},
   "outputs": [],
   "source": [
    "β::Real = 2.0\n",
    "\n",
    "uniform_distrib::Uniform{Float64} = Uniform(-β, β)\n",
    "\n",
    "μₚ::Vector = input_𝒻ₚ;\n",
    "num_nonHidden_layer::Int = 1;\n",
    "num_layers::Int = length(keys(𝚯_3L)) - num_nonHidden_layer;\n",
    "\n",
    "# selection = 14\n",
    "selection = rand(1:31);\n",
    "Selected𝒩ₙₙ = 𝒩ₙₙ3L;\n",
    "𝒩_of_μₚ::Vector = Selected𝒩ₙₙ(μₚ);\n",
    "\n",
    "input_noised_f_part_samples, output_noised_g_part_samples = generate_noised_samples(μₚ;\n",
    "  𝒩ₙₙ=Selected𝒩ₙₙ,\n",
    "  # input_data=input_𝒻ₚ,\n",
    "  # output_data=output_𝒻ₚ,\n",
    "  noise_pdf=uniform_distrib)\n",
    "\n",
    "σ_part::Vector = zeros(length(μₚ))\n",
    "numericalMean_part::Vector = zeros(length(μₚ))\n",
    "for k in 1:31\n",
    "  gₖ::Vector = output_noised_g_part_samples[k, :]\n",
    "  σ_part[k] = std(gₖ)\n",
    "  numericalMean_part[k] = mean(gₖ)\n",
    "end\n",
    "\n",
    "\n",
    "fig_twocol = Makie.Figure(size=(1500, 1000), px_per_unit=0.5, fontsize=35);\n",
    "fig_3L_13, ax13 = plot_output_marginals_noLegend(fig_twocol, 1, 1, input_𝒻ₚ;\n",
    "  selection=13,\n",
    "  𝒩ₙₙNL=𝒩ₙₙ3L, 𝚯_NL=𝚯_3L, Fₙₗ=F₃ₗ, ∂𝐳Fₙₗ=∂𝐳F₃ₗ, β_noise=β, noise_distrib=uniform_distrib, chosen_offset=0.01)\n",
    "\n",
    "fig_3L_25, ax25 = plot_output_marginals_noLegend(fig_twocol, 2, 1, input_𝒻ₚ;\n",
    "  selection=25,\n",
    "  𝒩ₙₙNL=𝒩ₙₙ3L, 𝚯_NL=𝚯_3L, Fₙₗ=F₃ₗ, ∂𝐳Fₙₗ=∂𝐳F₃ₗ, β_noise=β, noise_distrib=uniform_distrib, chosen_offset=0.01)\n",
    "\n",
    "selected_points = Point2f.([nodesxₚ_gll[13], nodesxₚ_gll[25]], [𝒩_of_μₚ[13], 𝒩_of_μₚ[25]])\n",
    "# output_perturb_fig = Makie.Figure(size=(1500, 1000), px_per_unit=0.5, fontsize=35);\n",
    "\n",
    "begin\n",
    "  ax = Makie.Axis(fig_twocol[1:2, 2];\n",
    "    # limits=(-1.0, 1.1, -8, 5),\n",
    "    xlabel=L\"y\",\n",
    "    ylabel=L\"g(y)\")\n",
    "  # title=\"Sample Curve f(x) = exp(sin(5x)) vs. Neural Net Solution, |β| ≤ $β, $num_layers Layers\")\n",
    "\n",
    "\n",
    "  Makie.band!(ax, nodesxₚ_gll, 𝒩_of_μₚ .- 3 * σ_part, 𝒩_of_μₚ .+ 3 * σ_part, label=\"3σ\", alpha=0.55)\n",
    "  Makie.band!(ax, nodesxₚ_gll, 𝒩_of_μₚ .- 2 * σ_part, 𝒩_of_μₚ .+ 2 * σ_part, label=\"2σ\", color=:darkgoldenrod, alpha=0.55)\n",
    "  Makie.band!(ax, nodesxₚ_gll, 𝒩_of_μₚ .- σ_part, 𝒩_of_μₚ .+ σ_part, label=\"σ\", color=:indigo, alpha=0.55)\n",
    "\n",
    "  for i in 1:length(nodesxₚ_gll)\n",
    "    hist!(ax, output_noised_g_part_samples[i, :], scale_to=0.1, offset=nodesxₚ_gll[i], direction=:x)\n",
    "  end\n",
    "  Makie.errorbars!(nodesxₚ_gll, 𝒩_of_μₚ, σ_part, color=range(0, 1, length=length(nodesxₚ_gll)), whiskerwidth=10)\n",
    "\n",
    "  add_interp_line(ax, output_𝒻ₚ, L\"g(\\mu)\", 10.0, (:dash, :dense), :darkblue)\n",
    "\n",
    "  # add_interp_line(ax, output_noised_g_part_samples[:, first_samp], 3.0, 0.8; selected_color=:black)\n",
    "  # add_interp_line(ax, output_noised_g_part_samples[:, second_samp], 3.0, 0.8; selected_color=:black)\n",
    "  # add_interp_line(ax, output_noised_g_part_samples[:, third_samp], 3.0, 0.8; selected_color=:black)\n",
    "  first_samp::Int = 7\n",
    "  second_samp::Int = 130\n",
    "  third_samp::Int = 51\n",
    "\n",
    "  Makie.scatter!(ax, nodesxₚ_gll, output_𝒻ₚ,\n",
    "    label=\"\\\"Sampled\\\" Data\";\n",
    "    markersize=8,\n",
    "    alpha=0.5,\n",
    "    strokewidth=2)\n",
    "  # Makie.scatter!(ax, nodesxₚ_gll, vec(𝒩_of_μₚ),\n",
    "  #   label=\"Neural Net Generated Data\";\n",
    "  #   markersize=6,\n",
    "  #   alpha=0.5,\n",
    "  #   strokewidth=2)\n",
    "  # axislegend(ax, position=:rb)\n",
    "  Makie.scatter!(ax, selected_points,\n",
    "    label=\"Four Samples\";\n",
    "    markersize=35,\n",
    "    # alpha=10.0,\n",
    "    strokewidth=2,\n",
    "    color=c2)\n",
    "  # fig[1, 2] = Legend(fig, ax, framevisible=false)\n",
    "  fig_twocol\n",
    "end"
   ]
  },
  {
   "cell_type": "code",
   "execution_count": null,
   "metadata": {},
   "outputs": [],
   "source": [
    "save(joinpath(fig_results_path, \"Lin_3L_Comp1325_2__0.pdf\"), fig_twocol; pt_per_unit=0.5)"
   ]
  },
  {
   "cell_type": "code",
   "execution_count": null,
   "metadata": {},
   "outputs": [],
   "source": [
    "plot_output_marginals_noLegend(input_𝒻ₚ;\n",
    "  selection=8,\n",
    "  𝒩ₙₙNL=𝒩ₙₙ3L, 𝚯_NL=𝚯_3L, Fₙₗ=F₃ₗ, ∂𝐳Fₙₗ=∂𝐳F₃ₗ, β_noise=β, noise_distrib=uniform_distrib, chosen_offset=0.01)"
   ]
  },
  {
   "cell_type": "code",
   "execution_count": null,
   "metadata": {},
   "outputs": [],
   "source": [
    "sample_indices = 1:2:29;\n",
    "plot_positions = vec(collect(Iterators.product(1:3, 1:5)));\n",
    "\n",
    "# sample_indices = 1:8:29;\n",
    "# plot_positions = vec(collect(Iterators.product(1:2, 1:2)));\n",
    "\n",
    "plot_output_marginals(input_𝒻ₚ,\n",
    "  sample_indices,\n",
    "  plot_positions;\n",
    "  𝒩ₙₙNL=𝒩ₙₙ3L, 𝚯_NL=𝚯_3L, Fₙₗ=F₃ₗ, ∂𝐳Fₙₗ=∂𝐳F₃ₗ, β_noise=β, noise_distrib=uniform_distrib)"
   ]
  },
  {
   "cell_type": "code",
   "execution_count": null,
   "metadata": {},
   "outputs": [],
   "source": [
    "fig = Makie.Figure(size=(1000, 1550), px_per_unit=2.5, fontsize=14);\n",
    "\n",
    "input_noise_𝒻ₚ_samples, output_noised_g_part_samples_3L = generate_noised_samples(𝒩ₙₙ3L;\n",
    "  input_data=input_𝒻ₚ,\n",
    "  output_data=output_𝒻ₚ,\n",
    "  noise_pdf=uniform_distrib)\n",
    "\n",
    "num_nonHidden_layers::Int = 1\n",
    "num_layers::Int = length(keys(𝚯_3L)) - num_nonHidden_layers\n",
    "\n",
    "#===\n",
    "Recall the parameters we have:\n",
    "===#\n",
    "# selection = 14\n",
    "selection::Int = rand(1:length(input_𝒻ₚ))\n",
    "# g_analyt::Real = 𝒩_of_μₚ[selection]\n",
    "αⱼ3L::Vector = 𝐀_3L[selection, :]\n",
    "\n",
    "Π(x; radius=1.0)::Vector = heaviside.(x .+ radius) - heaviside.(x .- radius)\n",
    "ω(gⱼ)::Vector = gⱼ .- dot(αⱼ3L, F₃ₗ(μₚ))\n",
    "J::Matrix = ∂𝐳F₃ₗ(μₚ)\n",
    "Q::Matrix = 𝐀_3L * J\n",
    "q_j::Vector = Q[selection, :]\n",
    "gₖ::Vector = output_noised_g_part_samples_3L[selection, :]\n",
    "\n",
    "γ::Vector = vec(transpose(αⱼ3L) * J)\n",
    "ℓ::Vector = β * γ\n",
    "##=== Calculation of Approximated Moments\n",
    "\n",
    "ρ_out::Vector = 𝐀_3L * F₃ₗ(μₚ)\n",
    "\n",
    "mean_from_formula(outputᵢ::Int)::Real = dot(𝐀_3L[outputᵢ, :], F₃ₗ(μₚ))\n",
    "mean_prod(outputᵢ::Int, outputⱼ::Int)::Real = ρ_out[outputᵢ] * ρ_out[outputⱼ] + ((β^2) / 3.0) * dot(Q[outputᵢ, :], Q[outputⱼ, :])\n",
    "var_from_formula(outputᵢ::Int)::Real = mean_prod(outputᵢ, outputᵢ) - mean_from_formula(outputᵢ)^2\n",
    "Cov_formula(outputᵢ::Int, outputⱼ::Int)::Real = mean_prod(outputᵢ, outputⱼ) - mean_from_formula(outputᵢ) * mean_from_formula(outputⱼ)\n",
    "\n",
    "𝔼gₖ::Real = mean_from_formula(selection);\n",
    "𝕍gₖ::Real = var_from_formula(selection);\n",
    "\n",
    "##=== Calculation of Approximated Moments\n",
    "\n",
    "##=== Calculation of IFT\n",
    "N = 2048\n",
    "L = N / 2\n",
    "x = LinRange(-L, L, N)\n",
    "\n",
    "# Define the sinc function (normalized by π)\n",
    "sinc_func(x, γ) = sin(γ * x) / (γ * x)\n",
    "\n",
    "𝒻::Vector = N * (1.0 / (2.0 * π)) * Πsinc(ℓ, x; Npoints=Nx);\n",
    "\n",
    "# Step 2: Perform the inverse Fourier transform\n",
    "𝒻̂ = ift(𝒻)\n",
    "##=== Calculation of IFT\n",
    "\n",
    "begin\n",
    "  fig = Figure()\n",
    "  ax = Makie.Axis(fig[1, 1];\n",
    "    # limits=(-5.0, 5.0, 0, 3),\n",
    "    xlabel=L\"g_{%$selection} = \\mathcal{N}(f(μ_{%$selection} \\pm \\beta))\",\n",
    "    ylabel=L\"p(g_j)\",\n",
    "    title=L\"\\text{PDF of component %$selection of the outout } g_j:\\text{%$num_layers Layers}\")\n",
    "  hist!(ax, gₖ, normalization=:pdf, bins=100, label_formatter=x -> round(x, digits=2), label_size=15, strokewidth=0.5, strokecolor=(:black, 0.5), color=:values)\n",
    "\n",
    "  Makie.density!(gₖ, label=\"KDE Estimation\")\n",
    "\n",
    "  CairoMakie.lines!(ax, x * (π / L) .+ dot(αⱼ3L, F₃ₗ(μₚ)), abs.(𝒻̂), label=L\"\\mathcal{F}^{-1}(\\Pi_{k=1}^{%$(Nx+1)}sinc(\\ell_k a_{%$selection}))\", color=:darkgoldenrod, linewidth=3.5)\n",
    "  mean_value = format(mean(gₖ), precision=4)\n",
    "  mean_val_from_formula = format(𝔼gₖ, precision=4)\n",
    "  var_value = format(var(gₖ), precision=4)\n",
    "  var_val_from_formula = format(𝕍gₖ, precision=4)\n",
    "\n",
    "  CairoMakie.vlines!(ax, mean(gₖ), label=L\"\\mathbb{E}[g_k]_{\\text{num}} = %$mean_value\", linestyle=:dash)\n",
    "  CairoMakie.vlines!(ax, 𝔼gₖ, label=L\"\\mathbb{E}[g_k]_{\\text{formula}} = %$mean_val_from_formula\", linestyle=:dash)\n",
    "  CairoMakie.vlines!(ax, 𝔼gₖ, label=L\"\\mathbb{V}[g_k]_{\\text{num}} = %$var_value\", linestyle=:dash)\n",
    "  CairoMakie.vlines!(ax, 𝔼gₖ, label=L\"\\mathbb{V}[g_k]_{\\text{formula}} = %$var_val_from_formula\", linestyle=:dash)\n",
    "\n",
    "\n",
    "  # CURRENTLY BROKEN, wait for update to provide plot legend\n",
    "  # fig[1, 2] = Legend(fig, ax, \"Trig Functions\", framevisible = false)\n",
    "\n",
    "  fig\n",
    "end"
   ]
  },
  {
   "cell_type": "code",
   "execution_count": null,
   "metadata": {},
   "outputs": [],
   "source": [
    "fig = Makie.Figure(size=(1000, 1550), px_per_unit=2.5, fontsize=14);\n",
    "\n",
    "for (plot_coord, point_selection) in zip(plot_positions, sample_indices)\n",
    "  row = plot_coord[1] # actually col\n",
    "  col = plot_coord[2] # actually row\n",
    "\n",
    "  selection = point_selection\n",
    "  αⱼ3L::Vector = 𝐀_3L[selection, :]\n",
    "\n",
    "  Π(x; radius=1.0)::Vector = heaviside.(x .+ radius) - heaviside.(x .- radius)\n",
    "  ω(gⱼ)::Vector = gⱼ .- dot(αⱼ3L, F₃ₗ(μₚ))\n",
    "  J::Matrix = ∂𝐳F₃ₗ(μₚ)\n",
    "  Q::Matrix = 𝐀_3L * J\n",
    "  q_j::Vector = Q[selection, :]\n",
    "  gₖ::Vector = output_noised_g_part_samples_3L[selection, :]\n",
    "  # mean_gk::Float64 = mean(gₖ)\n",
    "\n",
    "  γ::Vector = vec(transpose(αⱼ3L) * J)\n",
    "  ℓ::Vector = β * γ\n",
    "  ##=== Calculation of Approximated Moments\n",
    "\n",
    "  ρ_out::Vector = 𝐀_3L * F₃ₗ(μₚ)\n",
    "\n",
    "  # 𝔼gₖ::Real = dot(𝐀_3L[selection, :], F₃ₗ(μₚ))\n",
    "  # var_from_formula = ρ_out[selection] * ρ_out[selection] + (1.0 / 3.0) * dot(q_j, q_j) * β^2 - 𝔼gₖ^2\n",
    "\n",
    "  # mean_from_formula(outputᵢ::Int)::Real = dot(𝐀_3L[outputᵢ, :], F₃ₗ(μₚ))\n",
    "  # mean_prod(outputᵢ::Int, outputⱼ::Int)::Real = ρ_out[outputᵢ] * ρ_out[outputⱼ] + ((β^2) / 3.0) * dot(Q[outputᵢ, :], Q[outputⱼ, :])\n",
    "  # var_from_formula(outputᵢ::Int)::Real = mean_prod(outputᵢ, outputᵢ) - mean_from_formula(outputᵢ)^2\n",
    "  # Cov_formula(outputᵢ::Int, outputⱼ::Int)::Real = mean_prod(outputᵢ, outputⱼ) - mean_from_formula(outputᵢ) * mean_from_formula(outputⱼ)\n",
    "\n",
    "  𝔼gₖ::Real = mean_from_formula(selection)\n",
    "  𝕍gₖ::Real = var_from_formula(selection)\n",
    "\n",
    "  ##=== Calculation of Approximated Moments\n",
    "\n",
    "  ##=== Calculation of IFT\n",
    "  N = 2048\n",
    "  L = N / 2\n",
    "  x = LinRange(-L, L, N)\n",
    "\n",
    "  # Define the sinc function (normalized by π)\n",
    "  sinc_func(x, γ) = sin(γ * x) / (γ * x)\n",
    "\n",
    "  test_sinc_func = sinc_func.(x, ℓ[1])\n",
    "  amount = Nx + 1\n",
    "  for k in 2:(amount)\n",
    "    sinc_values_k = sinc_func.(x, ℓ[k])\n",
    "    test_sinc_func = test_sinc_func .* sinc_values_k\n",
    "  end\n",
    "\n",
    "  test_sinc_func = N * (1.0 / (2.0 * π)) * test_sinc_func\n",
    "\n",
    "  # Step 2: Perform the inverse Fourier transform\n",
    "  inv_fourier = ift(test_sinc_func)\n",
    "  ##=== Calculation of IFT\n",
    "\n",
    "  begin\n",
    "    pdf_height = maximum(kde(gₖ).density)\n",
    "    ax = Makie.Axis(fig[col, row];\n",
    "      # limits=(-0.6, 0.9, 0, 3),\n",
    "      limits=(mean(gₖ) - 3.0 * std(gₖ), mean(gₖ) + 3.0 * std(gₖ), 0, pdf_height + 1.0),\n",
    "      xlabel=L\"g_{%$selection} = \\mathcal{N}(f(μ_{%$selection} \\pm \\beta))\",\n",
    "      ylabel=L\"p(g_j)\",\n",
    "      title=L\"\\text{PDF of component %$selection of the outout } g_j:\\text{%$num_layers Layer}\")\n",
    "    hist!(ax, gₖ, normalization=:pdf, bins=100, label_formatter=x -> round(x, digits=2), label_size=15, strokewidth=0.5, strokecolor=(:black, 0.5), color=:values)\n",
    "\n",
    "    Makie.density!(gₖ, label=\"KDE Estimation\")\n",
    "\n",
    "    CairoMakie.lines!(ax, x * (π / L) .+ dot(αⱼ3L, F₃ₗ(μₚ)), abs.(inv_fourier), label=L\"\\mathcal{F}^{-1}(\\Pi_{k=1}^{%$(Nx+1)}sinc(\\ell_k a_{%$selection}))\", color=:darkgoldenrod, linewidth=3.5)\n",
    "    mean_value = format(mean(gₖ), precision=4)\n",
    "    mean_val_from_formula = format(𝔼gₖ, precision=4)\n",
    "    var_value = format(var(gₖ), precision=4)\n",
    "    var_val_from_formula = format(𝕍gₖ, precision=4)\n",
    "\n",
    "    CairoMakie.vlines!(ax, mean(gₖ), label=L\"\\mathbb{E}[g_k]_{\\text{num}} = %$mean_value\", linestyle=:dash)\n",
    "    CairoMakie.vlines!(ax, 𝔼gₖ, label=L\"\\mathbb{E}[g_k]_{\\text{formula}} = %$mean_val_from_formula\", linestyle=:dash)\n",
    "    CairoMakie.vlines!(ax, 𝔼gₖ, label=L\"\\mathbb{V}[g_k]_{\\text{num}} = %$var_value\", linestyle=:dash)\n",
    "    CairoMakie.vlines!(ax, 𝔼gₖ, label=L\"\\mathbb{V}[g_k]_{\\text{formula}} = %$var_val_from_formula\", linestyle=:dash)\n",
    "\n",
    "  end\n",
    "end\n",
    "fig"
   ]
  },
  {
   "cell_type": "code",
   "execution_count": null,
   "metadata": {},
   "outputs": [],
   "source": [
    "# g_samples = output_noised_g_part_samples\n",
    "output_noised_g_part_samples_3L"
   ]
  },
  {
   "cell_type": "code",
   "execution_count": null,
   "metadata": {},
   "outputs": [],
   "source": [
    "# # write_matfile(\"~/Documents/MATLAB/Copula_code/3layer_test.mat\";\n",
    "# #   g_samp_data=output_noised_g_part_samples_3L)\n",
    "# if ℒ_op == ℒ_lin\n",
    "#   write_matfile(\"~/Documents/MATLAB/Copula_code/3layer_test.mat\";\n",
    "#     g_samp_data=output_noised_g_part_samples_1L)\n",
    "# end\n",
    "\n",
    "# if ℒ_op == ℒ_nonlin\n",
    "#   write_matfile(\"~/Documents/MATLAB/Copula_code/3layer_test_firstNonlinear.mat\";\n",
    "#     g_samp_data=output_noised_g_part_samples_1L)\n",
    "# end"
   ]
  },
  {
   "cell_type": "code",
   "execution_count": null,
   "metadata": {},
   "outputs": [],
   "source": []
  },
  {
   "cell_type": "code",
   "execution_count": null,
   "metadata": {},
   "outputs": [],
   "source": [
    "ℒ_op"
   ]
  },
  {
   "cell_type": "markdown",
   "metadata": {},
   "source": [
    "## For 5 layers:"
   ]
  },
  {
   "cell_type": "code",
   "execution_count": null,
   "metadata": {},
   "outputs": [],
   "source": [
    "plot_output_marginals_noLegend(input_𝒻ₚ;\n",
    "  selection=1,\n",
    "  𝒩ₙₙNL=𝒩ₙₙ5L, 𝚯_NL=𝚯_5L, Fₙₗ=F₅ₗ, ∂𝐳Fₙₗ=∂𝐳F₅ₗ, β_noise=β, noise_distrib=uniform_distrib)"
   ]
  },
  {
   "cell_type": "code",
   "execution_count": null,
   "metadata": {},
   "outputs": [],
   "source": [
    "sample_indices = 1:2:29;\n",
    "plot_positions = vec(collect(Iterators.product(1:3, 1:5)));\n",
    "\n",
    "\n",
    "\n",
    "plot_output_marginals(input_𝒻ₚ, sample_indices, plot_positions;\n",
    "  𝒩ₙₙNL=𝒩ₙₙ10L, 𝚯_NL=𝚯_10L, Fₙₗ=F₁₀ₗ, ∂𝐳Fₙₗ=∂𝐳F₁₀ₗ, β_noise=β, noise_distrib=uniform_distrib)"
   ]
  },
  {
   "cell_type": "code",
   "execution_count": null,
   "metadata": {},
   "outputs": [],
   "source": [
    "plot_output_marginals_noLegend(input_𝒻ₚ;\n",
    "  selection=1,\n",
    "  𝒩ₙₙNL=𝒩ₙₙ5L, 𝚯_NL=𝚯_5L, Fₙₗ=F₅ₗ, ∂𝐳Fₙₗ=∂𝐳F₅ₗ, β_noise=β, noise_distrib=uniform_distrib)"
   ]
  },
  {
   "cell_type": "code",
   "execution_count": null,
   "metadata": {},
   "outputs": [],
   "source": [
    "plot_output_marginals(input_𝒻ₚ,\n",
    "  sample_indices,\n",
    "  plot_positions;\n",
    "  𝒩ₙₙNL=𝒩ₙₙ5L, 𝚯_NL=𝚯_5L, Fₙₗ=F₅ₗ, ∂𝐳Fₙₗ=∂𝐳F₅ₗ, β_noise=β, noise_distrib=uniform_distrib)"
   ]
  },
  {
   "cell_type": "code",
   "execution_count": null,
   "metadata": {},
   "outputs": [],
   "source": [
    "fig = Makie.Figure(size=(1000, 1550), px_per_unit=2.5, fontsize=32);\n",
    "\n",
    "input_noise_𝒻ₚ_samples, output_noised_g_part_samples_5L = generate_noised_samples(𝒩ₙₙ5L;\n",
    "  input_data=input_𝒻ₚ,\n",
    "  output_data=output_𝒻ₚ,\n",
    "  noise_pdf=uniform_distrib)\n",
    "\n",
    "num_nonHidden_layers::Int = 1\n",
    "num_layers::Int = length(keys(𝚯_5L)) - num_nonHidden_layers\n",
    "\n",
    "#===\n",
    "Recall the parameters we have:\n",
    "===#\n",
    "# selection = 14\n",
    "# selection::Int = rand(1:length(input_𝒻ₚ))\n",
    "selection::Int = 22;\n",
    "# g_analyt::Real = 𝒩_of_μₚ[selection]\n",
    "αⱼ5L::Vector = 𝐀_5L[selection, :]\n",
    "\n",
    "Π(x; radius=1.0)::Vector = heaviside.(x .+ radius) - heaviside.(x .- radius)\n",
    "ω(gⱼ)::Vector = gⱼ .- dot(αⱼ5L, F₅ₗ(μₚ))\n",
    "J::Matrix = ∂𝐳F₅ₗ(μₚ)\n",
    "Q::Matrix = 𝐀_5L * J\n",
    "q_j::Vector = Q[selection, :]\n",
    "gₖ::Vector = output_noised_g_part_samples_5L[selection, :]\n",
    "\n",
    "γ::Vector = vec(transpose(αⱼ5L) * J)\n",
    "ℓ::Vector = β * γ\n",
    "##=== Calculation of Approximated Moments\n",
    "\n",
    "ρ_out::Vector = 𝐀_5L * F₅ₗ(μₚ)\n",
    "\n",
    "mean_from_formula(outputᵢ::Int)::Real = dot(𝐀_5L[outputᵢ, :], F₅ₗ(μₚ))\n",
    "mean_prod(outputᵢ::Int, outputⱼ::Int)::Real = ρ_out[outputᵢ] * ρ_out[outputⱼ] + ((β^2) / 3.0) * dot(Q[outputᵢ, :], Q[outputⱼ, :])\n",
    "var_from_formula(outputᵢ::Int)::Real = mean_prod(outputᵢ, outputᵢ) - mean_from_formula(outputᵢ)^2\n",
    "Cov_formula(outputᵢ::Int, outputⱼ::Int)::Real = mean_prod(outputᵢ, outputⱼ) - mean_from_formula(outputᵢ) * mean_from_formula(outputⱼ)\n",
    "\n",
    "𝔼gₖ::Real = mean_from_formula(selection);\n",
    "𝕍gₖ::Real = var_from_formula(selection);\n",
    "\n",
    "##=== Calculation of Approximated Moments\n",
    "\n",
    "##=== Calculation of IFT\n",
    "N = 2048\n",
    "L = N / 2\n",
    "x = LinRange(-L, L, N)\n",
    "\n",
    "# Define the sinc function (normalized by π)\n",
    "sinc_func(x, γ) = sin(γ * x) / (γ * x)\n",
    "\n",
    "𝒻::Vector = N * (1.0 / (2.0 * π)) * Πsinc(ℓ, x; Npoints=Nx);\n",
    "\n",
    "# Step 2: Perform the inverse Fourier transform\n",
    "𝒻̂ = ift(𝒻)\n",
    "##=== Calculation of IFT\n",
    "\n",
    "begin\n",
    "  pdf_height = maximum(kde(gₖ).density)\n",
    "  fig = Figure()\n",
    "  ax = Makie.Axis(fig[1, 1];\n",
    "    # limits=(-5.0, 5.0, 0, 3),\n",
    "    limits=(mean(gₖ) - 3.0 * std(gₖ), mean(gₖ) + 3.0 * std(gₖ), 0, pdf_height + 0.5),\n",
    "    xlabel=L\"g_{%$selection} = \\mathcal{N}(f(μ_{%$selection} \\pm \\beta))\",\n",
    "    ylabel=L\"p(g_j)\",\n",
    "    title=L\"\\text{PDF of component %$selection of the outout } g_j:\\text{ %$num_layers Layer}\")\n",
    "  hist!(ax, gₖ, normalization=:pdf, bins=100, label_formatter=x -> round(x, digits=2), label_size=15, strokewidth=0.5, strokecolor=(:black, 0.5), color=:values)\n",
    "\n",
    "  Makie.density!(gₖ, label=\"KDE Estimation\")\n",
    "\n",
    "  CairoMakie.lines!(ax, x * (π / L) .+ dot(αⱼ5L, F₅ₗ(μₚ)), abs.(𝒻̂), label=L\"\\mathcal{F}^{-1}(\\Pi_{k=1}^{%$(Nx+1)}sinc(\\ell_k a_{%$selection}))\", color=:darkgoldenrod, linewidth=3.5)\n",
    "  mean_value = format(mean(gₖ), precision=4)\n",
    "  mean_val_from_formula = format(𝔼gₖ, precision=4)\n",
    "  var_value = format(var(gₖ), precision=4)\n",
    "  var_val_from_formula = format(𝕍gₖ, precision=4)\n",
    "\n",
    "  CairoMakie.vlines!(ax, mean(gₖ), label=L\"\\mathbb{E}[g_k]_{\\text{num}} = %$mean_value\", linestyle=:dash)\n",
    "  CairoMakie.vlines!(ax, 𝔼gₖ, label=L\"\\mathbb{E}[g_k]_{\\text{formula}} = %$mean_val_from_formula\", linestyle=:dash)\n",
    "  CairoMakie.vlines!(ax, 𝔼gₖ, label=L\"\\mathbb{V}[g_k]_{\\text{num}} = %$var_value\", linestyle=:dash, color=:transparent)\n",
    "  CairoMakie.vlines!(ax, 𝔼gₖ, label=L\"\\mathbb{V}[g_k]_{\\text{formula}} = %$var_val_from_formula\", linestyle=:dash, color=:transparent)\n",
    "\n",
    "  # axislegend(ax; position=:lt)\n",
    "  # axislegend()\n",
    "\n",
    "  # CURRENTLY BROKEN, wait for update to provide plot legend\n",
    "  # fig[1, 2] = Legend(fig, ax, \"Trig Functions\", framevisible = false)\n",
    "\n",
    "  fig\n",
    "end"
   ]
  },
  {
   "cell_type": "code",
   "execution_count": null,
   "metadata": {},
   "outputs": [],
   "source": [
    "fig = Makie.Figure(size=(1000, 1550), px_per_unit=2.5, fontsize=14);\n",
    "\n",
    "for (plot_coord, point_selection) in zip(plot_positions, sample_indices)\n",
    "  row = plot_coord[1] # actually col\n",
    "  col = plot_coord[2] # actually row\n",
    "\n",
    "  selection = point_selection\n",
    "  αⱼ5L::Vector = 𝐀_5L[selection, :]\n",
    "\n",
    "  Π(x; radius=1.0)::Vector = heaviside.(x .+ radius) - heaviside.(x .- radius)\n",
    "  ω(gⱼ)::Vector = gⱼ .- dot(αⱼ5L, F₅ₗ(μₚ))\n",
    "  J::Matrix = ∂𝐳F₅ₗ(μₚ)\n",
    "  Q::Matrix = 𝐀_5L * J\n",
    "  q_j::Vector = Q[selection, :]\n",
    "  gₖ::Vector = output_noised_g_part_samples_5L[selection, :]\n",
    "  # mean_gk::Float64 = mean(gₖ)\n",
    "\n",
    "  γ::Vector = vec(transpose(αⱼ5L) * J)\n",
    "  ℓ::Vector = β * γ\n",
    "  ##=== Calculation of Approximated Moments\n",
    "\n",
    "  ρ_out::Vector = 𝐀_5L * F₅ₗ(μₚ)\n",
    "\n",
    "  𝔼gₖ::Real = mean_from_formula(selection)\n",
    "  𝕍gₖ::Real = var_from_formula(selection)\n",
    "\n",
    "  mean_from_formula(outputᵢ::Int)::Real = dot(𝐀_5L[outputᵢ, :], F₅ₗ(μₚ))\n",
    "  mean_prod(outputᵢ::Int, outputⱼ::Int)::Real = ρ_out[outputᵢ] * ρ_out[outputⱼ] + ((β^2) / 3.0) * dot(Q[outputᵢ, :], Q[outputⱼ, :])\n",
    "  var_from_formula(outputᵢ::Int)::Real = mean_prod(outputᵢ, outputᵢ) - mean_from_formula(outputᵢ)^2\n",
    "  Cov_formula(outputᵢ::Int, outputⱼ::Int)::Real = mean_prod(outputᵢ, outputⱼ) - mean_from_formula(outputᵢ) * mean_from_formula(outputⱼ)\n",
    "\n",
    "  ##=== Calculation of Approximated Moments\n",
    "\n",
    "  ##=== Calculation of IFT\n",
    "  N = 2048\n",
    "  L = N / 2\n",
    "  x = LinRange(-L, L, N)\n",
    "\n",
    "  # Define the sinc function (normalized by π)\n",
    "  sinc_func(x, γ) = sin(γ * x) / (γ * x)\n",
    "\n",
    "  𝒻::Vector = N * (1.0 / (2.0 * π)) * Πsinc(ℓ, x; Npoints=Nx)\n",
    "\n",
    "  # Step 2: Perform the inverse Fourier transform\n",
    "  𝒻̂ = ift(𝒻)\n",
    "  ##=== Calculation of IFT\n",
    "\n",
    "  begin\n",
    "    pdf_height = maximum(kde(gₖ).density)\n",
    "    ax = Makie.Axis(fig[col, row];\n",
    "      # limits=(-0.6, 0.9, 0, 3),\n",
    "      limits=(mean(gₖ) - 3.0 * std(gₖ), mean(gₖ) + 3.0 * std(gₖ), 0, pdf_height + 1.0),\n",
    "      # limits=(-0.6, 0.9, 0, 3),\n",
    "      xlabel=L\"g_{%$selection} = \\mathcal{N}(f(μ_{%$selection} \\pm \\beta))\",\n",
    "      ylabel=L\"p(g_j)\",\n",
    "      title=L\"\\text{PDF of component %$selection of the outout } g_j:\\text{%$num_layers Layer}\")\n",
    "    hist!(ax, gₖ, normalization=:pdf, bins=100, label_formatter=x -> round(x, digits=2), label_size=15, strokewidth=0.5, strokecolor=(:black, 0.5), color=:values)\n",
    "\n",
    "    Makie.density!(gₖ, label=\"KDE Estimation\")\n",
    "\n",
    "    CairoMakie.lines!(ax, x * (π / L) .+ dot(αⱼ5L, F₅ₗ(μₚ)), abs.(𝒻̂), label=L\"\\mathcal{F}^{-1}(\\Pi_{k=1}^{%$(Nx+1)}sinc(\\ell_k a_{%$selection}))\", color=:darkgoldenrod, linewidth=3.5)\n",
    "    mean_value = format(mean(gₖ), precision=4)\n",
    "    mean_val_from_formula = format(𝔼gₖ, precision=4)\n",
    "    var_value = format(var(gₖ), precision=4)\n",
    "    var_val_from_formula = format(𝕍gₖ, precision=4)\n",
    "\n",
    "    CairoMakie.vlines!(ax, mean(gₖ), label=L\"\\mathbb{E}[g_k]_{\\text{num}} = %$mean_value\", linestyle=:dash)\n",
    "    CairoMakie.vlines!(ax, 𝔼gₖ, label=L\"\\mathbb{E}[g_k]_{\\text{formula}} = %$mean_val_from_formula\", linestyle=:dash)\n",
    "    CairoMakie.vlines!(ax, 𝔼gₖ, label=L\"\\mathbb{V}[g_k]_{\\text{num}} = %$var_value\", linestyle=:dash, color=:transparent)\n",
    "    CairoMakie.vlines!(ax, 𝔼gₖ, label=L\"\\mathbb{V}[g_k]_{\\text{formula}} = %$var_val_from_formula\", linestyle=:dash, color=:transparent)\n",
    "  end\n",
    "end\n",
    "fig"
   ]
  },
  {
   "cell_type": "code",
   "execution_count": null,
   "metadata": {},
   "outputs": [],
   "source": [
    "# g_samples = output_noised_g_part_samples\n",
    "output_noised_g_part_samples_5L"
   ]
  },
  {
   "cell_type": "code",
   "execution_count": null,
   "metadata": {},
   "outputs": [],
   "source": [
    "write_matfile(\"~/Documents/MATLAB/Copula_code/5layer_test.mat\";\n",
    "  g_samp_data=output_noised_g_part_samples_5L)"
   ]
  },
  {
   "cell_type": "code",
   "execution_count": null,
   "metadata": {},
   "outputs": [],
   "source": []
  },
  {
   "cell_type": "markdown",
   "metadata": {},
   "source": [
    "## For 7 layers:"
   ]
  },
  {
   "cell_type": "code",
   "execution_count": null,
   "metadata": {},
   "outputs": [],
   "source": [
    "fig = Makie.Figure(size=(1000, 1550), px_per_unit=2.5, fontsize=32);\n",
    "\n",
    "input_noise_𝒻ₚ_samples, output_noised_g_part_samples_7L = generate_noised_samples(𝒩ₙₙ7L;\n",
    "  input_data=input_𝒻ₚ,\n",
    "  output_data=output_𝒻ₚ,\n",
    "  noise_pdf=uniform_distrib)\n",
    "\n",
    "num_nonHidden_layers::Int = 1\n",
    "num_layers::Int = length(keys(𝚯_7L)) - num_nonHidden_layers\n",
    "\n",
    "#===\n",
    "Recall the parameters we have:\n",
    "===#\n",
    "# selection = 14\n",
    "# selection::Int = rand(1:length(input_𝒻ₚ))\n",
    "selection::Int = 22;\n",
    "# g_analyt::Real = 𝒩_of_μₚ[selection]\n",
    "αⱼ7L::Vector = 𝐀_7L[selection, :]\n",
    "\n",
    "Π(x; radius=1.0)::Vector = heaviside.(x .+ radius) - heaviside.(x .- radius)\n",
    "ω(gⱼ)::Vector = gⱼ .- dot(αⱼ7L, F₇ₗ(μₚ))\n",
    "J::Matrix = ∂𝐳F₇ₗ(μₚ)\n",
    "Q::Matrix = 𝐀_7L * J\n",
    "q_j::Vector = Q[selection, :]\n",
    "gₖ::Vector = output_noised_g_part_samples_7L[selection, :]\n",
    "\n",
    "γ::Vector = vec(transpose(αⱼ7L) * J)\n",
    "ℓ::Vector = β * γ\n",
    "##=== Calculation of Approximated Moments\n",
    "\n",
    "ρ_out::Vector = 𝐀_7L * F₇ₗ(μₚ)\n",
    "\n",
    "mean_from_formula(outputᵢ::Int)::Real = dot(𝐀_7L[outputᵢ, :], F₇ₗ(μₚ))\n",
    "mean_prod(outputᵢ::Int, outputⱼ::Int)::Real = ρ_out[outputᵢ] * ρ_out[outputⱼ] + ((β^2) / 3.0) * dot(Q[outputᵢ, :], Q[outputⱼ, :])\n",
    "var_from_formula(outputᵢ::Int)::Real = mean_prod(outputᵢ, outputᵢ) - mean_from_formula(outputᵢ)^2\n",
    "Cov_formula(outputᵢ::Int, outputⱼ::Int)::Real = mean_prod(outputᵢ, outputⱼ) - mean_from_formula(outputᵢ) * mean_from_formula(outputⱼ)\n",
    "\n",
    "𝔼gₖ::Real = mean_from_formula(selection);\n",
    "𝕍gₖ::Real = var_from_formula(selection);\n",
    "\n",
    "##=== Calculation of Approximated Moments\n",
    "\n",
    "##=== Calculation of IFT\n",
    "N = 2048\n",
    "L = N / 2\n",
    "x = LinRange(-L, L, N)\n",
    "\n",
    "# Define the sinc function (normalized by π)\n",
    "sinc_func(x, γ) = sin(γ * x) / (γ * x)\n",
    "\n",
    "𝒻::Vector = N * (1.0 / (2.0 * π)) * Πsinc(ℓ, x; Npoints=Nx);\n",
    "\n",
    "# Step 2: Perform the inverse Fourier transform\n",
    "𝒻̂ = ift(𝒻)\n",
    "##=== Calculation of IFT\n",
    "\n",
    "begin\n",
    "  pdf_height = maximum(kde(gₖ).density)\n",
    "  fig = Figure()\n",
    "  ax = Makie.Axis(fig[1, 1];\n",
    "    # limits=(-5.0, 5.0, 0, 3),\n",
    "    limits=(mean(gₖ) - 3.0 * std(gₖ), mean(gₖ) + 3.0 * std(gₖ), 0, pdf_height + 0.5),\n",
    "    xlabel=L\"g_{%$selection} = \\mathcal{N}(f(μ_{%$selection} \\pm \\beta))\",\n",
    "    ylabel=L\"p(g_j)\",\n",
    "    title=L\"\\text{PDF of component %$selection of the outout } g_j:\\text{ %$num_layers Layer}\")\n",
    "  hist!(ax, gₖ, normalization=:pdf, bins=100, label_formatter=x -> round(x, digits=2), label_size=15, strokewidth=0.5, strokecolor=(:black, 0.5), color=:values)\n",
    "\n",
    "  Makie.density!(gₖ, label=\"KDE Estimation\")\n",
    "\n",
    "  CairoMakie.lines!(ax, x * (π / L) .+ dot(αⱼ7L, F₇ₗ(μₚ)), abs.(𝒻̂), label=L\"\\mathcal{F}^{-1}(\\Pi_{k=1}^{%$(Nx+1)}sinc(\\ell_k a_{%$selection}))\", color=:darkgoldenrod, linewidth=3.5)\n",
    "  mean_value = format(mean(gₖ), precision=4)\n",
    "  mean_val_from_formula = format(𝔼gₖ, precision=4)\n",
    "  var_value = format(var(gₖ), precision=4)\n",
    "  var_val_from_formula = format(𝕍gₖ, precision=4)\n",
    "\n",
    "  CairoMakie.vlines!(ax, mean(gₖ), label=L\"\\mathbb{E}[g_k]_{\\text{num}} = %$mean_value\", linestyle=:dash)\n",
    "  CairoMakie.vlines!(ax, 𝔼gₖ, label=L\"\\mathbb{E}[g_k]_{\\text{formula}} = %$mean_val_from_formula\", linestyle=:dash)\n",
    "  CairoMakie.vlines!(ax, 𝔼gₖ, label=L\"\\mathbb{V}[g_k]_{\\text{num}} = %$var_value\", linestyle=:dash, color=:transparent)\n",
    "  CairoMakie.vlines!(ax, 𝔼gₖ, label=L\"\\mathbb{V}[g_k]_{\\text{formula}} = %$var_val_from_formula\", linestyle=:dash, color=:transparent)\n",
    "\n",
    "  # axislegend(ax; position=:lt)\n",
    "  # axislegend()\n",
    "\n",
    "  # CURRENTLY BROKEN, wait for update to provide plot legend\n",
    "  # fig[1, 2] = Legend(fig, ax, \"Trig Functions\", framevisible = false)\n",
    "\n",
    "  fig\n",
    "end"
   ]
  },
  {
   "cell_type": "code",
   "execution_count": null,
   "metadata": {},
   "outputs": [],
   "source": [
    "fig = Makie.Figure(size=(1000, 1550), px_per_unit=2.5, fontsize=14);\n",
    "\n",
    "for (plot_coord, point_selection) in zip(plot_positions, sample_indices)\n",
    "  row = plot_coord[1] # actually col\n",
    "  col = plot_coord[2] # actually row\n",
    "\n",
    "  selection = point_selection\n",
    "  αⱼ7L::Vector = 𝐀_7L[selection, :]\n",
    "\n",
    "  Π(x; radius=1.0)::Vector = heaviside.(x .+ radius) - heaviside.(x .- radius)\n",
    "  ω(gⱼ)::Vector = gⱼ .- dot(αⱼ7L, F₇ₗ(μₚ))\n",
    "  J::Matrix = ∂𝐳F₇ₗ(μₚ)\n",
    "  Q::Matrix = 𝐀_7L * J\n",
    "  q_j::Vector = Q[selection, :]\n",
    "  gₖ::Vector = output_noised_g_part_samples_7L[selection, :]\n",
    "  # mean_gk::Float64 = mean(gₖ)\n",
    "\n",
    "  γ::Vector = vec(transpose(αⱼ7L) * J)\n",
    "  ℓ::Vector = β * γ\n",
    "  ##=== Calculation of Approximated Moments\n",
    "\n",
    "  ρ_out::Vector = 𝐀_7L * F₇ₗ(μₚ)\n",
    "\n",
    "  𝔼gₖ::Real = mean_from_formula(selection)\n",
    "  𝕍gₖ::Real = var_from_formula(selection)\n",
    "\n",
    "  mean_from_formula(outputᵢ::Int)::Real = dot(𝐀_7L[outputᵢ, :], F₇ₗ(μₚ))\n",
    "  mean_prod(outputᵢ::Int, outputⱼ::Int)::Real = ρ_out[outputᵢ] * ρ_out[outputⱼ] + ((β^2) / 3.0) * dot(Q[outputᵢ, :], Q[outputⱼ, :])\n",
    "  var_from_formula(outputᵢ::Int)::Real = mean_prod(outputᵢ, outputᵢ) - mean_from_formula(outputᵢ)^2\n",
    "  Cov_formula(outputᵢ::Int, outputⱼ::Int)::Real = mean_prod(outputᵢ, outputⱼ) - mean_from_formula(outputᵢ) * mean_from_formula(outputⱼ)\n",
    "\n",
    "  ##=== Calculation of Approximated Moments\n",
    "\n",
    "  ##=== Calculation of IFT\n",
    "  N = 2048\n",
    "  L = N / 2\n",
    "  x = LinRange(-L, L, N)\n",
    "\n",
    "  # Define the sinc function (normalized by π)\n",
    "  sinc_func(x, γ) = sin(γ * x) / (γ * x)\n",
    "\n",
    "  𝒻::Vector = N * (1.0 / (2.0 * π)) * Πsinc(ℓ, x; Npoints=Nx)\n",
    "\n",
    "  # Step 2: Perform the inverse Fourier transform\n",
    "  𝒻̂ = ift(𝒻)\n",
    "  ##=== Calculation of IFT\n",
    "\n",
    "  begin\n",
    "    pdf_height = maximum(kde(gₖ).density)\n",
    "    ax = Makie.Axis(fig[col, row];\n",
    "      # limits=(-0.6, 0.9, 0, 3),\n",
    "      limits=(mean(gₖ) - 3.0 * std(gₖ), mean(gₖ) + 3.0 * std(gₖ), 0, pdf_height + 1.0),\n",
    "      # limits=(-0.6, 0.9, 0, 3),\n",
    "      xlabel=L\"g_{%$selection} = \\mathcal{N}(f(μ_{%$selection} \\pm \\beta))\",\n",
    "      ylabel=L\"p(g_j)\",\n",
    "      title=L\"\\text{PDF of component %$selection of the outout } g_j:\\text{%$num_layers Layer}\")\n",
    "    hist!(ax, gₖ, normalization=:pdf, bins=100, label_formatter=x -> round(x, digits=2), label_size=15, strokewidth=0.5, strokecolor=(:black, 0.5), color=:values)\n",
    "\n",
    "    Makie.density!(gₖ, label=\"KDE Estimation\")\n",
    "\n",
    "    CairoMakie.lines!(ax, x * (π / L) .+ dot(αⱼ7L, F₇ₗ(μₚ)), abs.(𝒻̂), label=L\"\\mathcal{F}^{-1}(\\Pi_{k=1}^{%$(Nx+1)}sinc(\\ell_k a_{%$selection}))\", color=:darkgoldenrod, linewidth=3.5)\n",
    "    mean_value = format(mean(gₖ), precision=4)\n",
    "    mean_val_from_formula = format(𝔼gₖ, precision=4)\n",
    "    var_value = format(var(gₖ), precision=4)\n",
    "    var_val_from_formula = format(𝕍gₖ, precision=4)\n",
    "\n",
    "    CairoMakie.vlines!(ax, mean(gₖ), label=L\"\\mathbb{E}[g_k]_{\\text{num}} = %$mean_value\", linestyle=:dash)\n",
    "    CairoMakie.vlines!(ax, 𝔼gₖ, label=L\"\\mathbb{E}[g_k]_{\\text{formula}} = %$mean_val_from_formula\", linestyle=:dash)\n",
    "    CairoMakie.vlines!(ax, 𝔼gₖ, label=L\"\\mathbb{V}[g_k]_{\\text{num}} = %$var_value\", linestyle=:dash, color=:transparent)\n",
    "    CairoMakie.vlines!(ax, 𝔼gₖ, label=L\"\\mathbb{V}[g_k]_{\\text{formula}} = %$var_val_from_formula\", linestyle=:dash, color=:transparent)\n",
    "  end\n",
    "end\n",
    "fig"
   ]
  },
  {
   "cell_type": "code",
   "execution_count": null,
   "metadata": {},
   "outputs": [],
   "source": [
    "# g_samples = output_noised_g_part_samples\n",
    "output_noised_g_part_samples_7L"
   ]
  },
  {
   "cell_type": "code",
   "execution_count": null,
   "metadata": {},
   "outputs": [],
   "source": [
    "write_matfile(\"~/Documents/MATLAB/Copula_code/7layer_test.mat\";\n",
    "  g_samp_data=output_noised_g_part_samples_7L)"
   ]
  },
  {
   "cell_type": "code",
   "execution_count": null,
   "metadata": {},
   "outputs": [],
   "source": [
    "ℒ_op"
   ]
  },
  {
   "cell_type": "code",
   "execution_count": null,
   "metadata": {},
   "outputs": [],
   "source": [
    "plot_output_marginals_noLegend(input_𝒻ₚ;\n",
    "  selection=25,\n",
    "  𝒩ₙₙNL=𝒩ₙₙ10L, 𝚯_NL=𝚯_10L, Fₙₗ=F₁₀ₗ, ∂𝐳Fₙₗ=∂𝐳F₁₀ₗ, β_noise=β, noise_distrib=uniform_distrib, chosen_offset=0.05)"
   ]
  },
  {
   "cell_type": "markdown",
   "metadata": {},
   "source": [
    "## For 10 layers:"
   ]
  },
  {
   "cell_type": "code",
   "execution_count": null,
   "metadata": {},
   "outputs": [],
   "source": [
    "# sample_indices = 1:2:29;\n",
    "# plot_positions = vec(collect(Iterators.product(1:3, 1:3)));\n",
    "sample_indices = 1:9:19;\n",
    "plot_positions = vec(collect(Iterators.product(1:3, 1)));\n",
    "\n",
    "fig_10L::Makie.Figure, output_noised_g_part_samples_10L = plot_output_marginals(input_𝒻ₚ, sample_indices, plot_positions;\n",
    "  𝒩ₙₙNL=𝒩ₙₙ10L, 𝚯_NL=𝚯_10L, Fₙₗ=F₁₀ₗ, ∂𝐳Fₙₗ=∂𝐳F₁₀ₗ, β_noise=β, noise_distrib=uniform_distrib)"
   ]
  },
  {
   "cell_type": "code",
   "execution_count": null,
   "metadata": {},
   "outputs": [],
   "source": [
    "fig_10L"
   ]
  },
  {
   "cell_type": "code",
   "execution_count": null,
   "metadata": {},
   "outputs": [],
   "source": [
    "save(joinpath(fig_results_path, \"Lin_10L_1__5.pdf\"), fig_10L; pt_per_unit=0.5)"
   ]
  },
  {
   "cell_type": "code",
   "execution_count": null,
   "metadata": {},
   "outputs": [],
   "source": [
    "# g_samples = output_noised_g_part_samples\n",
    "output_noised_g_part_samples_10L"
   ]
  },
  {
   "cell_type": "code",
   "execution_count": null,
   "metadata": {},
   "outputs": [],
   "source": [
    "write_matfile(\"~/Documents/MATLAB/Copula_code/10layer_test.mat\";\n",
    "  g_samp_data=output_noised_g_part_samples_10L)"
   ]
  },
  {
   "cell_type": "code",
   "execution_count": null,
   "metadata": {},
   "outputs": [],
   "source": []
  },
  {
   "cell_type": "markdown",
   "metadata": {},
   "source": [
    "## For 12 layers:"
   ]
  },
  {
   "cell_type": "code",
   "execution_count": null,
   "metadata": {},
   "outputs": [],
   "source": [
    "fig = Makie.Figure(size=(1000, 1550), px_per_unit=2.5, fontsize=14);\n",
    "\n",
    "input_noise_𝒻ₚ_samples, output_noised_g_part_samples_12L = generate_noised_samples(𝒩ₙₙ12L;\n",
    "  input_data=input_𝒻ₚ,\n",
    "  output_data=output_𝒻ₚ,\n",
    "  noise_pdf=uniform_distrib)\n",
    "\n",
    "num_nonHidden_layers::Int = 1\n",
    "num_layers::Int = length(keys(𝚯_12L)) - num_nonHidden_layers\n",
    "\n",
    "#===\n",
    "Recall the parameters we have:\n",
    "===#\n",
    "# selection = 12;\n",
    "selection::Int = rand(1:length(input_𝒻ₚ))\n",
    "# g_analyt::Real = 𝒩_of_μₚ[selection]\n",
    "αⱼ12L::Vector = 𝐀_12L[selection, :]\n",
    "\n",
    "Π(x; radius=1.0)::Vector = heaviside.(x .+ radius) - heaviside.(x .- radius)\n",
    "ω(gⱼ)::Vector = gⱼ .- dot(αⱼ12L, F₁₂ₗ(μₚ))\n",
    "J::Matrix = ∂𝐳F₁₂ₗ(μₚ)\n",
    "Q::Matrix = 𝐀_12L * J\n",
    "q_j::Vector = Q[selection, :]\n",
    "gₖ::Vector = output_noised_g_part_samples_12L[selection, :]\n",
    "\n",
    "γ::Vector = vec(transpose(αⱼ12L) * J)\n",
    "ℓ::Vector = β * γ\n",
    "##=== Calculation of Approximated Moments\n",
    "\n",
    "ρ_out::Vector = 𝐀_12L * F₁₂ₗ(μₚ)\n",
    "\n",
    "mean_from_formula(outputᵢ::Int)::Real = dot(𝐀_12L[outputᵢ, :], F₁₂ₗ(μₚ))\n",
    "mean_prod(outputᵢ::Int, outputⱼ::Int)::Real = ρ_out[outputᵢ] * ρ_out[outputⱼ] + ((β^2) / 3.0) * dot(Q[outputᵢ, :], Q[outputⱼ, :])\n",
    "var_from_formula(outputᵢ::Int)::Real = mean_prod(outputᵢ, outputᵢ) - mean_from_formula(outputᵢ)^2\n",
    "Cov_formula(outputᵢ::Int, outputⱼ::Int)::Real = mean_prod(outputᵢ, outputⱼ) - mean_from_formula(outputᵢ) * mean_from_formula(outputⱼ)\n",
    "\n",
    "𝔼gₖ::Real = mean_from_formula(selection);\n",
    "𝕍gₖ::Real = var_from_formula(selection);\n",
    "\n",
    "##=== Calculation of Approximated Moments\n",
    "\n",
    "##=== Calculation of IFT\n",
    "N = 2048\n",
    "L = N / 2\n",
    "x = LinRange(-L, L, N)\n",
    "\n",
    "# Define the sinc function (normalized by π)\n",
    "sinc_func(x, γ) = sin(γ * x) / (γ * x)\n",
    "\n",
    "𝒻::Vector = N * (1.0 / (2.0 * π)) * Πsinc(ℓ, x; Npoints=Nx);\n",
    "\n",
    "# Step 2: Perform the inverse Fourier transform\n",
    "𝒻̂ = ift(𝒻)\n",
    "##=== Calculation of IFT\n",
    "\n",
    "begin\n",
    "  pdf_height = maximum(kde(gₖ).density)\n",
    "  ax = Makie.Axis(fig[1, 1];\n",
    "    # limits=(-0.6, 0.9, 0, 3),\n",
    "    limits=(mean(gₖ) - 3.0 * std(gₖ), mean(gₖ) + 3.0 * std(gₖ), 0, pdf_height + 1.0),\n",
    "    xlabel=L\"g_{%$selection} = \\mathcal{N}(f(μ_{%$selection} \\pm \\beta))\",\n",
    "    ylabel=L\"p(g_j)\",\n",
    "    title=L\"\\text{PDF of component %$selection of the outout } g_j:\\text{%$num_layers Layers}\")\n",
    "  hist!(ax, gₖ, normalization=:pdf, bins=100, label_formatter=x -> round(x, digits=2), label_size=15, strokewidth=0.5, strokecolor=(:black, 0.5), color=:values)\n",
    "\n",
    "  Makie.density!(gₖ, label=\"KDE Estimation\")\n",
    "\n",
    "  CairoMakie.lines!(ax, x * (π / L) .+ dot(αⱼ12L, F₁₂ₗ(μₚ)), abs.(𝒻̂), label=L\"\\mathcal{F}^{-1}(\\Pi_{k=1}^{%$(Nx+1)}sinc(\\ell_k a_{%$selection}))\", color=:darkgoldenrod, linewidth=3.5)\n",
    "  mean_value = format(mean(gₖ), precision=4)\n",
    "  mean_val_from_formula = format(𝔼gₖ, precision=4)\n",
    "  var_value = format(var(gₖ), precision=4)\n",
    "  var_val_from_formula = format(𝕍gₖ, precision=4)\n",
    "\n",
    "  CairoMakie.vlines!(ax, mean(gₖ), label=L\"\\mathbb{E}[g_k]_{\\text{num}} = %$mean_value\", linestyle=:dash)\n",
    "  CairoMakie.vlines!(ax, 𝔼gₖ, label=L\"\\mathbb{E}[g_k]_{\\text{formula}} = %$mean_val_from_formula\", linestyle=:dash)\n",
    "  CairoMakie.vlines!(ax, 𝔼gₖ, label=L\"\\mathbb{V}[g_k]_{\\text{num}} = %$var_value\", linestyle=:dash, color=:transparent)\n",
    "  CairoMakie.vlines!(ax, 𝔼gₖ, label=L\"\\mathbb{V}[g_k]_{\\text{formula}} = %$var_val_from_formula\", linestyle=:dash, color=:transparent)\n",
    "\n",
    "\n",
    "  # CURRENTLY BROKEN, wait for update to provide plot legend\n",
    "  # fig[1, 2] = Legend(fig, ax, \"Trig Functions\", framevisible = false)\n",
    "\n",
    "  fig\n",
    "end"
   ]
  },
  {
   "cell_type": "code",
   "execution_count": null,
   "metadata": {},
   "outputs": [],
   "source": [
    "fig = Makie.Figure(size=(1000, 1550), px_per_unit=2.5, fontsize=14);\n",
    "\n",
    "for (plot_coord, point_selection) in zip(plot_positions, sample_indices)\n",
    "  row = plot_coord[1] # actually col\n",
    "  col = plot_coord[2] # actually row\n",
    "\n",
    "  selection = point_selection\n",
    "  αⱼ12L::Vector = 𝐀_12L[selection, :]\n",
    "\n",
    "  Π(x; radius=1.0)::Vector = heaviside.(x .+ radius) - heaviside.(x .- radius)\n",
    "  ω(gⱼ)::Vector = gⱼ .- dot(αⱼ12L, F₁₂ₗ(μₚ))\n",
    "  J::Matrix = ∂𝐳F₁₂ₗ(μₚ)\n",
    "  Q::Matrix = 𝐀_12L * J\n",
    "  q_j::Vector = Q[selection, :]\n",
    "  gₖ::Vector = output_noised_g_part_samples_12L[selection, :]\n",
    "  # mean_gk::Float64 = mean(gₖ)\n",
    "\n",
    "  γ::Vector = vec(transpose(αⱼ12L) * J)\n",
    "  ℓ::Vector = β * γ\n",
    "  ##=== Calculation of Approximated Moments\n",
    "\n",
    "  ρ_out::Vector = 𝐀_12L * F₁₂ₗ(μₚ)\n",
    "\n",
    "  mean_from_formula(outputᵢ::Int)::Real = dot(𝐀_12L[outputᵢ, :], F₁₂ₗ(μₚ))\n",
    "  mean_prod(outputᵢ::Int, outputⱼ::Int)::Real = ρ_out[outputᵢ] * ρ_out[outputⱼ] + ((β^2) / 3.0) * dot(Q[outputᵢ, :], Q[outputⱼ, :])\n",
    "  var_from_formula(outputᵢ::Int)::Real = mean_prod(outputᵢ, outputᵢ) - mean_from_formula(outputᵢ)^2\n",
    "  Cov_formula(outputᵢ::Int, outputⱼ::Int)::Real = mean_prod(outputᵢ, outputⱼ) - mean_from_formula(outputᵢ) * mean_from_formula(outputⱼ)\n",
    "\n",
    "  𝔼gₖ::Real = mean_from_formula(selection)\n",
    "  𝕍gₖ::Real = var_from_formula(selection)\n",
    "\n",
    "  ##=== Calculation of Approximated Moments\n",
    "\n",
    "  ##=== Calculation of IFT\n",
    "  N = 2048\n",
    "  L = N / 2\n",
    "  x = LinRange(-L, L, N)\n",
    "\n",
    "  # Define the sinc function (normalized by π)\n",
    "  sinc_func(x, γ) = sin(γ * x) / (γ * x)\n",
    "\n",
    "  𝒻::Vector = N * (1.0 / (2.0 * π)) * Πsinc(ℓ, x; Npoints=Nx)\n",
    "\n",
    "  # Step 2: Perform the inverse Fourier transform\n",
    "  𝒻̂ = ift(𝒻)\n",
    "  ##=== Calculation of IFT\n",
    "\n",
    "  begin\n",
    "    pdf_height = maximum(kde(gₖ).density)\n",
    "    ax = Makie.Axis(fig[col, row];\n",
    "      # limits=(-0.6, 0.9, 0, 3),\n",
    "      limits=(mean(gₖ) - 3.0 * std(gₖ), mean(gₖ) + 3.0 * std(gₖ), 0, pdf_height + 1.0),\n",
    "      xlabel=L\"g_{%$selection} = \\mathcal{N}(f(μ_{%$selection} \\pm \\beta))\",\n",
    "      ylabel=L\"p(g_j)\",\n",
    "      title=L\"\\text{PDF of component %$selection of the outout } g_j:\\text{%$num_layers Layer}\")\n",
    "    hist!(ax, gₖ, normalization=:pdf, bins=100, label_formatter=x -> round(x, digits=2), label_size=15, strokewidth=0.5, strokecolor=(:black, 0.5), color=:values)\n",
    "\n",
    "    Makie.density!(gₖ, label=\"KDE Estimation\")\n",
    "\n",
    "    CairoMakie.lines!(ax, x * (π / L) .+ dot(αⱼ12L, F₁₂ₗ(μₚ)), abs.(𝒻̂), label=L\"\\mathcal{F}^{-1}(\\Pi_{k=1}^{%$(Nx+1)}sinc(\\ell_k a_{%$selection}))\", color=:darkgoldenrod, linewidth=3.5)\n",
    "    mean_value = format(mean(gₖ), precision=4)\n",
    "    mean_val_from_formula = format(𝔼gₖ, precision=4)\n",
    "    var_value = format(var(gₖ), precision=4)\n",
    "    var_val_from_formula = format(𝕍gₖ, precision=4)\n",
    "\n",
    "    CairoMakie.vlines!(ax, mean(gₖ), label=L\"\\mathbb{E}[g_k]_{\\text{num}} = %$mean_value\", linestyle=:dash)\n",
    "    CairoMakie.vlines!(ax, 𝔼gₖ, label=L\"\\mathbb{E}[g_k]_{\\text{formula}} = %$mean_val_from_formula\", linestyle=:dash)\n",
    "    CairoMakie.vlines!(ax, 𝔼gₖ, label=L\"\\mathbb{V}[g_k]_{\\text{num}} = %$var_value\", linestyle=:dash, color=:transparent)\n",
    "    CairoMakie.vlines!(ax, 𝔼gₖ, label=L\"\\mathbb{V}[g_k]_{\\text{formula}} = %$var_val_from_formula\", linestyle=:dash, color=:transparent)\n",
    "\n",
    "  end\n",
    "end\n",
    "fig"
   ]
  },
  {
   "cell_type": "code",
   "execution_count": null,
   "metadata": {},
   "outputs": [],
   "source": [
    "# g_samples = output_noised_g_part_samples"
   ]
  },
  {
   "cell_type": "code",
   "execution_count": null,
   "metadata": {},
   "outputs": [],
   "source": [
    "write_matfile(\"~/Documents/MATLAB/Copula_code/12layer_test.mat\";\n",
    "  g_samp_data=output_noised_g_part_samples_12L)"
   ]
  },
  {
   "cell_type": "markdown",
   "metadata": {},
   "source": [
    "## For 18 layers:"
   ]
  },
  {
   "cell_type": "code",
   "execution_count": null,
   "metadata": {},
   "outputs": [],
   "source": [
    "fig = Makie.Figure(size=(1000, 1550), px_per_unit=2.5, fontsize=14);\n",
    "\n",
    "input_noise_𝒻ₚ_samples, output_noised_g_part_samples_18L = generate_noised_samples(𝒩ₙₙ18L;\n",
    "  input_data=input_𝒻ₚ,\n",
    "  output_data=output_𝒻ₚ,\n",
    "  noise_pdf=uniform_distrib)\n",
    "\n",
    "num_nonHidden_layers::Int = 1\n",
    "num_layers::Int = length(keys(𝚯_12L)) - num_nonHidden_layers\n",
    "\n",
    "#===\n",
    "Recall the parameters we have:\n",
    "===#\n",
    "# selection = 12;\n",
    "selection::Int = rand(1:length(input_𝒻ₚ))\n",
    "# g_analyt::Real = 𝒩_of_μₚ[selection]\n",
    "αⱼ18L::Vector = 𝐀_18L[selection, :]\n",
    "\n",
    "Π(x; radius=1.0)::Vector = heaviside.(x .+ radius) - heaviside.(x .- radius)\n",
    "ω(gⱼ)::Vector = gⱼ .- dot(αⱼ18L, F₁₈ₗ(μₚ))\n",
    "J::Matrix = ∂𝐳F₁₈ₗ(μₚ)\n",
    "Q::Matrix = 𝐀_18L * J\n",
    "q_j::Vector = Q[selection, :]\n",
    "gₖ::Vector = output_noised_g_part_samples_12L[selection, :]\n",
    "\n",
    "γ::Vector = vec(transpose(αⱼ18L) * J)\n",
    "ℓ::Vector = β * γ\n",
    "##=== Calculation of Approximated Moments\n",
    "\n",
    "ρ_out::Vector = 𝐀_18L * F₁₈ₗ(μₚ)\n",
    "\n",
    "mean_from_formula(outputᵢ::Int)::Real = dot(𝐀_18L[outputᵢ, :], F₁₈ₗ(μₚ))\n",
    "mean_prod(outputᵢ::Int, outputⱼ::Int)::Real = ρ_out[outputᵢ] * ρ_out[outputⱼ] + ((β^2) / 3.0) * dot(Q[outputᵢ, :], Q[outputⱼ, :])\n",
    "var_from_formula(outputᵢ::Int)::Real = mean_prod(outputᵢ, outputᵢ) - mean_from_formula(outputᵢ)^2\n",
    "Cov_formula(outputᵢ::Int, outputⱼ::Int)::Real = mean_prod(outputᵢ, outputⱼ) - mean_from_formula(outputᵢ) * mean_from_formula(outputⱼ)\n",
    "\n",
    "𝔼gₖ::Real = mean_from_formula(selection);\n",
    "𝕍gₖ::Real = var_from_formula(selection);\n",
    "\n",
    "##=== Calculation of Approximated Moments\n",
    "\n",
    "##=== Calculation of IFT\n",
    "N = 2048\n",
    "L = N / 2\n",
    "x = LinRange(-L, L, N)\n",
    "\n",
    "# Define the sinc function (normalized by π)\n",
    "sinc_func(x, γ) = sin(γ * x) / (γ * x)\n",
    "\n",
    "𝒻::Vector = N * (1.0 / (2.0 * π)) * Πsinc(ℓ, x; Npoints=Nx);\n",
    "\n",
    "# Step 2: Perform the inverse Fourier transform\n",
    "𝒻̂ = ift(𝒻)\n",
    "##=== Calculation of IFT\n",
    "\n",
    "begin\n",
    "  pdf_height = maximum(kde(gₖ).density)\n",
    "  ax = Makie.Axis(fig[1, 1];\n",
    "    # limits=(-0.6, 0.9, 0, 3),\n",
    "    limits=(mean(gₖ) - 3.0 * std(gₖ), mean(gₖ) + 3.0 * std(gₖ), 0, pdf_height + 1.0),\n",
    "    xlabel=L\"g_{%$selection} = \\mathcal{N}(f(μ_{%$selection} \\pm \\beta))\",\n",
    "    ylabel=L\"p(g_j)\",\n",
    "    title=L\"\\text{PDF of component %$selection of the outout } g_j:\\text{%$num_layers Layers}\")\n",
    "  hist!(ax, gₖ, normalization=:pdf, bins=100, label_formatter=x -> round(x, digits=2), label_size=15, strokewidth=0.5, strokecolor=(:black, 0.5), color=:values)\n",
    "\n",
    "  Makie.density!(gₖ, label=\"KDE Estimation\")\n",
    "\n",
    "  CairoMakie.lines!(ax, x * (π / L) .+ dot(αⱼ18L, F₁₈ₗ(μₚ)), abs.(𝒻̂), label=L\"\\mathcal{F}^{-1}(\\Pi_{k=1}^{%$(Nx+1)}sinc(\\ell_k a_{%$selection}))\", color=:darkgoldenrod, linewidth=3.5)\n",
    "  mean_value = format(mean(gₖ), precision=4)\n",
    "  mean_val_from_formula = format(𝔼gₖ, precision=4)\n",
    "  var_value = format(var(gₖ), precision=4)\n",
    "  var_val_from_formula = format(𝕍gₖ, precision=4)\n",
    "\n",
    "  CairoMakie.vlines!(ax, mean(gₖ), label=L\"\\mathbb{E}[g_k]_{\\text{num}} = %$mean_value\", linestyle=:dash)\n",
    "  CairoMakie.vlines!(ax, 𝔼gₖ, label=L\"\\mathbb{E}[g_k]_{\\text{formula}} = %$mean_val_from_formula\", linestyle=:dash)\n",
    "  CairoMakie.vlines!(ax, 𝔼gₖ, label=L\"\\mathbb{V}[g_k]_{\\text{num}} = %$var_value\", linestyle=:dash, color=:transparent)\n",
    "  CairoMakie.vlines!(ax, 𝔼gₖ, label=L\"\\mathbb{V}[g_k]_{\\text{formula}} = %$var_val_from_formula\", linestyle=:dash, color=:transparent)\n",
    "\n",
    "\n",
    "  # CURRENTLY BROKEN, wait for update to provide plot legend\n",
    "  # fig[1, 2] = Legend(fig, ax, \"Trig Functions\", framevisible = false)\n",
    "\n",
    "  fig\n",
    "end"
   ]
  },
  {
   "cell_type": "code",
   "execution_count": null,
   "metadata": {},
   "outputs": [],
   "source": [
    "fig = Makie.Figure(size=(1000, 1550), px_per_unit=2.5, fontsize=14);\n",
    "\n",
    "for (plot_coord, point_selection) in zip(plot_positions, sample_indices)\n",
    "  row = plot_coord[1] # actually col\n",
    "  col = plot_coord[2] # actually row\n",
    "\n",
    "  selection = point_selection\n",
    "  αⱼ18L::Vector = 𝐀_18L[selection, :]\n",
    "\n",
    "  Π(x; radius=1.0)::Vector = heaviside.(x .+ radius) - heaviside.(x .- radius)\n",
    "  ω(gⱼ)::Vector = gⱼ .- dot(αⱼ18L, F₁₈ₗ(μₚ))\n",
    "  J::Matrix = ∂𝐳F₁₈ₗ(μₚ)\n",
    "  Q::Matrix = 𝐀_18L * J\n",
    "  q_j::Vector = Q[selection, :]\n",
    "  gₖ::Vector = output_noised_g_part_samples_12L[selection, :]\n",
    "  # mean_gk::Float64 = mean(gₖ)\n",
    "\n",
    "  γ::Vector = vec(transpose(αⱼ18L) * J)\n",
    "  ℓ::Vector = β * γ\n",
    "  ##=== Calculation of Approximated Moments\n",
    "\n",
    "  ρ_out::Vector = 𝐀_18L * F₁₈ₗ(μₚ)\n",
    "\n",
    "  mean_from_formula(outputᵢ::Int)::Real = dot(𝐀_18L[outputᵢ, :], F₁₈ₗ(μₚ))\n",
    "  mean_prod(outputᵢ::Int, outputⱼ::Int)::Real = ρ_out[outputᵢ] * ρ_out[outputⱼ] + ((β^2) / 3.0) * dot(Q[outputᵢ, :], Q[outputⱼ, :])\n",
    "  var_from_formula(outputᵢ::Int)::Real = mean_prod(outputᵢ, outputᵢ) - mean_from_formula(outputᵢ)^2\n",
    "  Cov_formula(outputᵢ::Int, outputⱼ::Int)::Real = mean_prod(outputᵢ, outputⱼ) - mean_from_formula(outputᵢ) * mean_from_formula(outputⱼ)\n",
    "\n",
    "  𝔼gₖ::Real = mean_from_formula(selection)\n",
    "  𝕍gₖ::Real = var_from_formula(selection)\n",
    "\n",
    "  ##=== Calculation of Approximated Moments\n",
    "\n",
    "  ##=== Calculation of IFT\n",
    "  N = 2048\n",
    "  L = N / 2\n",
    "  x = LinRange(-L, L, N)\n",
    "\n",
    "  # Define the sinc function (normalized by π)\n",
    "  sinc_func(x, γ) = sin(γ * x) / (γ * x)\n",
    "\n",
    "  𝒻::Vector = N * (1.0 / (2.0 * π)) * Πsinc(ℓ, x; Npoints=Nx)\n",
    "\n",
    "  # Step 2: Perform the inverse Fourier transform\n",
    "  𝒻̂ = ift(𝒻)\n",
    "  ##=== Calculation of IFT\n",
    "\n",
    "  begin\n",
    "    pdf_height = maximum(kde(gₖ).density)\n",
    "    ax = Makie.Axis(fig[col, row];\n",
    "      # limits=(-0.6, 0.9, 0, 3),\n",
    "      limits=(mean(gₖ) - 3.0 * std(gₖ), mean(gₖ) + 3.0 * std(gₖ), 0, pdf_height + 1.0),\n",
    "      xlabel=L\"g_{%$selection} = \\mathcal{N}(f(μ_{%$selection} \\pm \\beta))\",\n",
    "      ylabel=L\"p(g_j)\",\n",
    "      title=L\"\\text{PDF of component %$selection of the outout } g_j:\\text{%$num_layers Layer}\")\n",
    "    hist!(ax, gₖ, normalization=:pdf, bins=100, label_formatter=x -> round(x, digits=2), label_size=15, strokewidth=0.5, strokecolor=(:black, 0.5), color=:values)\n",
    "\n",
    "    Makie.density!(gₖ, label=\"KDE Estimation\")\n",
    "\n",
    "    CairoMakie.lines!(ax, x * (π / L) .+ dot(αⱼ18L, F₁₈ₗ(μₚ)), abs.(𝒻̂), label=L\"\\mathcal{F}^{-1}(\\Pi_{k=1}^{%$(Nx+1)}sinc(\\ell_k a_{%$selection}))\", color=:darkgoldenrod, linewidth=3.5)\n",
    "    mean_value = format(mean(gₖ), precision=4)\n",
    "    mean_val_from_formula = format(𝔼gₖ, precision=4)\n",
    "    var_value = format(var(gₖ), precision=4)\n",
    "    var_val_from_formula = format(𝕍gₖ, precision=4)\n",
    "\n",
    "    CairoMakie.vlines!(ax, mean(gₖ), label=L\"\\mathbb{E}[g_k]_{\\text{num}} = %$mean_value\", linestyle=:dash)\n",
    "    CairoMakie.vlines!(ax, 𝔼gₖ, label=L\"\\mathbb{E}[g_k]_{\\text{formula}} = %$mean_val_from_formula\", linestyle=:dash)\n",
    "    CairoMakie.vlines!(ax, 𝔼gₖ, label=L\"\\mathbb{V}[g_k]_{\\text{num}} = %$var_value\", linestyle=:dash, color=:transparent)\n",
    "    CairoMakie.vlines!(ax, 𝔼gₖ, label=L\"\\mathbb{V}[g_k]_{\\text{formula}} = %$var_val_from_formula\", linestyle=:dash, color=:transparent)\n",
    "\n",
    "  end\n",
    "end\n",
    "fig"
   ]
  },
  {
   "cell_type": "code",
   "execution_count": null,
   "metadata": {},
   "outputs": [],
   "source": [
    "# g_samples = output_noised_g_part_samples"
   ]
  },
  {
   "cell_type": "markdown",
   "metadata": {},
   "source": [
    "## For 20 layers:"
   ]
  },
  {
   "cell_type": "code",
   "execution_count": null,
   "metadata": {},
   "outputs": [],
   "source": [
    "\\"
   ]
  },
  {
   "cell_type": "code",
   "execution_count": null,
   "metadata": {},
   "outputs": [],
   "source": [
    "# sample_indices = 1:2:29;\n",
    "# plot_positions = vec(collect(Iterators.product(1:3, 1:3)));\n",
    "sample_indices = 1:9:19;\n",
    "plot_positions = vec(collect(Iterators.product(1:3, 1)));\n",
    "\n",
    "fig_20L::Makie.Figure, output_noised_g_part_samples_20L::Matrix = plot_output_marginals(input_𝒻ₚ, sample_indices, plot_positions;\n",
    "  𝒩ₙₙNL=𝒩ₙₙ20L, 𝚯_NL=𝚯_20L, Fₙₗ=F₂₀ₗ, ∂𝐳Fₙₗ=∂𝐳F₂₀ₗ, β_noise=β, noise_distrib=uniform_distrib)"
   ]
  },
  {
   "cell_type": "code",
   "execution_count": null,
   "metadata": {},
   "outputs": [],
   "source": [
    "fig_20L"
   ]
  },
  {
   "cell_type": "code",
   "execution_count": null,
   "metadata": {},
   "outputs": [],
   "source": [
    "save(joinpath(fig_results_path, \"Lin_20L_1__5.pdf\"), fig_20L; pt_per_unit=0.5)"
   ]
  },
  {
   "cell_type": "code",
   "execution_count": null,
   "metadata": {},
   "outputs": [],
   "source": [
    "ℒ_op"
   ]
  },
  {
   "cell_type": "code",
   "execution_count": null,
   "metadata": {},
   "outputs": [],
   "source": [
    "output_noised_g_part_samples_20L"
   ]
  },
  {
   "cell_type": "code",
   "execution_count": null,
   "metadata": {},
   "outputs": [],
   "source": [
    "using MATLAB"
   ]
  },
  {
   "cell_type": "code",
   "execution_count": null,
   "metadata": {},
   "outputs": [],
   "source": [
    "write_matfile(\"~/Documents/MATLAB/Copula_code/LinOp_20L_1__5Amp_samples.mat\";\n",
    "  g_samp_data=output_noised_g_part_samples_20L)"
   ]
  },
  {
   "cell_type": "code",
   "execution_count": null,
   "metadata": {},
   "outputs": [],
   "source": [
    "write_matfile(\"~/Documents/MATLAB/Copula_code/20layer_test.mat\";\n",
    "  g_samp_data=output_noised_g_part_samples_20L)"
   ]
  },
  {
   "cell_type": "markdown",
   "metadata": {},
   "source": [
    "## Old Ways of Plotting:"
   ]
  },
  {
   "cell_type": "code",
   "execution_count": null,
   "metadata": {},
   "outputs": [],
   "source": [
    "# fig = Figure(size=(1000, 1550));\n",
    "fig = Makie.Figure(size=(1000, 1550), px_per_unit=2.5, fontsize=14);\n",
    "\n",
    "###==== Noise Generation\n",
    "\n",
    "# input_noise_𝒻ₚ_samples, output_noised_g_part_samples_1L = generate_noised_samples(𝒩ₙₙ1L;\n",
    "#   input_data=input_𝒻ₚ,\n",
    "#   output_data=output_𝒻ₚ,\n",
    "#   noise_pdf=uniform_distrib)\n",
    "###==== Noise Generation\n",
    "\n",
    "_, output_noised_g_part_samples_1L = generate_noised_samples(input_𝒻ₚ;\n",
    "  𝒩ₙₙ=𝒩ₙₙ1L,\n",
    "  noise_pdf=uniform_distrib)\n",
    "\n",
    "num_nonHidden_layers::Int = 1\n",
    "num_layers::Int = length(keys(𝚯_1L)) - num_nonHidden_layers\n",
    "\n",
    "#===\n",
    "Recall the parameters we have:\n",
    "W_01L = Θ[:layer_1][:weight]  - First layer weight parameters\n",
    "𝐛_01L = Θ[:layer_1][:bias]    - First layer bias parameters\n",
    "A1L = Θ[:layer_2][:weight]    - Matrix of Output Weights\n",
    "===#\n",
    "\n",
    "# sample_indices = 1:2:29;\n",
    "# plot_positions = vec(collect(Iterators.product(1:3, 1:5)));\n",
    "\n",
    "# sample_indices = 1:8:29;\n",
    "# plot_positions = vec(collect(Iterators.product(1:2, 1:2)));\n",
    "μₚ = input_𝒻ₚ;\n",
    "𝒩_of_μₚ::Vector = 𝒩ₙₙ1L(μₚ);\n",
    "\n",
    "for (plot_coord, point_selection) in zip(plot_positions, sample_indices)\n",
    "  row = plot_coord[1] # actually col\n",
    "  col = plot_coord[2] # actually row\n",
    "\n",
    "  selection = point_selection\n",
    "  g_analyt::Real = 𝒩_of_μₚ[selection]\n",
    "  αⱼ::Vector = 𝐀_1L[selection, :]\n",
    "\n",
    "  Π(x; radius=1.0)::Function = heaviside.(x .+ radius) - heaviside.(x .- radius)\n",
    "  ω(gⱼ)::Function = gⱼ .- dot(αⱼ, F₁1L(μₚ))\n",
    "  J::Matrix = ∂𝐳F₁ₗ(μₚ)\n",
    "  Q::Matrix = 𝐀_1L * J\n",
    "  q_j::Vector = Q[selection, :]\n",
    "  gₖ::Vector = output_noised_g_part_samples_1L[selection, :]\n",
    "\n",
    "  γ::Vector = vec(transpose(αⱼ) * J)\n",
    "  ℓ::Vector = β * γ\n",
    "\n",
    "  ##=== Calculation of Approximated Moments\n",
    "\n",
    "  ρ_out::Vector = 𝐀_1L * F₁1L(μₚ)\n",
    "\n",
    "  mean_from_formula(outputᵢ::Int)::Real = dot(𝐀_1L[outputᵢ, :], F₁1L(μₚ))\n",
    "  mean_prod(outputᵢ::Int, outputⱼ::Int)::Real = ρ_out[outputᵢ] * ρ_out[outputⱼ] + ((β^2) / 3.0) * dot(Q[outputᵢ, :], Q[outputⱼ, :])\n",
    "  var_from_formula(outputᵢ::Int)::Real = mean_prod(outputᵢ, outputᵢ) - mean_from_formula(outputᵢ)^2\n",
    "  Cov_formula(outputᵢ::Int, outputⱼ::Int)::Real = mean_prod(outputᵢ, outputⱼ) - mean_from_formula(outputᵢ) * mean_from_formula(outputⱼ)\n",
    "\n",
    "  𝔼gₖ::Real = mean_from_formula(selection)\n",
    "  𝕍gₖ::Real = var_from_formula(selection)\n",
    "\n",
    "  # 𝔼gₖ::Real = dot(𝐀_1L[selection, :], F₁1L(μₚ))\n",
    "  # var_from_formula = ρ_out[selection] * ρ_out[selection] + (1.0 / 3.0) * dot(q_j, q_j) * β^2 - 𝔼gₖ^2\n",
    "\n",
    "  # ##=== Calculation of Approximated Moments\n",
    "\n",
    "  N = 2048\n",
    "  L = N / 2\n",
    "  x = LinRange(-L, L, N)\n",
    "\n",
    "  # Define the sinc function (normalized by π)\n",
    "  sinc_func(x, γ) = sin(γ * x) / (γ * x)\n",
    "\n",
    "  𝒻::Vector = N * (1.0 / (2.0 * π)) * Πsinc(ℓ, x; Npoints=Nx)\n",
    "\n",
    "  # Step 2: Perform the inverse Fourier transform\n",
    "  𝒻̂ = ift(𝒻)\n",
    "  ##=== Calculation of IFT\n",
    "\n",
    "  begin\n",
    "    pdf_height = maximum(kde(gₖ).density)\n",
    "    ax = Makie.Axis(fig[col, row];\n",
    "      # limits=(-0.6, 0.9, 0, 3),\n",
    "      limits=(mean(gₖ) - 3.0 * std(gₖ), mean(gₖ) + 3.0 * std(gₖ), 0, pdf_height + 1.0),\n",
    "      xlabel=L\"g_{%$selection} = \\mathcal{N}(f(μ_{%$selection} \\pm \\beta))\",\n",
    "      ylabel=L\"p(g_j)\",\n",
    "      title=L\"\\text{PDF of component %$selection of the outout } g_j:\\text{%$num_layers Layer}\")\n",
    "    hist!(ax, gₖ, normalization=:pdf, bins=100, label_formatter=x -> round(x, digits=2), label_size=15, strokewidth=0.5, strokecolor=(:black, 0.5), color=:values)\n",
    "\n",
    "    Makie.density!(gₖ, label=\"KDE Estimation\")\n",
    "\n",
    "    CairoMakie.lines!(ax, x * (π / L) .+ dot(αⱼ, F₁1L(μₚ)), abs.(𝒻̂), label=L\"\\mathcal{F}^{-1}(\\Pi_{k=1}^{%$(Nx+1)}sinc(\\ell_k a_{%$selection}))\", color=:darkgoldenrod, linewidth=3.5)\n",
    "    mean_value = format(mean(gₖ), precision=4)\n",
    "    mean_val_from_formula = format(𝔼gₖ, precision=4)\n",
    "    var_value = format(var(gₖ), precision=4)\n",
    "    var_val_from_formula = format(𝕍gₖ, precision=4)\n",
    "\n",
    "    CairoMakie.vlines!(ax, mean(gₖ), label=L\"\\mathbb{E}[g_k]_{\\text{num}} = %$mean_value\", linestyle=:dash)\n",
    "    CairoMakie.vlines!(ax, 𝔼gₖ, label=L\"\\mathbb{E}[g_k]_{\\text{formula}} = %$mean_val_from_formula\", linestyle=:dash)\n",
    "    CairoMakie.vlines!(ax, 𝔼gₖ, label=L\"\\mathbb{V}[g_k]_{\\text{num}} = %$var_value\", linestyle=:dash)\n",
    "    CairoMakie.vlines!(ax, 𝔼gₖ, label=L\"\\mathbb{V}[g_k]_{\\text{formula}} = %$var_val_from_formula\", linestyle=:dash)\n",
    "\n",
    "    # axislegend(ax)\n",
    "    # fig\n",
    "  end\n",
    "end\n",
    "fig"
   ]
  },
  {
   "cell_type": "code",
   "execution_count": null,
   "metadata": {},
   "outputs": [],
   "source": []
  },
  {
   "cell_type": "markdown",
   "metadata": {},
   "source": [
    "### Note: There was a scaling factor introduced - analogous to a conversion of units that needed to be done - that was screwing with the plots previously.\n",
    "\n",
    "One can determine that by integrating the function (This explains the $\\frac{L}{\\pi}$ factor that we scale the x-grid by):"
   ]
  },
  {
   "cell_type": "code",
   "execution_count": null,
   "metadata": {},
   "outputs": [],
   "source": [
    "L / π"
   ]
  },
  {
   "cell_type": "code",
   "execution_count": null,
   "metadata": {},
   "outputs": [],
   "source": [
    "using Integrals"
   ]
  },
  {
   "cell_type": "code",
   "execution_count": null,
   "metadata": {},
   "outputs": [],
   "source": [
    "unscaled_x = LinRange(-L, L, N)"
   ]
  },
  {
   "cell_type": "code",
   "execution_count": null,
   "metadata": {},
   "outputs": [],
   "source": [
    "test_problem = SampledIntegralProblem(real(inv_fourier), unscaled_x)\n",
    "method = TrapezoidalRule()\n",
    "solve(test_problem, method)"
   ]
  },
  {
   "cell_type": "code",
   "execution_count": null,
   "metadata": {},
   "outputs": [],
   "source": [
    "test_problem = SampledIntegralProblem(real(inv_fourier), (π / L) * unscaled_x)\n",
    "method = TrapezoidalRule()\n",
    "solve(test_problem, method)"
   ]
  },
  {
   "cell_type": "code",
   "execution_count": null,
   "metadata": {},
   "outputs": [],
   "source": [
    "N"
   ]
  },
  {
   "cell_type": "code",
   "execution_count": null,
   "metadata": {},
   "outputs": [],
   "source": []
  },
  {
   "cell_type": "markdown",
   "metadata": {},
   "source": [
    "# Covariance and Correlation Plots"
   ]
  },
  {
   "cell_type": "code",
   "execution_count": null,
   "metadata": {},
   "outputs": [],
   "source": [
    "output_noised_g_part_samples_1L"
   ]
  },
  {
   "cell_type": "code",
   "execution_count": null,
   "metadata": {},
   "outputs": [],
   "source": [
    "df2 = DataFrame(transpose(output_noised_g_part_samples_1L), :auto)"
   ]
  },
  {
   "cell_type": "code",
   "execution_count": null,
   "metadata": {},
   "outputs": [],
   "source": [
    "pairplot(df2[:, 1:5:21], fullgrid=true)"
   ]
  },
  {
   "cell_type": "code",
   "execution_count": null,
   "metadata": {},
   "outputs": [],
   "source": [
    "df_select = DataFrame(g₁=df2[:, 1], g₆=df2[:, 6], g₁₁=df2[:, 11], g₁₆=df2[:, 16], g₂₁=df2[:, 21])"
   ]
  },
  {
   "cell_type": "code",
   "execution_count": null,
   "metadata": {},
   "outputs": [],
   "source": [
    "mean_from_formula(1)"
   ]
  },
  {
   "cell_type": "code",
   "execution_count": null,
   "metadata": {},
   "outputs": [],
   "source": [
    "c1 = Makie.wong_colors(0.5)[1]\n",
    "c2 = Makie.wong_colors(0.5)[2]\n",
    "c3 = Makie.wong_colors(0.5)[3]\n",
    "c4 = Makie.wong_colors(0.5)[4]\n",
    "c5 = Makie.wong_colors(0.5)[5]\n"
   ]
  },
  {
   "cell_type": "code",
   "execution_count": null,
   "metadata": {},
   "outputs": [],
   "source": [
    "# selection = point_selection\n",
    "# g_analyt::Real = 𝒩_of_μₚ[selection]\n",
    "# αⱼ::Vector = 𝐀_1L[selection, :]\n",
    "\n",
    "# ω(gⱼ)::Function = gⱼ .- dot(αⱼ, F₁1L(μₚ))\n",
    "J::Matrix = ∂𝐳F₁ₗ(μₚ)\n",
    "Q::Matrix = 𝐀_1L * J\n",
    "# q_j::Vector = Q[selection, :]\n",
    "# gₖ::Vector = output_noised_g_part_samples_1L[selection, :]\n",
    "\n",
    "# γ::Vector = vec(transpose(αⱼ) * J)\n",
    "# ℓ::Vector = β * γ\n",
    "\n",
    "##=== Calculation of Approximated Moments\n",
    "\n",
    "ρ_out::Vector = 𝐀_1L * F₁1L(μₚ)\n",
    "\n",
    "mean_from_formula(outputᵢ::Int)::Real = dot(𝐀_1L[outputᵢ, :], F₁1L(μₚ))\n",
    "mean_prod(outputᵢ::Int, outputⱼ::Int)::Real = ρ_out[outputᵢ] * ρ_out[outputⱼ] + ((β^2) / 3.0) * dot(Q[outputᵢ, :], Q[outputⱼ, :])\n",
    "var_from_formula(outputᵢ::Int)::Real = mean_prod(outputᵢ, outputᵢ) - mean_from_formula(outputᵢ)^2\n",
    "Cov_formula(outputᵢ::Int, outputⱼ::Int)::Real = mean_prod(outputᵢ, outputⱼ) - mean_from_formula(outputᵢ) * mean_from_formula(outputⱼ)\n",
    "\n",
    "# 𝔼gₖ::Real = mean_from_formula(selection)\n",
    "# 𝕍gₖ::Real = var_from_formula(selection)"
   ]
  },
  {
   "cell_type": "markdown",
   "metadata": {},
   "source": [
    "## Full Plot"
   ]
  },
  {
   "cell_type": "code",
   "execution_count": null,
   "metadata": {},
   "outputs": [],
   "source": [
    "pairplot_fig::Makie.Figure = Figure(size=(1000, 1050), px_per_unit=2.5, fontsize=20)\n",
    "\n",
    "pairplot(pairplot_fig[1, 1],\n",
    "  df_select => (\n",
    "    PairPlots.HexBin(colormap=Makie.cgrad([:transparent, c1]),),\n",
    "    PairPlots.Scatter(filtersigma=2, color=c1),\n",
    "    PairPlots.Contour(color=:white),\n",
    "    # New:\n",
    "    PairPlots.MarginHist(color=c1),\n",
    "    PairPlots.MarginDensity(color=:white),\n",
    "    PairPlots.Truth(\n",
    "      (;\n",
    "        g₁=[mean_from_formula(1)],\n",
    "        g₆=[mean_from_formula(6)],\n",
    "        g₁₁=[mean_from_formula(11)],\n",
    "        g₁₆=[mean_from_formula(16)],\n",
    "        g₂₁=[mean_from_formula(21)],\n",
    "      ),\n",
    "      label=L\"\\mathbb{E}[g_k]_{\\text{formula}}\",\n",
    "      color=c2,\n",
    "      fontsize=20\n",
    "    ),\n",
    "    PairPlots.TrendLine(color=c2),\n",
    "    # PairPlots.Correlation(),\n",
    "    PairPlots.PearsonCorrelation(position=Makie.Point2f(0.2, 0.2), fontsize=18),\n",
    "    # bottomleft=false, topright=true\n",
    "  ),\n",
    "  bottomleft=false, topright=true\n",
    ")\n",
    "pairplot_fig"
   ]
  },
  {
   "cell_type": "code",
   "execution_count": null,
   "metadata": {},
   "outputs": [],
   "source": [
    "Corr_Coeff(selectᵢ::Int, selectⱼ::Int)::Real = Cov_formula(selectᵢ, selectⱼ) / (sqrt(var_from_formula(selectᵢ) * var_from_formula(selectⱼ)))"
   ]
  },
  {
   "cell_type": "code",
   "execution_count": null,
   "metadata": {},
   "outputs": [],
   "source": [
    "Corr_Coeff(1, 6)"
   ]
  },
  {
   "cell_type": "code",
   "execution_count": null,
   "metadata": {},
   "outputs": [],
   "source": [
    "Corr_Coeff(1, 11)"
   ]
  },
  {
   "cell_type": "code",
   "execution_count": null,
   "metadata": {},
   "outputs": [],
   "source": [
    "Corr_Coeff(1, 16)"
   ]
  },
  {
   "cell_type": "code",
   "execution_count": null,
   "metadata": {},
   "outputs": [],
   "source": [
    "Corr_Coeff(1, 21)"
   ]
  },
  {
   "cell_type": "code",
   "execution_count": null,
   "metadata": {},
   "outputs": [],
   "source": [
    "Corr_Coeff(6, 11)"
   ]
  },
  {
   "cell_type": "code",
   "execution_count": null,
   "metadata": {},
   "outputs": [],
   "source": [
    "Corr_Coeff(6, 16)"
   ]
  },
  {
   "cell_type": "code",
   "execution_count": null,
   "metadata": {},
   "outputs": [],
   "source": [
    "Corr_Coeff(6, 21)"
   ]
  },
  {
   "cell_type": "code",
   "execution_count": null,
   "metadata": {},
   "outputs": [],
   "source": [
    "Corr_Coeff(11, 16)"
   ]
  },
  {
   "cell_type": "code",
   "execution_count": null,
   "metadata": {},
   "outputs": [],
   "source": [
    "Corr_Coeff(11, 21)"
   ]
  },
  {
   "cell_type": "code",
   "execution_count": null,
   "metadata": {},
   "outputs": [],
   "source": [
    "Corr_Coeff(16, 21)"
   ]
  },
  {
   "cell_type": "code",
   "execution_count": null,
   "metadata": {},
   "outputs": [],
   "source": [
    "Corr_Coeff(21, 16)"
   ]
  },
  {
   "cell_type": "code",
   "execution_count": null,
   "metadata": {},
   "outputs": [],
   "source": [
    "g_samples = output_noised_g_part_samples"
   ]
  },
  {
   "cell_type": "code",
   "execution_count": null,
   "metadata": {},
   "outputs": [],
   "source": [
    "write_matfile(\"test.mat\";\n",
    "  g_samp_data=g_samples)"
   ]
  },
  {
   "cell_type": "code",
   "execution_count": null,
   "metadata": {},
   "outputs": [],
   "source": [
    "g_samples_nodes = 𝒻ₚ_gll.nodes"
   ]
  },
  {
   "cell_type": "code",
   "execution_count": null,
   "metadata": {},
   "outputs": [],
   "source": [
    "write_matfile(\"test_nodes.mat\";\n",
    "  g_samps=g_samples_nodes)"
   ]
  },
  {
   "cell_type": "code",
   "execution_count": null,
   "metadata": {},
   "outputs": [],
   "source": []
  },
  {
   "cell_type": "markdown",
   "metadata": {},
   "source": []
  },
  {
   "cell_type": "markdown",
   "metadata": {},
   "source": [
    "# Error Analysis"
   ]
  },
  {
   "cell_type": "code",
   "execution_count": null,
   "metadata": {},
   "outputs": [],
   "source": [
    "# of type float (to allow for integer inputs)\n",
    "oftf(x, y) = oftype(float(x), y)\n",
    "# const leakyrelu_a::Float64 = 0.01  # also used in gradient below\n",
    "leakyrelu_deriv(x, a=oftf(x, α_lrelu)) = ifelse(x > 0, 1.0, oftf(1.0, a))  # max(a*x, x) \n",
    "\n",
    "β::Real = 1.5\n",
    "uniform_distrib::Uniform{Float64} = Uniform(-β, β); # Already defined above\n",
    "α_lrelu::Float64 = 0.01"
   ]
  },
  {
   "cell_type": "code",
   "execution_count": null,
   "metadata": {},
   "outputs": [],
   "source": [
    "function right_err_limit(𝐞_vect::Vector)\n",
    "  return mean(𝐞_vect) + 3.0 * std(𝐞_vect)\n",
    "end"
   ]
  },
  {
   "cell_type": "code",
   "execution_count": null,
   "metadata": {},
   "outputs": [],
   "source": [
    "heaviside(x)::Float64 = x >= 0 ? 1.0 : 0.0"
   ]
  },
  {
   "cell_type": "code",
   "execution_count": null,
   "metadata": {},
   "outputs": [],
   "source": [
    "α_lrelu"
   ]
  },
  {
   "cell_type": "code",
   "execution_count": null,
   "metadata": {},
   "outputs": [],
   "source": [
    "ϕꜝ(x; a=oftf(x, α_lrelu)) = heaviside(x) - a * (1.0 - heaviside(x))"
   ]
  },
  {
   "cell_type": "code",
   "execution_count": null,
   "metadata": {},
   "outputs": [],
   "source": [
    "leakyrelu_deriv(-1.0)"
   ]
  },
  {
   "cell_type": "code",
   "execution_count": null,
   "metadata": {},
   "outputs": [],
   "source": [
    "lines(LinRange(-1.0, 1.0, 100), leakyrelu_deriv.(LinRange(-1.0, 1.0, 100)))"
   ]
  },
  {
   "cell_type": "code",
   "execution_count": null,
   "metadata": {},
   "outputs": [],
   "source": [
    "function sci_formatter(x)\n",
    "  if iszero(x)\n",
    "    return \"0\"\n",
    "  else\n",
    "    exponent = floor(Int, log10(abs(x)))\n",
    "    mantissa = x / 10^exponent\n",
    "    # Construct a string in math mode: e.g. \"$5.00 \\times 10^{-4}$\"\n",
    "    return \"\\$\" * @sprintf(\"%.2f \\\\times 10^{%d}\", mantissa, exponent) * \"\\$\"\n",
    "  end\n",
    "end"
   ]
  },
  {
   "cell_type": "code",
   "execution_count": null,
   "metadata": {},
   "outputs": [],
   "source": [
    "exp(1)"
   ]
  },
  {
   "cell_type": "markdown",
   "metadata": {},
   "source": [
    "### 1-Layer Rejection Sampling"
   ]
  },
  {
   "cell_type": "code",
   "execution_count": null,
   "metadata": {},
   "outputs": [],
   "source": [
    "# Φ_norm(z::Float64) = (1.0 / 2.0) * (1.0 + erf(z / sqrt(2.0)));\n",
    "# ϕ_norm(z::Float64) = (1.0 / sqrt(2.0 * π)) * exp(-(z^2) / 2.0);"
   ]
  },
  {
   "cell_type": "code",
   "execution_count": null,
   "metadata": {},
   "outputs": [],
   "source": [
    "# function rej_sampling(𝐱::Vector, 𝐡::Vector)\n",
    "#   𝐫ꜛ::Vector = float(sign.(𝐱) .!= sign.(𝐡))\n",
    "#   𝐱 = 𝐫ꜛ .* 𝐱\n",
    "# end\n",
    "\n",
    "β = 1.5\n",
    "uniform_distrib::Uniform{Float64} = Uniform(-β, β); # Already defined above\n",
    "α_lrelu::Float64 = 0.01\n",
    "num_nonHidden_layer::Int = 1;\n",
    "num_layers::Int = length(keys(𝚯_1L)) - num_nonHidden_layer;\n",
    "input_data = input_𝒻ₚ;\n",
    "\n",
    "function 𝔼approx(i::Int, 𝐡::Vector)\n",
    "  σᵢ::Float64 = ((β^2) / 3.0) * (norm(𝐖_1L[0][i, :])^2)\n",
    "  𝔼rᵢ::Float64 = 𝐡[i] + (α_lrelu - 1.0) * (𝐡[i] * Φ_norm(-𝐡[i] / σᵢ) - σᵢ * ϕ_norm(𝐡[i] / σᵢ))\n",
    "  return 𝔼rᵢ\n",
    "end\n",
    "\n",
    "𝛍::Vector = input_data;\n",
    "# 𝐱ꜛ::Vector = zeros(length(𝛍));\n",
    "𝐳_noise::Vector = rand(uniform_distrib, length(𝛍))\n",
    "𝛎1 = 𝐖_1L[1] * 𝛍 + 𝐛_1L[1]\n",
    "# 𝐬ꜛ::Vector = (1.0 - α_lrelu) * sign.(𝐡)\n",
    "input_z_samples::Matrix = zeros(length(input_data), num_samples)\n",
    "𝐞_mat_samples::Matrix = zeros(size(input_z_samples));\n",
    "\n",
    "for n in 1:num_samples\n",
    "  𝐳_noise = rand(uniform_distrib, length(𝛍))\n",
    "  # input_z_samples[:, i] = (𝛍 .+ 𝐳_noise)\n",
    "  input_z_samples[:, n] = 𝐳_noise\n",
    "end\n",
    "\n",
    "for n in 1:num_samples\n",
    "  𝐳ₙ = input_z_samples[:, n]\n",
    "\n",
    "  𝚫𝛟1 = (ϕꜝ.(𝛎1 + 𝐖_1L[1] * 𝐳ₙ) - ϕꜝ.(𝛎1)) .* (𝛎1 + 𝐖_1L[1] * 𝐳ₙ)\n",
    "\n",
    "  𝐞_mat_samples[:, n] = abs.(𝐀_1L * 𝚫𝛟1)\n",
    "end\n",
    "\n",
    "# fig = Figure(size=(1000, 1550), px_per_unit=2.5, fontsize=13);\n",
    "\n",
    "fig_err_1L::Makie.Figure = Figure(size=(1000, 350), pt_per_unit=0.5, fontsize=25)\n",
    "\n",
    "# sample_indices = 1:3:29;\n",
    "# plot_positions = vec(collect(Iterators.product(1:3, 1:3)));\n",
    "sample_indices = 1:9:19;\n",
    "plot_positions = vec(collect(Iterators.product(1:3, 1)));\n",
    "\n",
    "for (plot_coord, point_selection) in zip(plot_positions, sample_indices)\n",
    "  row = plot_coord[1] # actually col\n",
    "  col = plot_coord[2] # actually row\n",
    "\n",
    "  selection = point_selection\n",
    "  # g_analyt::Real = 𝒩_of_μₚ[selection]\n",
    "  # αⱼ::Vector = 𝐀_1L[selection, :]\n",
    "\n",
    "\n",
    "  J_selection::Int = selection\n",
    "  𝛂ᴶ::Vector = 𝐀_1L[J_selection, :]\n",
    "  𝔼ᴶ::Float64 = 0.0\n",
    "  𝕍ᴶ::Float64 = 0.0\n",
    "\n",
    "  𝔼xixi::Float64 = (β^2) / 3.0\n",
    "\n",
    "\n",
    "  # for i in 1:M_neurons\n",
    "  #   # 𝔼ᴶ += 𝛂ᴶ[i] * 𝐬ꜛ[i] * 𝔼approx(i, 𝐡)\n",
    "  #   # 𝔼ᴶ += 𝛂ᴶ[i] * 𝐬ꜛ[i] * 𝐡[i]\n",
    "  #   𝔼ᴶ += 𝛂ᴶ[i] * (1.0 - α_lrelu) * sign.(𝐡[i]) * 𝐡[i]\n",
    "  # end\n",
    "\n",
    "  # 𝔼ᴶ = (1.0 - α_lrelu) * (abs(β - 𝛎1[J_selection])^2) / (4.0 * β)\n",
    "  𝔼ᴶ = (1.0 - α_lrelu) * dot(𝛂ᴶ, 𝛎1)\n",
    "\n",
    "  # for i in 1:64\n",
    "  #   for k in 1:64\n",
    "  #     𝕍ᴶ += 𝔼xixi*(((1.0-α_lrelu)^2)*𝛂ᴶ[i]*𝛂ᴶ[k]*sign(𝐡[i])*sign(𝐡[k]));\n",
    "  #   end\n",
    "  # end\n",
    "\n",
    "  # for k in 1:M_neurons\n",
    "  #   𝕍ᴶ += 𝔼xixi * (((1.0 - α_lrelu)^2) * 𝛂ᴶ[k] * 𝛂ᴶ[k] * sign(𝐡[k]) * sign(𝐡[k])) * rej_sampling(𝐱ꜛ, 𝐡)[k]\n",
    "  # end\n",
    "\n",
    "  𝐞gᵢ::Vector = 𝐞_mat_samples[selection, :]\n",
    "\n",
    "  begin\n",
    "    # fig = Figure()\n",
    "    pdf_height = maximum(kde(𝐞gᵢ).density)\n",
    "    if selection == 10\n",
    "      ax = Makie.Axis(fig_err_1L[col, row];\n",
    "        # limits=(mean(𝐞gᵢ) - 3.0 * std(𝐞gᵢ), right_err_limit(𝐞gᵢ), 0, pdf_height + 2.0),\n",
    "        # limits=(-0.01, 1.1, mean(𝐞gᵢ) + 3.0 * std(𝐞gᵢ), 0, pdf_height + 2.0),\n",
    "        # xlabel=L\"e_{%$selection} = \\phi_{Lin}(x_{%$selection}^\\ast) - \\phi_{\\Delta}(x_{%$selection}^\\ast) )\",\n",
    "        xticks=[0.0, 0.0075, 0.015],\n",
    "        xtickformat=values -> [L\"0.0\", L\"0.7\\times 10^{-3}\", L\"1.5\\times 10^{-3}\"],\n",
    "        xticklabelrotation=-195.25,\n",
    "        xlabel=L\"e_{%$selection}\",\n",
    "        ylabel=L\"p(e_{%$selection})\"\n",
    "        # title=L\"\\text{PDF of component %$selection of the outout error } e_i:\\text{%$num_layers Layer}\"\n",
    "      )\n",
    "    elseif selection == 19\n",
    "      ax = Makie.Axis(fig_err_1L[col, row];\n",
    "        # limits=(mean(𝐞gᵢ) - 3.0 * std(𝐞gᵢ), right_err_limit(𝐞gᵢ), 0, pdf_height + 2.0),\n",
    "        # limits=(-0.01, 1.1, mean(𝐞gᵢ) + 3.0 * std(𝐞gᵢ), 0, pdf_height + 2.0),\n",
    "        # xlabel=L\"e_{%$selection} = \\phi_{Lin}(x_{%$selection}^\\ast) - \\phi_{\\Delta}(x_{%$selection}^\\ast) )\",\n",
    "        xticks=[0.0, 0.0025, 0.0050],\n",
    "        xtickformat=values -> [L\"0.0\", L\"2.5\\times 10^{-3}\", L\"5.0\\times 10^{-3}\"],\n",
    "        xticklabelrotation=-195.25,\n",
    "        xlabel=L\"e_{%$selection}\",\n",
    "        ylabel=L\"p(e_{%$selection})\"\n",
    "        # title=L\"\\text{PDF of component %$selection of the outout error } e_i:\\text{%$num_layers Layer}\"\n",
    "      )\n",
    "    else\n",
    "      ax = Makie.Axis(fig_err_1L[col, row];\n",
    "        # limits=(mean(𝐞gᵢ) - 3.0 * std(𝐞gᵢ), right_err_limit(𝐞gᵢ), 0, pdf_height + 2.0),\n",
    "        # limits=(-0.01, 1.1, mean(𝐞gᵢ) + 3.0 * std(𝐞gᵢ), 0, pdf_height + 2.0),\n",
    "        # xlabel=L\"e_{%$selection} = \\phi_{Lin}(x_{%$selection}^\\ast) - \\phi_{\\Delta}(x_{%$selection}^\\ast) )\",\n",
    "        xtickformat=values -> [L\"0.0\", L\"2.5\\times 10^{-3}\", L\"5.0\\times 10^{-3}\"],\n",
    "        xticklabelrotation=-195.25,\n",
    "        xlabel=L\"e_{%$selection}\",\n",
    "        ylabel=L\"p(e_{%$selection})\"\n",
    "        # title=L\"\\text{PDF of component %$selection of the outout error } e_i:\\text{%$num_layers Layer}\"\n",
    "      )\n",
    "    end\n",
    "\n",
    "    xlims!(ax, mean(𝐞gᵢ) - 1.3 * std(𝐞gᵢ), right_err_limit(𝐞gᵢ))\n",
    "    hist!(ax, 𝐞gᵢ, normalization=:pdf, bins=100, label_formatter=x -> round(x, digits=2), label_size=15, strokewidth=0.5, strokecolor=(:black, 0.5), color=:values)\n",
    "\n",
    "    # 𝔼eₖ = 𝐡[selection] + (α_lrelu - 1.0)\n",
    "    # 𝕍eₖ = var(𝐞gᵢ)\n",
    "    mean_value = format(mean(𝐞gᵢ), precision=4)\n",
    "    mean_val_from_formula = format(𝔼ᴶ, precision=4)\n",
    "    var_value = format(var(𝐞gᵢ), precision=4)\n",
    "    var_val_from_formula = format(𝕍ᴶ, precision=4)\n",
    "\n",
    "    # CairoMakie.vlines!(ax, mean(𝐞gᵢ), label=L\"\\mathbb{E}[e_i]_{\\text{num}} = %$mean_value\", linestyle=:dash)\n",
    "    #     # CairoMakie.vlines!(ax, 𝔼ᴶ, label=L\"\\mathbb{E}[e_i]_{\\text{formula}} = %$mean_val_from_formula\", linestyle=:dash)\n",
    "    # CairoMakie.vlines!(ax, 𝔼gₖ, label=L\"\\mathbb{E}[e_i]_{\\text{formula}} = %$mean_val_from_formula\", linestyle=:dash)\n",
    "    # CairoMakie.vlines!(ax, 𝔼ᴶ, label=L\"\\mathbb{V}[e_i]_{\\text{num}} = %$var_value\", linestyle=:dash, color=:transparent)\n",
    "    # CairoMakie.vlines!(ax, 𝔼ᴶ, label=L\"\\mathbb{V}[e_i]_{\\text{formula}} = %$var_val_from_formula\", linestyle=:dash, color=:transparent)\n",
    "\n",
    "    # radii_std::Int = 1\n",
    "    # vlines!(ax, radii_std * σ_fit, label=L\"a = %$radii_std\\sigma\", linestyle=:dash)\n",
    "\n",
    "    # axislegend(ax)\n",
    "    # fig\n",
    "  end\n",
    "end\n",
    "fig_err_1L"
   ]
  },
  {
   "cell_type": "code",
   "execution_count": null,
   "metadata": {},
   "outputs": [],
   "source": [
    "# save(joinpath(fig_results_path, \"Lin_ErrResid_1L_1__5.pdf\"), fig_ErrResid_1L; pt_per_unit=0.5)\n",
    "save(joinpath(fig_results_path, \"Lin_1L_err_1__5.pdf\"), fig_err_1L; pt_per_unit=0.5)"
   ]
  },
  {
   "cell_type": "code",
   "execution_count": null,
   "metadata": {},
   "outputs": [],
   "source": [
    "𝐡⨀𝐡::Vector = zeros(length(𝛍))"
   ]
  },
  {
   "cell_type": "markdown",
   "metadata": {},
   "source": [
    "### 2-layer rejection sampling:"
   ]
  },
  {
   "cell_type": "code",
   "execution_count": null,
   "metadata": {},
   "outputs": [],
   "source": [
    "function rej_sampling(𝐱::Vector, 𝐡::Vector)\n",
    "  𝐫ꜛ::Vector = float(sign.(𝐱) .!= sign.(𝐡))\n",
    "  𝐱 = 𝐫ꜛ .* 𝐱\n",
    "end\n",
    "\n",
    "# function same_sign_test(𝐱::Vector, 𝐡::Vector)\n",
    "#   𝐫ꜛ::Vector = float(sign.(𝐱) .== sign.(𝐡))\n",
    "#   𝐱 = 𝐫ꜛ .* 𝐱\n",
    "# end\n",
    "\n",
    "# function diff_sign_test(𝐱::Vector, 𝐡::Vector)\n",
    "#   𝐫ꜛ::Vector = float(.!(sign.(𝐱) .== sign.(𝐡)))\n",
    "#   𝐱 = 𝐫ꜛ .* 𝐱\n",
    "# end\n",
    "\n",
    "β::Float64 = 1.5\n",
    "uniform_distrib::Uniform{Float64} = Uniform(-β, β); # Already defined above\n",
    "α_lrelu::Float64 = 0.01;\n",
    "num_nonHidden_layer::Int = 1;\n",
    "num_layers::Int = length(keys(𝚯_2L)) - num_nonHidden_layer;\n",
    "input_data = input_𝒻ₚ;\n",
    "\n",
    "𝛍::Vector = input_data;\n",
    "𝐱ꜛ::Vector = zeros(length(𝛍));\n",
    "𝐳_noise::Vector = rand(uniform_distrib, length(𝛍));\n",
    "𝛎1 = 𝐖_2L[1] * 𝛍 + 𝐛_2L[1];\n",
    "# 𝛎2 = 𝐖_2L[1] * ϕ.(𝐡1) + 𝐛_2L[1];\n",
    "input_z_samples::Matrix = zeros(length(input_data), num_samples);\n",
    "𝐞_mat_samples::Matrix = zeros(size(input_z_samples));\n",
    "\n",
    "# Temporary:\n",
    "# 𝐬ꜛ::Vector = (1.0 - α_lrelu) * sign.(𝐡2)\n",
    "\n",
    "for n in 1:num_samples\n",
    "  𝐳_noise = rand(uniform_distrib, length(𝛍))\n",
    "  input_z_samples[:, n] = 𝐳_noise\n",
    "end\n",
    "\n",
    "for n in 1:num_samples\n",
    "  𝐳ₙ = input_z_samples[:, n]\n",
    "  # 𝐳2 = ϕ.(𝐖_2L[1] * 𝐳ₙ)\n",
    "\n",
    "  𝛎ꜛ2 = 𝐖_2L[2] * (ϕꜝ.(𝛎1) .* 𝛎1) + 𝐛_2L[2]\n",
    "  𝚫𝛟1 = (ϕꜝ.(𝛎1 + 𝐖_2L[1] * 𝐳ₙ) - ϕꜝ.(𝛎1)) .* (𝛎1 + 𝐖_2L[1] * 𝐳ₙ)\n",
    "  𝐳2 = (ϕꜝ.(𝛎1) .* (𝐖_2L[1] * 𝐳ₙ) + 𝚫𝛟1)\n",
    "\n",
    "  𝚫𝛟2 = (ϕꜝ.(𝛎ꜛ2 + 𝐖_2L[2] * 𝐳2) - ϕꜝ.(𝛎ꜛ2)) .* (𝛎ꜛ2 + 𝐖_2L[2] * 𝐳2)\n",
    "\n",
    "  # Δ𝛟::Vector = diff_sign_test(ϕ.(𝐡1 + 𝐖_2L[0] * 𝐳ₙ) - ϕ.(𝐡1), 𝐡1)\n",
    "  #=\n",
    "  If sign hᵢ == sign (hᵢ + zᵢ), then zᵢ₊₁ = ϕ.(𝐡1 + 𝐖_2L[0] * 𝐳ₙ) - ϕ.(𝐡1)\n",
    "\n",
    "  Else if sign hᵢ != sign (hᵢ + zᵢ), then zᵢ₊₁ = ϕ.(𝐡1 + 𝐖_2L[0] * 𝐳ₙ) - ϕ.(𝐡1)\n",
    "  # =#\n",
    "  # Δ𝛟::Vector = float.(sign.(𝐡1 + 𝐖_2L[0] * 𝐳ₙ) .== sign.(𝐡1)) .* (ϕ.(𝐡1 + 𝐖_2L[0] * 𝐳ₙ) - ϕ.(𝐡1))\n",
    "  # # Δ𝛟::Vector = (ϕ.(𝐡1 + 𝐖_2L[0] * 𝐳ₙ) - ϕ.(𝐡1))\n",
    "  # # 𝐳r::Vector = (ϕ.(𝐖_2L[0] * 𝐳ₙ))\n",
    "  # 𝐳r::Vector = float.(sign.(𝐡1 + 𝐖_2L[0] * 𝐳ₙ) .!= sign.(𝐡1)) .* (ϕ.(𝐖_2L[0] * 𝐳ₙ))\n",
    "  # # 𝐳r::Vector = float.(sign.(𝐡1 + 𝐖_2L[0] * 𝐳ₙ) .!= sign.(𝐡1)) .* (ϕ.(𝐖_2L[0] * 𝐳ₙ) + (α_lrelu - 1.0) * float.(sign.(𝐡1)) .* ϕ.(𝐡1))\n",
    "  # # Δ𝛟::Vector = ϕ.(𝐡1 + 𝐖_2L[0] * 𝐳ₙ) - ϕ.(𝐡1)\n",
    "  # # 𝐳r::Vector = zeros(length(ϕ.(𝐡1)))\n",
    "  # # 𝐱ꜛ_2 = 𝐖_2L[1] * ϕ.(𝐱ꜛ_1) + 𝐛_2L[1]\n",
    "  # # 𝐱ꜛ_2 = 𝐖_2L[1] * ϕ.(𝐡1) + 𝐛_2L[1] + 𝐖_2L[1] * 𝐳2\n",
    "  # 𝛎ꜛ_2 = 𝐖_2L[1] * ϕ.(𝐡1) + 𝐛_2L[1] + 𝐖_2L[1] * 𝐳r + 𝐖_2L[1] * Δ𝛟\n",
    "  # # 𝛎ꜛ_2 = 𝐖_2L[1] * ϕ.(𝐡1) + 𝐛_2L[1] + 𝐖_2L[1] * Δ𝛟\n",
    "\n",
    "  # 𝐞_mat_samples[:, n] = (1.0 - α_lrelu) * abs.(𝐀_2L * rej_sampling(𝛎ꜛ_2, 𝐡2))\n",
    "  𝐞_mat_samples[:, n] = abs.(𝐀_2L * 𝚫𝛟2)\n",
    "end\n",
    "\n",
    "fig = Figure(size=(1000, 1250), px_per_unit=2.5, fontsize=18)\n",
    "\n",
    "# sample_indices = 1:2:29;\n",
    "# plot_positions = vec(collect(Iterators.product(1:3, 1:5)));\n",
    "\n",
    "sample_indices = 1:8:29;\n",
    "plot_positions = vec(collect(Iterators.product(1:2, 1:2)));\n",
    "\n",
    "for (plot_coord, point_selection) in zip(plot_positions, sample_indices)\n",
    "  row = plot_coord[1] # actually col\n",
    "  col = plot_coord[2] # actually row\n",
    "\n",
    "  # selection = point_selection\n",
    "  # g_analyt::Real = 𝒩_of_μₚ[selection]\n",
    "  # αⱼ::Vector = 𝐀_1L[selection, :]\n",
    "\n",
    "\n",
    "  # J_selection::Int = selection\n",
    "  𝛂ᴶ::Vector = 𝐀_2L[point_selection, :]\n",
    "  𝔼ᴶ::Float64 = 0.0\n",
    "  𝕍ᴶ::Float64 = 0.0\n",
    "\n",
    "  𝔼xixi::Float64 = (β^2) / 3.0\n",
    "\n",
    "\n",
    "  # for i in 1:M_neurons\n",
    "  #   # 𝔼ᴶ += 𝛂ᴶ[i] * 𝐬ꜛ[i] * 𝔼approx(i, 𝐡)\n",
    "  #   # 𝔼ᴶ += 𝛂ᴶ[i] * 𝐬ꜛ[i] * 𝐡[i]\n",
    "  #   𝔼ᴶ += abs(𝛂ᴶ[i] * (1.0 - α_lrelu) * 𝐡2[i])\n",
    "  # end\n",
    "  # 𝔼ᴶ = (1.0 - α_lrelu) * abs.(𝛂ᴶ ⋅ 𝐡2)\n",
    "  # 𝔼ᴶ = (1.0 - α_lrelu) * 𝛂ᴶ ⋅ (sign.(𝐡2 + 𝐖_2L[J_selection, 1]*))\n",
    "\n",
    "  # for i in 1:64\n",
    "  #   for k in 1:64\n",
    "  #     𝕍ᴶ += 𝔼xixi*(((1.0-α_lrelu)^2)*𝛂ᴶ[i]*𝛂ᴶ[k]*sign(𝐡[i])*sign(𝐡[k]));\n",
    "  #   end\n",
    "  # end\n",
    "\n",
    "  # for k in 1:M_neurons\n",
    "  #   𝕍ᴶ += 𝔼xixi * (((1.0 - α_lrelu)^2) * 𝛂ᴶ[k] * 𝛂ᴶ[k] * sign(𝐡[k]) * sign(𝐡[k])) * rej_sampling(𝐱ꜛ, 𝐡)[k]\n",
    "  # end\n",
    "\n",
    "  𝐞gᵢ::Vector = 𝐞_mat_samples[point_selection, :]\n",
    "\n",
    "  # stdegj=std(𝐞gᵢ);\n",
    "  begin\n",
    "    # fig = Figure()\n",
    "    pdf_height = maximum(kde(𝐞gᵢ).density)\n",
    "    ax = Makie.Axis(fig[col, row];\n",
    "      limits=(mean(𝐞gᵢ) - 3.0 * std(𝐞gᵢ), mean(𝐞gᵢ) + 3.0 * std(𝐞gᵢ), 0, pdf_height + 1.0),\n",
    "      xlabel=L\"e_{%$selection} = \\mathbf{\\alpha'}_{%$selection}^{(%$num_layers)} \\cdot \\mathbf{\\phi}_{\\Delta}^{(%$num_layers)}\",\n",
    "      ylabel=L\"p(e_i)\",\n",
    "      title=L\"\\text{PDF of component %$point_selection of the outout error } e_i:\\text{%$num_layers Layer}\")\n",
    "    hist!(ax, 𝐞gᵢ, normalization=:pdf, bins=100, label_formatter=x -> round(x, digits=2), label_size=15, strokewidth=0.5, strokecolor=(:black, 0.5), color=:values)\n",
    "\n",
    "    # 𝔼eₖ = 𝐡[selection] + (α_lrelu - 1.0)\n",
    "    # 𝕍eₖ = var(𝐞gᵢ)\n",
    "    mean_value = format(mean(𝐞gᵢ), precision=4)\n",
    "    mean_val_from_formula = format(𝔼ᴶ, precision=4)\n",
    "    var_value = format(var(𝐞gᵢ), precision=4)\n",
    "    var_val_from_formula = format(𝕍ᴶ, precision=4)\n",
    "\n",
    "    CairoMakie.vlines!(ax, mean(𝐞gᵢ), label=L\"\\mathbb{E}[e_i]_{\\text{num}} = %$mean_value\", linestyle=:dash)\n",
    "    # CairoMakie.vlines!(ax, 𝔼ᴶ, label=L\"\\mathbb{E}[e_i]_{\\text{formula}} = %$mean_val_from_formula\", linestyle=:dash)\n",
    "    # CairoMakie.vlines!(ax, 𝔼gₖ, label=L\"\\mathbb{E}[e_i]_{\\text{formula}} = %$mean_val_from_formula\", linestyle=:dash)\n",
    "    CairoMakie.vlines!(ax, 𝔼ᴶ, label=L\"\\mathbb{V}[e_i]_{\\text{num}} = %$var_value\", linestyle=:dash, color=:transparent)\n",
    "    CairoMakie.vlines!(ax, 𝔼ᴶ, label=L\"\\mathbb{V}[e_i]_{\\text{formula}} = %$var_val_from_formula\", linestyle=:dash, color=:transparent)\n",
    "\n",
    "    # radii_std::Int = 1\n",
    "    # vlines!(ax, radii_std * σ_fit, label=L\"a = %$radii_std\\sigma\", linestyle=:dash)\n",
    "    # radii_std = 2\n",
    "    # vlines!(ax, radii_std * σ_fit, label=L\"a = %$radii_std\\sigma\", linestyle=:dash)\n",
    "    # radii_std::Int = 3;\n",
    "    # vlines!(ax, radii_std * σ_fit, label=L\"a = %$radii_std\\sigma\", linestyle=:dash);\n",
    "\n",
    "    axislegend(ax)\n",
    "    # fig\n",
    "  end\n",
    "end\n",
    "fig"
   ]
  },
  {
   "cell_type": "code",
   "execution_count": null,
   "metadata": {},
   "outputs": [],
   "source": [
    "𝐖_5L[6] == 𝐀_5L"
   ]
  },
  {
   "cell_type": "code",
   "execution_count": null,
   "metadata": {},
   "outputs": [],
   "source": [
    "[1, 2, 3] ⊙ [1, 2, 3]"
   ]
  },
  {
   "cell_type": "code",
   "execution_count": null,
   "metadata": {},
   "outputs": [],
   "source": [
    "σ_fit"
   ]
  },
  {
   "cell_type": "code",
   "execution_count": null,
   "metadata": {},
   "outputs": [],
   "source": [
    "2 * σ_fit"
   ]
  },
  {
   "cell_type": "markdown",
   "metadata": {},
   "source": [
    "### 3-Layer Rejection Sampling"
   ]
  },
  {
   "cell_type": "code",
   "execution_count": null,
   "metadata": {},
   "outputs": [],
   "source": [
    "saved_egi = []"
   ]
  },
  {
   "cell_type": "code",
   "execution_count": null,
   "metadata": {},
   "outputs": [],
   "source": [
    "# function rej_sampling(𝐱::Vector, 𝐡::Vector)\n",
    "#   𝐫ꜛ::Vector = float(.!(sign.(𝐱) .== sign.(𝐡)))\n",
    "#   𝐱 = 𝐫ꜛ .* 𝐱\n",
    "# end\n",
    "\n",
    "β::Real = 1.5\n",
    "uniform_distrib::Uniform{Float64} = Uniform(-β, β); # Already defined above\n",
    "α_lrelu::Float64 = 0.01\n",
    "num_nonHidden_layer::Int = 1;\n",
    "num_layers::Int = length(keys(𝚯_3L)) - num_nonHidden_layer;\n",
    "input_data = input_𝒻ₚ;\n",
    "\n",
    "𝛍::Vector = input_data;\n",
    "𝐳_noise::Vector = rand(uniform_distrib, length(𝛍))\n",
    "𝛎1 = 𝐖_3L[1] * 𝛍 + 𝐛_3L[1];\n",
    "input_z_samples::Matrix = zeros(length(input_data), num_samples)\n",
    "𝐞_mat_samples::Matrix = zeros(size(input_z_samples));\n",
    "\n",
    "for n in 1:num_samples\n",
    "  𝐳_noise = rand(uniform_distrib, length(𝛍))\n",
    "  input_z_samples[:, n] = 𝐳_noise\n",
    "end\n",
    "\n",
    "for n in 1:num_samples\n",
    "  𝐳ₙ = input_z_samples[:, n]\n",
    "\n",
    "  𝛎ꜛ2 = 𝐖_3L[2] * (ϕꜝ.(𝛎1) .* 𝛎1) + 𝐛_3L[2]\n",
    "  𝚫𝛟1 = (ϕꜝ.(𝛎1 + 𝐖_3L[1] * 𝐳ₙ) - ϕꜝ.(𝛎1)) .* (𝛎1 + 𝐖_3L[1] * 𝐳ₙ)\n",
    "  𝐳2 = (ϕꜝ.(𝛎1) .* (𝐖_3L[1] * 𝐳ₙ) + 𝚫𝛟1)\n",
    "\n",
    "  𝛎ꜛ3 = 𝐖_3L[3] * (ϕꜝ.(𝛎ꜛ2) .* 𝛎ꜛ2) + 𝐛_3L[3]\n",
    "  𝚫𝛟2 = (ϕꜝ.(𝛎ꜛ2 + 𝐖_3L[2] * 𝐳2) - ϕꜝ.(𝛎ꜛ2)) .* (𝛎ꜛ2 + 𝐖_3L[2] * 𝐳2)\n",
    "  𝐳3 = (ϕꜝ.(𝛎ꜛ2) .* (𝐖_3L[2] * 𝐳2) + 𝚫𝛟2)\n",
    "\n",
    "  𝚫𝛟3 = (ϕꜝ.(𝛎ꜛ3 + 𝐖_3L[3] * 𝐳3) - ϕꜝ.(𝛎ꜛ3)) .* (𝛎ꜛ3 + 𝐖_3L[3] * 𝐳3)\n",
    "  𝐞_mat_samples[:, n] = abs.(𝐀_3L * 𝚫𝛟3)\n",
    "end\n",
    "\n",
    "fig_err_3L::Makie.Figure = Figure(size=(1000, 350), pt_per_unit=0.5, fontsize=25)\n",
    "\n",
    "# sample_indices = 1:3:29;\n",
    "# plot_positions = vec(collect(Iterators.product(1:3, 1:3)));\n",
    "sample_indices = 1:9:19;\n",
    "plot_positions = vec(collect(Iterators.product(1:3, 1)));\n",
    "\n",
    "# sample_indices = 1:2:29;\n",
    "# plot_positions = vec(collect(Iterators.product(1:3, 1:5)));\n",
    "\n",
    "# sample_indices = 1:8:29;\n",
    "# plot_positions = vec(collect(Iterators.product(1:2, 1:2)));\n",
    "\n",
    "for (plot_coord, point_selection) in zip(plot_positions, sample_indices)\n",
    "  row = plot_coord[1] # actually col\n",
    "  col = plot_coord[2] # actually row\n",
    "\n",
    "  selection = point_selection\n",
    "  # g_analyt::Real = 𝒩_of_μₚ[selection]\n",
    "  # αⱼ::Vector = 𝐀_1L[selection, :]\n",
    "\n",
    "\n",
    "  J_selection::Int = selection\n",
    "  𝛂ᴶ::Vector = 𝐀_2L[J_selection, :]\n",
    "  𝔼ᴶ::Float64 = 0.0\n",
    "  𝕍ᴶ::Float64 = 0.0\n",
    "\n",
    "  𝔼xixi::Float64 = (β^2) / 3.0\n",
    "\n",
    "  𝐞gᵢ::Vector = 𝐞_mat_samples[selection, :]\n",
    "\n",
    "  begin\n",
    "    # fig = Figure()\n",
    "    pdf_height = maximum(kde(𝐞gᵢ).density)\n",
    "    if selection == 1\n",
    "      ax = Makie.Axis(fig_err_3L[col, row];\n",
    "        # limits=(mean(𝐞gᵢ) - 3.0 * std(𝐞gᵢ), right_err_limit(𝐞gᵢ), 0, pdf_height + 2.0),\n",
    "        # xlabel=L\"e_{%$selection} = \\mathbf{\\alpha'}_{%$selection}^{(%$num_layers)} \\cdot \\mathbf{\\phi}_{\\Delta}^{(%$num_layers)}\",\n",
    "        xticks=[0.0, 0.005, 0.010],\n",
    "        xtickformat=values -> [L\"0.0\", L\"0.5\\times 10^{-2}\", L\"1.0\\times 10^{-2}\"],\n",
    "        xticklabelrotation=-195.25,\n",
    "        xlabel=L\"e_{%$selection}\",\n",
    "        ylabel=L\"p(e_{%$selection})\")\n",
    "    elseif selection == 19\n",
    "      ax = Makie.Axis(fig_err_3L[col, row];\n",
    "        # limits=(mean(𝐞gᵢ) - 3.0 * std(𝐞gᵢ), right_err_limit(𝐞gᵢ), 0, pdf_height + 2.0),\n",
    "        # xlabel=L\"e_{%$selection} = \\mathbf{\\alpha'}_{%$selection}^{(%$num_layers)} \\cdot \\mathbf{\\phi}_{\\Delta}^{(%$num_layers)}\",\n",
    "        xticks=[0.0, 0.0002, 0.0004],\n",
    "        xtickformat=values -> [L\"0.0\", L\"0.2\\times 10^{-3}\", L\"0.4\\times 10^{-3}\"],\n",
    "        xticklabelrotation=-195.25,\n",
    "        xlabel=L\"e_{%$selection}\",\n",
    "        ylabel=L\"p(e_{%$selection})\")\n",
    "    else\n",
    "      ax = Makie.Axis(fig_err_3L[col, row];\n",
    "        # limits=(mean(𝐞gᵢ) - 3.0 * std(𝐞gᵢ), right_err_limit(𝐞gᵢ), 0, pdf_height + 2.0),\n",
    "        # xlabel=L\"e_{%$selection} = \\mathbf{\\alpha'}_{%$selection}^{(%$num_layers)} \\cdot \\mathbf{\\phi}_{\\Delta}^{(%$num_layers)}\",\n",
    "        # xtickformat = values -> [L\"0.0\", L\"0.5\\times 10^{-2}\", L\"1.0\\times 10^{-2}\"],\n",
    "        xticklabelrotation=-195.25,\n",
    "        xlabel=L\"e_{%$selection}\",\n",
    "        ylabel=L\"p(e_{%$selection})\")\n",
    "    end\n",
    "    xlims!(ax, mean(𝐞gᵢ) - 1.3 * std(𝐞gᵢ), right_err_limit(𝐞gᵢ))\n",
    "    # title=L\"\\text{PDF of component %$selection of the outout error } e_i:\\text{%$num_layers Layer}\")\n",
    "    hist!(ax, 𝐞gᵢ, normalization=:pdf, bins=100, label_size=15, strokewidth=0.5, strokecolor=(:black, 0.5), color=:values)\n",
    "\n",
    "    # 𝔼eₖ = 𝐡[selection] + (α_lrelu - 1.0)\n",
    "    # 𝕍eₖ = var(𝐞gᵢ)\n",
    "    mean_value = format(mean(𝐞gᵢ), precision=4)\n",
    "    mean_val_from_formula = format(𝔼ᴶ, precision=4)\n",
    "    var_value = format(var(𝐞gᵢ), precision=4)\n",
    "    var_val_from_formula = format(𝕍ᴶ, precision=4)\n",
    "\n",
    "    # CairoMakie.vlines!(ax, mean(𝐞gᵢ), label=L\"\\mathbb{E}[e_i]_{\\text{num}} = %$mean_value\", linestyle=:dash)\n",
    "    # CairoMakie.vlines!(ax, 𝔼ᴶ, label=L\"\\mathbb{E}[e_i]_{\\text{formula}} = %$mean_val_from_formula\", linestyle=:dash)\n",
    "    # CairoMakie.vlines!(ax, 𝔼gₖ, label=L\"\\mathbb{E}[e_i]_{\\text{formula}} = %$mean_val_from_formula\", linestyle=:dash)\n",
    "    # CairoMakie.vlines!(ax, 𝔼ᴶ, label=L\"\\mathbb{V}[e_i]_{\\text{num}} = %$var_value\", linestyle=:dash, color=:transparent)\n",
    "    # CairoMakie.vlines!(ax, 𝔼ᴶ, label=L\"\\mathbb{V}[e_i]_{\\text{formula}} = %$var_val_from_formula\", linestyle=:dash, color=:transparent)\n",
    "\n",
    "    # axislegend(ax)\n",
    "    # fig\n",
    "  end\n",
    "end\n",
    "fig_err_3L"
   ]
  },
  {
   "cell_type": "code",
   "execution_count": null,
   "metadata": {},
   "outputs": [],
   "source": [
    "fig_err_3L"
   ]
  },
  {
   "cell_type": "code",
   "execution_count": null,
   "metadata": {},
   "outputs": [],
   "source": [
    "# save(joinpath(fig_results_path, \"Lin_ErrResid_3L_1__5.pdf\"), fig_ErrResid_3L; pt_per_unit=0.5)\n",
    "save(joinpath(fig_results_path, \"Lin_3L_err_1__5.pdf\"), fig_err_3L; pt_per_unit=0.5)"
   ]
  },
  {
   "cell_type": "code",
   "execution_count": null,
   "metadata": {},
   "outputs": [],
   "source": [
    "saved_egi"
   ]
  },
  {
   "cell_type": "code",
   "execution_count": null,
   "metadata": {},
   "outputs": [],
   "source": []
  },
  {
   "cell_type": "markdown",
   "metadata": {},
   "source": [
    "### 5-Layer Rejection Sampling"
   ]
  },
  {
   "cell_type": "code",
   "execution_count": null,
   "metadata": {},
   "outputs": [],
   "source": [
    "β::Real = 1.5\n",
    "uniform_distrib::Uniform{Float64} = Uniform(-β, β); # Already defined above\n",
    "α_lrelu::Float64 = 0.01\n",
    "num_nonHidden_layer::Int = 1;\n",
    "num_layers::Int = length(keys(𝚯_5L)) - num_nonHidden_layer;\n",
    "input_data = input_𝒻ₚ;\n",
    "\n",
    "𝛍::Vector = input_data;\n",
    "# 𝐱ꜛ::Vector = zeros(length(𝛍));\n",
    "𝐳_noise::Vector = rand(uniform_distrib, length(𝛍))\n",
    "𝛎1 = 𝐖_5L[1] * 𝛍 + 𝐛_5L[1];\n",
    "input_z_samples::Matrix = zeros(length(input_data), num_samples);\n",
    "𝐞_mat_samples::Matrix = zeros(size(input_z_samples));\n",
    "\n",
    "for n in 1:num_samples\n",
    "  𝐳_noise = rand(uniform_distrib, length(𝛍))\n",
    "  input_z_samples[:, n] = 𝐳_noise\n",
    "end\n",
    "\n",
    "\n",
    "for n in 1:num_samples\n",
    "  𝐳ₙ = input_z_samples[:, n]\n",
    "\n",
    "  𝛎ꜛ2 = 𝐖_5L[2] * (ϕꜝ.(𝛎1) .* 𝛎1) + 𝐛_5L[2]\n",
    "  𝚫𝛟1 = (ϕꜝ.(𝛎1 + 𝐖_5L[1] * 𝐳ₙ) - ϕꜝ.(𝛎1)) .* (𝛎1 + 𝐖_5L[1] * 𝐳ₙ)\n",
    "  𝐳2 = (ϕꜝ.(𝛎1) .* (𝐖_5L[1] * 𝐳ₙ) + 𝚫𝛟1)\n",
    "\n",
    "  𝛎ꜛ3 = 𝐖_5L[3] * (ϕꜝ.(𝛎ꜛ2) .* 𝛎ꜛ2) + 𝐛_5L[3]\n",
    "  𝚫𝛟2 = (ϕꜝ.(𝛎ꜛ2 + 𝐖_5L[2] * 𝐳2) - ϕꜝ.(𝛎ꜛ2)) .* (𝛎ꜛ2 + 𝐖_5L[2] * 𝐳2)\n",
    "  𝐳3 = (ϕꜝ.(𝛎ꜛ2) .* (𝐖_5L[2] * 𝐳2) + 𝚫𝛟2)\n",
    "\n",
    "  𝛎ꜛ4 = 𝐖_5L[4] * (ϕꜝ.(𝛎ꜛ3) .* 𝛎ꜛ3) + 𝐛_5L[4]\n",
    "  𝚫𝛟3 = (ϕꜝ.(𝛎ꜛ3 + 𝐖_5L[3] * 𝐳3) - ϕꜝ.(𝛎ꜛ3)) .* (𝛎ꜛ3 + 𝐖_5L[3] * 𝐳3)\n",
    "  𝐳4 = (ϕꜝ.(𝛎ꜛ3) .* (𝐖_5L[3] * 𝐳3) + 𝚫𝛟3)\n",
    "\n",
    "  𝛎ꜛ5 = 𝐖_5L[5] * (ϕꜝ.(𝛎ꜛ4) .* 𝛎ꜛ4) + 𝐛_5L[5]\n",
    "  𝚫𝛟4 = (ϕꜝ.(𝛎ꜛ4 + 𝐖_5L[4] * 𝐳4) - ϕꜝ.(𝛎ꜛ4)) .* (𝛎ꜛ4 + 𝐖_5L[4] * 𝐳4)\n",
    "  𝐳5 = (ϕꜝ.(𝛎ꜛ4) .* (𝐖_5L[4] * 𝐳4) + 𝚫𝛟4)\n",
    "\n",
    "  𝚫𝛟5 = (ϕꜝ.(𝛎ꜛ5 + 𝐖_5L[5] * 𝐳5) - ϕꜝ.(𝛎ꜛ5)) .* (𝛎ꜛ5 + 𝐖_5L[5] * 𝐳5)\n",
    "  𝐞_mat_samples[:, n] = abs.(𝐀_5L * 𝚫𝛟5)\n",
    "end\n",
    "\n",
    "fig_err_5L::Makie.Figure = Figure(size=(1000, 350), pt_per_unit=0.5, fontsize=25)\n",
    "\n",
    "# sample_indices = 1:3:29;\n",
    "# plot_positions = vec(collect(Iterators.product(1:3, 1:3)));\n",
    "sample_indices = 1:9:19;\n",
    "plot_positions = vec(collect(Iterators.product(1:3, 1)));\n",
    "# sample_indices = 1:8:29;\n",
    "# plot_positions = vec(collect(Iterators.product(1:2, 1:2)));\n",
    "\n",
    "for (plot_coord, point_selection) in zip(plot_positions, sample_indices)\n",
    "  row = plot_coord[1] # actually col\n",
    "  col = plot_coord[2] # actually row\n",
    "\n",
    "  selection = point_selection\n",
    "  # g_analyt::Real = 𝒩_of_μₚ[selection]\n",
    "  # αⱼ::Vector = 𝐀_1L[selection, :]\n",
    "\n",
    "\n",
    "  J_selection::Int = selection\n",
    "  𝛂ᴶ::Vector = 𝐀_5L[J_selection, :]\n",
    "  𝔼ᴶ::Float64 = 0.0\n",
    "  𝕍ᴶ::Float64 = 0.0\n",
    "\n",
    "  𝔼xixi::Float64 = (β^2) / 3.0\n",
    "\n",
    "  𝐞gᵢ::Vector = 𝐞_mat_samples[selection, :]\n",
    "\n",
    "  begin\n",
    "    # fig = Figure()\n",
    "    pdf_height = maximum(kde(𝐞gᵢ).density)\n",
    "    ax = Makie.Axis(fig_err_5L[col, row];\n",
    "      # limits=(mean(𝐞gᵢ) - 3.0 * std(𝐞gᵢ), right_err_limit(𝐞gᵢ), 0, pdf_height + 2.5),\n",
    "      xlabel=L\"e_{%$selection}\",\n",
    "      ylabel=L\"p(e_{%$selection})\")\n",
    "    xlims!(ax, mean(𝐞gᵢ) - 1.0 * std(𝐞gᵢ), right_err_limit(𝐞gᵢ))\n",
    "    # title=L\"\\text{PDF of component %$selection of the outout error } e_i:\\text{%$num_layers Layer}\")\n",
    "    hist!(ax, 𝐞gᵢ, normalization=:pdf, bins=100, label_formatter=x -> round(x, digits=2), label_size=15, strokewidth=0.5, strokecolor=(:black, 0.5), color=:values)\n",
    "\n",
    "    # 𝔼eₖ = 𝐡[selection] + (α_lrelu - 1.0)\n",
    "    # 𝕍eₖ = var(𝐞gᵢ)\n",
    "    mean_value = format(mean(𝐞gᵢ), precision=4)\n",
    "    mean_val_from_formula = format(𝔼ᴶ, precision=4)\n",
    "    var_value = format(var(𝐞gᵢ), precision=4)\n",
    "    var_val_from_formula = format(𝕍ᴶ, precision=4)\n",
    "  end\n",
    "end\n",
    "fig_err_5L"
   ]
  },
  {
   "cell_type": "code",
   "execution_count": null,
   "metadata": {},
   "outputs": [],
   "source": [
    "# save(joinpath(fig_results_path, \"Lin_ErrResid_5L_1__5.pdf\"), fig_ErrResid_5L; pt_per_unit=0.5)\n",
    "save(joinpath(fig_results_path, \"Lin_5L_err_1__5.pdf\"), fig_err_5L; pt_per_unit=0.5)"
   ]
  },
  {
   "cell_type": "markdown",
   "metadata": {},
   "source": []
  },
  {
   "cell_type": "markdown",
   "metadata": {},
   "source": [
    "### Computed Errors:"
   ]
  },
  {
   "cell_type": "code",
   "execution_count": null,
   "metadata": {},
   "outputs": [],
   "source": [
    "computed_errors_1L::Matrix = zeros(size(input_z_samples))\n",
    "𝐡::Vector = 𝐖_1L[0] * 𝛍 + 𝐛_1L[0];\n",
    "𝚫𝐱::Vector = zeros(64);\n",
    "\n",
    "for j in 1:num_samples\n",
    "  Δ𝐱 = 𝐡 + 𝐖_1L[0] * input_z_samples[:, j]\n",
    "  # computed_errors_1L[:, j] = 𝐀_1L * ϕ.(𝐖_1L[0] * (𝛍 + input_z_samples[:, j]) + 𝐛_1L[0]) - 𝐀_1L * ϕ.(𝐖_1L[0] * 𝛍 + 𝐛_1L[0])\n",
    "  computed_errors_1L[:, j] = abs.(𝐀_1L * (ϕ.(Δ𝐱) - ϕ.(𝐡)))\n",
    "end"
   ]
  },
  {
   "cell_type": "code",
   "execution_count": null,
   "metadata": {},
   "outputs": [],
   "source": [
    "hist(abs.(computed_errors_1L[3, :]), normalization=:pdf, bins=100, label_formatter=x -> round(x, digits=2), label_size=15, strokewidth=0.5, strokecolor=(:black, 0.5), color=:values)"
   ]
  },
  {
   "cell_type": "code",
   "execution_count": null,
   "metadata": {},
   "outputs": [],
   "source": [
    "computed_errors_2L_firstlayer::Matrix = zeros(64, num_samples);\n",
    "𝐡1 = 𝐖_2L[0] * 𝛍 + 𝐛_1L[0];"
   ]
  },
  {
   "cell_type": "code",
   "execution_count": null,
   "metadata": {},
   "outputs": [],
   "source": [
    "for j in 1:num_samples\n",
    "  computed_errors_2L_firstlayer[:, j] = 𝐖_2L[1] * ϕ.(𝐡1 + 𝐖_2L[0] * input_z_samples[:, j]) - 𝐖_2L[1] * ϕ.(𝐡1)\n",
    "end"
   ]
  },
  {
   "cell_type": "code",
   "execution_count": null,
   "metadata": {},
   "outputs": [],
   "source": [
    "begin\n",
    "  fig = Figure()\n",
    "  ax = Makie.Axis(fig[1, 1];\n",
    "    xlabel=L\"| \\langle w_i,z \\rangle|\",\n",
    "    ylabel=L\"p(| \\langle w_i,z \\rangle|)\",\n",
    "    title=L\"\\text{(%$num_layers layers) Histogram of } |\\langle w_i,z \\rangle|\")\n",
    "  hist!(ax, abs.(computed_errors_2L_firstlayer[7, :]), normalization=:pdf, bins=100, label_formatter=x -> round(x, digits=2), label_size=15, strokewidth=0.5, strokecolor=(:black, 0.5), color=:values)\n",
    "  lines!(ax, x_dom_folded, (2.0 / (sqrt(2.0 * π) * σ_fit)) * exp.(-(x_dom_folded .^ 2) / (2.0 * 𝕍ar)), color=:darkgoldenrod, linewidth=3.5)\n",
    "  vlines!(ax, σ_fit, label=L\"a = \\sigma\", linestyle=:dash)\n",
    "  vlines!(ax, 2.0 * σ_fit, label=L\"a = 2\\sigma\", linestyle=:dash)\n",
    "  vlines!(ax, 3.0 * σ_fit, label=L\"a = 3\\sigma\", linestyle=:dash)\n",
    "\n",
    "  fig\n",
    "end\n"
   ]
  },
  {
   "cell_type": "code",
   "execution_count": null,
   "metadata": {},
   "outputs": [],
   "source": [
    "computed_errors_2L_lastlayer::Matrix = zeros(size(input_z_samples))\n",
    "\n",
    "for n in 1:num_samples\n",
    "  𝐡1 = 𝐖_2L[0] * 𝛍 + 𝐛_1L[0]\n",
    "  computed_errors_2L_lastlayer[:, n] = 𝐀_2L * ϕ.(𝐖_2L[1] * ϕ.(𝐡1 + 𝐖_2L[0] * input_z_samples[:, n]) + 𝐛_2L[1]) - 𝐀_2L * ϕ.(𝐖_2L[1] * ϕ.(𝐡1) + 𝐛_2L[1])\n",
    "end"
   ]
  },
  {
   "cell_type": "code",
   "execution_count": null,
   "metadata": {},
   "outputs": [],
   "source": [
    "hist(abs.(computed_errors_2L_lastlayer[9, :]), normalization=:pdf, bins=100, label_formatter=x -> round(x, digits=2), label_size=15, strokewidth=0.5, strokecolor=(:black, 0.5), color=:values)"
   ]
  },
  {
   "cell_type": "code",
   "execution_count": null,
   "metadata": {},
   "outputs": [],
   "source": [
    "# begin\n",
    "#   fig = Figure()\n",
    "#   ax = Makie.Axis(fig[1, 1];);\n",
    "#   hist!(ax, abs.(computed_errors_2L_lastlayer[27, :]), normalization=:pdf, bins=100, label_formatter=x -> round(x, digits=2), label_size=15, strokewidth=0.5, strokecolor=(:black, 0.5), color=:values)\n",
    "#   lines!(ax, x_dom_folded, (2.0 / (sqrt(2.0 * π) * σ_fit)) * exp.(-(x_dom_folded .^ 2) / (2.0 * 𝕍ar)), color=:darkgoldenrod, linewidth=3.5)\n",
    "#   vlines!(ax, σ_fit, label=L\"a = \\sigma\", linestyle=:dash)\n",
    "#   vlines!(ax, 2.0 * σ_fit, label=L\"a = 2\\sigma\", linestyle=:dash)\n",
    "#   vlines!(ax, 3.0 * σ_fit, label=L\"a = 3\\sigma\", linestyle=:dash)\n",
    "\n",
    "#   fig\n",
    "# end"
   ]
  },
  {
   "cell_type": "code",
   "execution_count": null,
   "metadata": {},
   "outputs": [],
   "source": []
  },
  {
   "cell_type": "code",
   "execution_count": null,
   "metadata": {},
   "outputs": [],
   "source": [
    "𝔼ᴶ"
   ]
  },
  {
   "cell_type": "code",
   "execution_count": null,
   "metadata": {},
   "outputs": [],
   "source": [
    "β"
   ]
  },
  {
   "cell_type": "code",
   "execution_count": null,
   "metadata": {},
   "outputs": [],
   "source": [
    "𝐬ꜛ"
   ]
  },
  {
   "cell_type": "markdown",
   "metadata": {},
   "source": [
    "# Quantifying Error"
   ]
  },
  {
   "cell_type": "code",
   "execution_count": null,
   "metadata": {},
   "outputs": [],
   "source": [
    "erf(2.0)"
   ]
  },
  {
   "cell_type": "code",
   "execution_count": null,
   "metadata": {},
   "outputs": [],
   "source": [
    "dot(𝐖_2L[0][2, :], 𝐳_noise)"
   ]
  },
  {
   "cell_type": "code",
   "execution_count": null,
   "metadata": {},
   "outputs": [],
   "source": [
    "β::Float64 = 1.5\n",
    "uniform_distrib::Uniform{Float64} = Uniform(-β, β);"
   ]
  },
  {
   "cell_type": "markdown",
   "metadata": {},
   "source": [
    "## Fitting Two Distributions:\n",
    "\n",
    "\n",
    "- Gaussian to $⟨\\bm{w}_i, \\bm{z}⟩$ with zero mean and variance $ \\frac{1}{3}||\\bm{w}_i||^2_2 \\beta^2 $\n",
    "- Folded Gaussian to $ |⟨\\bm{w}_i, \\bm{z} ⟩| $"
   ]
  },
  {
   "cell_type": "code",
   "execution_count": null,
   "metadata": {},
   "outputs": [],
   "source": [
    "selection = rand(1:31);\n",
    "w_selection::Int = 7;\n",
    "\n",
    "### === Noise Generation\n",
    "𝐳_noise::Vector = rand(uniform_distrib, length(μₚ))\n",
    "𝐳_noise_samples::Matrix = zeros(length(μₚ), num_samples)\n",
    "# w𝐳_samples::Vector = zeros(1, num_samples)\n",
    "w𝐳_samples = zeros(1, num_samples)\n",
    "# output_noised_samples::Matrix = zeros(length(output_data), num_samples)\n",
    "\n",
    "for i in 1:num_samples\n",
    "  𝐳_noise = rand(uniform_distrib, length(μₚ))\n",
    "  𝐳_noise_samples[:, i] = 𝐳_noise\n",
    "  w𝐳_samples[1, i] = dot(𝐖_2L[1][w_selection, :], 𝐳_noise)\n",
    "\n",
    "  # output_noised_samples[:, i] = 𝒩ₙₙNL(input_noise_samples[:, i])\n",
    "end"
   ]
  },
  {
   "cell_type": "code",
   "execution_count": null,
   "metadata": {},
   "outputs": [],
   "source": [
    "w𝐳_samples"
   ]
  },
  {
   "cell_type": "code",
   "execution_count": null,
   "metadata": {},
   "outputs": [],
   "source": [
    "(β / sqrt(3.0)) * norm(𝐖_2L[1][w_selection, :])"
   ]
  },
  {
   "cell_type": "code",
   "execution_count": null,
   "metadata": {},
   "outputs": [],
   "source": [
    "std(w𝐳_samples)"
   ]
  },
  {
   "cell_type": "code",
   "execution_count": null,
   "metadata": {},
   "outputs": [],
   "source": [
    "x_dom = LinRange(-1.0, 1.0, 1000)\n",
    "\n",
    "𝕍ar = ((β^2) / 3.0) * (norm(𝐖_2L[1][w_selection, :])^2)\n",
    "σ_fit = sqrt(𝕍ar)"
   ]
  },
  {
   "cell_type": "code",
   "execution_count": null,
   "metadata": {},
   "outputs": [],
   "source": [
    "\n",
    "begin\n",
    "  fig = Figure()\n",
    "  ax = Makie.Axis(fig[1, 1];\n",
    "    xlabel=L\"\\langle w_i,z \\rangle\",\n",
    "    ylabel=L\"p(\\langle w_i,z \\rangle)\",\n",
    "    title=L\"\\text{(%$num_layers layers) Histogram of } \\langle w_i,z \\rangle\")\n",
    "  hist!(ax, w𝐳_samples[1, :], normalization=:pdf, bins=100,\n",
    "    label_formatter=x -> round(x, digits=2), label_size=15,\n",
    "    strokewidth=0.5, strokecolor=(:black, 0.5), color=:values)\n",
    "  lines!(ax, x_dom, (1.0 / (sqrt(2.0 * π) * σ_fit)) * exp.(-(x_dom .^ 2) / (2.0 * 𝕍ar)), color=:darkgoldenrod, linewidth=3.5)\n",
    "  # CairoMakie.vlines!(ax, mean(gₖ), label=\"Mean g_k = $mean_gk\", linestyle=:dash)\n",
    "  # axislegend(ax)\n",
    "\n",
    "  # legendax = Makie.Axis(fig[1, 3];\n",
    "  #   xlabel=\"\",\n",
    "  #   ylabel=\"\",\n",
    "  #   title=L\"\\text{(%$num_layers layers) KDE of } p(g_%$selection)\")\n",
    "  # axislegend(legendax)\n",
    "\n",
    "  fig\n",
    "end"
   ]
  },
  {
   "cell_type": "markdown",
   "metadata": {},
   "source": [
    "^ Seems to not hold for $ \\beta >> 1.5 $"
   ]
  },
  {
   "cell_type": "code",
   "execution_count": null,
   "metadata": {},
   "outputs": [],
   "source": [
    "var(w𝐳_samples[1, :])"
   ]
  },
  {
   "cell_type": "code",
   "execution_count": null,
   "metadata": {},
   "outputs": [],
   "source": [
    "𝕍ar"
   ]
  },
  {
   "cell_type": "markdown",
   "metadata": {},
   "source": [
    "### Folded Gaussian Fit:"
   ]
  },
  {
   "cell_type": "code",
   "execution_count": null,
   "metadata": {},
   "outputs": [],
   "source": [
    "x_dom_folded = LinRange(0.0, 1.0, 1000)"
   ]
  },
  {
   "cell_type": "code",
   "execution_count": null,
   "metadata": {},
   "outputs": [],
   "source": [
    "begin\n",
    "  fig = Figure()\n",
    "  ax = Makie.Axis(fig[1, 1];\n",
    "    xlabel=L\"| \\langle w_i,z \\rangle|\",\n",
    "    ylabel=L\"p(| \\langle w_i,z \\rangle|)\",\n",
    "    title=L\"\\text{(%$num_layers layers) Histogram of } |\\langle w_i,z \\rangle|\")\n",
    "  hist!(ax, abs.(w𝐳_samples[1, :]), normalization=:pdf, bins=100,\n",
    "    label_formatter=x -> round(x, digits=2), label_size=15,\n",
    "    strokewidth=0.5, strokecolor=(:black, 0.5), color=:values)\n",
    "  # CairoMakie.vlines!(ax, mean(gₖ), label=\"Mean g_k = $mean_gk\", linestyle=:dash)\n",
    "  # axislegend(ax)\n",
    "  CairoMakie.lines!(ax, x_dom_folded, (2.0 / (sqrt(2.0 * π) * σ_fit)) * exp.(-(x_dom_folded .^ 2) / (2.0 * 𝕍ar)), color=:darkgoldenrod, linewidth=3.5)\n",
    "  CairoMakie.vlines!(ax, σ_fit, label=L\"a = \\sigma\", linestyle=:dash)\n",
    "  CairoMakie.vlines!(ax, 2.0 * σ_fit, label=L\"a = 2\\sigma\", linestyle=:dash)\n",
    "  CairoMakie.vlines!(ax, 3.0 * σ_fit, label=L\"a = 3\\sigma\", linestyle=:dash)\n",
    "\n",
    "  axislegend()\n",
    "\n",
    "  fig\n",
    "end"
   ]
  },
  {
   "cell_type": "code",
   "execution_count": null,
   "metadata": {},
   "outputs": [],
   "source": [
    "using Integrals"
   ]
  },
  {
   "cell_type": "code",
   "execution_count": null,
   "metadata": {},
   "outputs": [],
   "source": [
    "foldedGaussian(u) = (2.0 / (sqrt(2.0 * π) * σ_fit)) * exp.(-(u .^ 2) / (2.0 * 𝕍ar));"
   ]
  },
  {
   "cell_type": "code",
   "execution_count": null,
   "metadata": {},
   "outputs": [],
   "source": [
    "integral_limit::Real = 3 * σ_fit\n",
    "\n",
    "domain_to_integrate = x_dom_folded = LinRange(0.0, integral_limit, 1000)"
   ]
  },
  {
   "cell_type": "markdown",
   "metadata": {},
   "source": [
    "### Follows the 68-95-99.7 rule"
   ]
  },
  {
   "cell_type": "code",
   "execution_count": null,
   "metadata": {},
   "outputs": [],
   "source": [
    "sampled_prob = SampledIntegralProblem(foldedGaussian.(domain_to_integrate), domain_to_integrate)\n",
    "method = TrapezoidalRule()\n",
    "solve(sampled_prob, method)"
   ]
  },
  {
   "cell_type": "code",
   "execution_count": null,
   "metadata": {},
   "outputs": [],
   "source": [
    "\n",
    "### For testing purposes only \n",
    "test_dom = LinRange(0.0, 2.0 * π, 1000);\n",
    "test_problem = SampledIntegralProblem(cos.(test_dom) .^ 2, test_dom)\n",
    "method = TrapezoidalRule()\n",
    "solve(test_problem, method)"
   ]
  },
  {
   "cell_type": "code",
   "execution_count": null,
   "metadata": {},
   "outputs": [],
   "source": []
  },
  {
   "cell_type": "markdown",
   "metadata": {},
   "source": [
    "## Approx Model for Error with $ X_i^* \\sim i.i.d.\\text{ } U(A_i) $"
   ]
  },
  {
   "cell_type": "code",
   "execution_count": null,
   "metadata": {},
   "outputs": [],
   "source": [
    "# # β::Float64 = 1.5\n",
    "# # uniform_distrib::Uniform{Float64} = Uniform(-β, β); # Already defined above\n",
    "# α_lrelu::Float64 = 0.01\n",
    "\n",
    "# input_data = input_𝒻ₚ;\n",
    "# 𝛍::Vector = input_data\n",
    "# 𝐳_noise::Vector = rand(uniform_distrib, length(𝛍))\n",
    "# input_z_samples::Matrix = zeros(length(input_data), num_samples)\n",
    "# # output_noised_samples::Matrix = zeros(length(output_data), num_samples)\n",
    "\n",
    "# for i in 1:num_samples\n",
    "#   𝐳_noise = rand(uniform_distrib, length(𝛍)) \n",
    "#   # input_z_samples[:, i] = (𝛍 .+ 𝐳_noise)\n",
    "#   input_z_samples[:, i] = 𝐳_noise\n",
    "# end\n",
    "\n",
    "# 𝐞_mat_samples::Matrix = zeros(size(input_z_samples));"
   ]
  },
  {
   "cell_type": "code",
   "execution_count": null,
   "metadata": {},
   "outputs": [],
   "source": []
  },
  {
   "cell_type": "code",
   "execution_count": null,
   "metadata": {},
   "outputs": [],
   "source": [
    "input_z_samples"
   ]
  },
  {
   "cell_type": "code",
   "execution_count": null,
   "metadata": {},
   "outputs": [],
   "source": [
    "float(sign.(ϕ(𝐖_1L[0] * 𝛍 + 𝐛_1L[0] + 𝐖_1L[0] * input_z_samples[:, 1])) .== sign.(𝐡))"
   ]
  },
  {
   "cell_type": "code",
   "execution_count": null,
   "metadata": {},
   "outputs": [],
   "source": [
    "𝐡 = ϕ.(𝐖_1L[0] * 𝛍 + 𝐛_1L[0])\n",
    "𝐬ꜛ = (1.0 - α_lrelu) * sign.(𝐡)"
   ]
  },
  {
   "cell_type": "code",
   "execution_count": null,
   "metadata": {},
   "outputs": [],
   "source": [
    "rej_sampling(𝐱ꜛ, 𝐡)"
   ]
  },
  {
   "cell_type": "code",
   "execution_count": null,
   "metadata": {},
   "outputs": [],
   "source": [
    "𝐱ꜛ"
   ]
  },
  {
   "cell_type": "code",
   "execution_count": null,
   "metadata": {},
   "outputs": [],
   "source": [
    "𝐡"
   ]
  },
  {
   "cell_type": "code",
   "execution_count": null,
   "metadata": {},
   "outputs": [],
   "source": []
  },
  {
   "cell_type": "code",
   "execution_count": null,
   "metadata": {},
   "outputs": [],
   "source": []
  },
  {
   "cell_type": "code",
   "execution_count": null,
   "metadata": {},
   "outputs": [],
   "source": [
    "# hᵢ = 𝐡[selection];\n",
    "𝐱ꜛ::Vector = zeros(length(𝛍))"
   ]
  },
  {
   "cell_type": "code",
   "execution_count": null,
   "metadata": {},
   "outputs": [],
   "source": [
    "for j in 1:num_samples\n",
    "  𝐳ₙ = input_z_samples[:, j]\n",
    "  𝐱ꜛ = ϕ.(𝐖_1L[0] * 𝛍 + 𝐛_1L[0] + 𝐖_1L[0] * 𝐳ₙ)\n",
    "  𝐫ꜛ = rej_sampling(𝐱ꜛ, 𝐡)\n",
    "\n",
    "  𝐞_mat_samples[:, j] = 𝐀_1L * ((𝐫ꜛ .* 𝐱ꜛ) .* (𝐬ꜛ))\n",
    "end"
   ]
  },
  {
   "cell_type": "code",
   "execution_count": null,
   "metadata": {},
   "outputs": [],
   "source": [
    "𝐞_mat_samples[30, :]"
   ]
  },
  {
   "cell_type": "code",
   "execution_count": null,
   "metadata": {},
   "outputs": [],
   "source": [
    "𝐞_mat_samples[17, :]"
   ]
  },
  {
   "cell_type": "code",
   "execution_count": null,
   "metadata": {},
   "outputs": [],
   "source": [
    "e_g_selection::Int = 23;\n",
    "\n",
    "begin\n",
    "  fig = Figure()\n",
    "  ax = Makie.Axis(fig[1, 1];\n",
    "    xlabel=\"\",\n",
    "    ylabel=\"\",\n",
    "    limits=(-4.5, 3.5, 0, 3),)\n",
    "  # title=L\"\\text{(%$num_layers layers) Histogram of } p(g_{%$selection})\")\n",
    "  hist!(ax, 𝐞_mat_samples[e_g_selection, :], normalization=:pdf,\n",
    "    label_formatter=x -> round(x, digits=2), label_size=15,\n",
    "    strokewidth=0.5, strokecolor=(:black, 0.5), color=:values)\n",
    "\n",
    "  fig\n",
    "\n",
    "end"
   ]
  },
  {
   "cell_type": "code",
   "execution_count": null,
   "metadata": {},
   "outputs": [],
   "source": [
    "num_samples == 100_000"
   ]
  },
  {
   "cell_type": "code",
   "execution_count": null,
   "metadata": {},
   "outputs": [],
   "source": [
    "\n",
    "function rej_sampling(𝐱::Vector, 𝐡::Vector)\n",
    "  return float(.!(sign.(𝐱) .== sign.(𝐡)))\n",
    "end\n",
    "\n",
    "β::Float64 = 1.5\n",
    "uniform_distrib::Uniform{Float64} = Uniform(-β, β); # Already defined above\n",
    "α_lrelu::Float64 = 0.01\n",
    "\n",
    "input_data = input_𝒻ₚ;\n",
    "𝛍::Vector = input_data;\n",
    "𝐱ꜛ::Vector = zeros(length(𝛍));\n",
    "𝐳_noise::Vector = rand(uniform_distrib, length(𝛍))\n",
    "𝐡 = ϕ.(𝐖_1L[0] * 𝛍 + 𝐛_1L[0])\n",
    "𝐬ꜛ = (1.0 - α_lrelu) * sign.(𝐡)\n",
    "input_z_samples::Matrix = zeros(length(input_data), num_samples)\n",
    "𝐞_mat_samples::Matrix = zeros(size(input_z_samples));\n",
    "\n",
    "for i in 1:num_samples\n",
    "  𝐳_noise = rand(uniform_distrib, length(𝛍))\n",
    "  # input_z_samples[:, i] = (𝛍 .+ 𝐳_noise)\n",
    "  input_z_samples[:, i] = 𝐳_noise\n",
    "end\n",
    "\n",
    "\n",
    "for j in 1:num_samples\n",
    "  𝐳ₙ = input_z_samples[:, j]\n",
    "  𝐱ꜛ = ϕ.(𝐖_1L[0] * 𝛍 + 𝐛_1L[0] + 𝐖_1L[0] * 𝐳ₙ)\n",
    "  𝐫ꜛ = rej_sampling(𝐱ꜛ, 𝐡)\n",
    "\n",
    "  𝐞_mat_samples[:, j] = 𝐀_1L * ((𝐫ꜛ .* 𝐱ꜛ) .* (𝐬ꜛ))\n",
    "end\n",
    "\n",
    "fig = Figure(size=(2500, 3000), px_per_unit=2.5, fontsize=26)\n",
    "# fig = Figure()\n",
    "\n",
    "# sample_indices = 1:2:29;\n",
    "# plot_positions = vec(collect(Iterators.product(1:3, 1:5)));\n",
    "\n",
    "sample_indices = 1:8:29;\n",
    "plot_positions = vec(collect(Iterators.product(1:2, 1:2)));\n",
    "\n",
    "for (plot_coord, point_selection) in zip(plot_positions, sample_indices)\n",
    "  row = plot_coord[1] # actually col\n",
    "  col = plot_coord[2] # actually row\n",
    "\n",
    "  selection = point_selection\n",
    "  # g_analyt::Real = 𝒩_of_μₚ[selection]\n",
    "  # αⱼ::Vector = 𝐀_1L[selection, :]\n",
    "\n",
    "\n",
    "  J_selection::Int = selection\n",
    "  𝛂ᴶ::Vector = 𝐀_1L[J_selection, :]\n",
    "  𝕍ᴶ::Float64 = 0.0\n",
    "\n",
    "  𝔼xixi::Float64 = (β^2) / 3.0\n",
    "\n",
    "  # for i in 1:64\n",
    "  #   for k in 1:64\n",
    "  #     𝕍ᴶ += 𝔼xixi*(((1.0-α_lrelu)^2)*𝛂ᴶ[i]*𝛂ᴶ[k]*sign(𝐡[i])*sign(𝐡[k]));\n",
    "  #   end\n",
    "  # end\n",
    "\n",
    "  for k in 1:64\n",
    "    𝕍ᴶ += 𝔼xixi * (((1.0 - α_lrelu)^2) * 𝛂ᴶ[k] * 𝛂ᴶ[k] * sign(𝐡[k]) * sign(𝐡[k])) * rej_sampling(𝐱ꜛ, 𝐡)[k]\n",
    "  end\n",
    "\n",
    "  begin\n",
    "    # fig = Figure()\n",
    "    ax = Makie.Axis(fig[col, row];\n",
    "      limits=(-5.0, 3.5, 0, 3),\n",
    "      xlabel=L\"e_{%$selection} = \\phi_{Lin}(x^\\ast) - \\phi_{\\Delta}(x^\\ast) )\",\n",
    "      ylabel=L\"p(e_i)\",\n",
    "      title=L\"\\text{PDF of component %$selection of the outout error } e_i:\\text{%$num_layers Layer}\")\n",
    "    hist!(ax, 𝐞_mat_samples[selection, :], normalization=:pdf, label_formatter=x -> round(x, digits=2), label_size=15, strokewidth=0.5, strokecolor=(:black, 0.5), color=:values)\n",
    "\n",
    "    𝔼eₖ = mean(𝐞_mat_samples[selection, :])\n",
    "    𝕍eₖ = var(𝐞_mat_samples[selection, :])\n",
    "    mean_value = format(𝔼eₖ, precision=4)\n",
    "    mean_val_from_formula = format(0.0, precision=4)\n",
    "    var_value = format(𝕍eₖ, precision=4)\n",
    "    var_val_from_formula = format(𝕍ᴶ, precision=4)\n",
    "\n",
    "    CairoMakie.vlines!(ax, 𝔼eₖ, label=L\"\\mathbb{E}[e_i]_{\\text{num}} = %$mean_value\", linestyle=:dash)\n",
    "    CairoMakie.vlines!(ax, 0.0, label=L\"\\mathbb{E}[g_k]_{\\text{num}} = 0.0\", linestyle=:dash)\n",
    "    # CairoMakie.vlines!(ax, 𝔼gₖ, label=L\"\\mathbb{E}[g_k]_{\\text{formula}} = %$mean_val_from_formula\", linestyle=:dash)\n",
    "    CairoMakie.vlines!(ax, 𝔼eₖ, label=L\"\\mathbb{V}[g_k]_{\\text{num}} = %$var_value\", linestyle=:dash, color=:transparent)\n",
    "    CairoMakie.vlines!(ax, 𝔼eₖ, label=L\"\\mathbb{V}[g_k]_{\\text{formula}} = %$var_val_from_formula\", linestyle=:dash, color=:transparent)\n",
    "\n",
    "    axislegend(ax)\n",
    "    # fig\n",
    "  end\n",
    "end\n",
    "fig"
   ]
  },
  {
   "cell_type": "code",
   "execution_count": null,
   "metadata": {},
   "outputs": [],
   "source": [
    "var(𝐞_mat_samples[25, :])"
   ]
  },
  {
   "cell_type": "code",
   "execution_count": null,
   "metadata": {},
   "outputs": [],
   "source": [
    "J_selection::Int = 25;\n",
    "𝛂ᴶ::Vector = 𝐀_1L[J_selection, :];\n",
    "test𝕍ᴶ::Float64 = 0.0;\n",
    "\n",
    "𝔼xixi::Float64 = (β^2) / 3.0;\n",
    "\n",
    "for k in 1:64\n",
    "  test𝕍ᴶ += 𝔼xixi * (((1.0 - α_lrelu)^2) * 𝛂ᴶ[k] * 𝛂ᴶ[k] * sign(𝐡[k]) * sign(𝐡[k])) * rej_sampling(𝐱ꜛ, 𝐡)[k]\n",
    "end"
   ]
  },
  {
   "cell_type": "code",
   "execution_count": null,
   "metadata": {},
   "outputs": [],
   "source": [
    "test𝕍ᴶ"
   ]
  },
  {
   "cell_type": "code",
   "execution_count": null,
   "metadata": {},
   "outputs": [],
   "source": [
    "rej_sampling(𝐱ꜛ, 𝐡)[1]"
   ]
  },
  {
   "cell_type": "markdown",
   "metadata": {},
   "source": [
    "## Exploring Layers"
   ]
  },
  {
   "cell_type": "code",
   "execution_count": null,
   "metadata": {},
   "outputs": [],
   "source": [
    "β::Float64 = 5.5\n",
    "uniform_distrib::Uniform{Float64} = Uniform(-β, β);\n",
    "\n",
    "input_noise_𝒻ₚ_samples, output_noised_g_part_samples = generate_noised_samples(𝒩ₙₙ1L;\n",
    "  input_data=input_𝒻ₚ,\n",
    "  output_data=output_𝒻ₚ,\n",
    "  noise_pdf=uniform_distrib)"
   ]
  },
  {
   "cell_type": "code",
   "execution_count": null,
   "metadata": {},
   "outputs": [],
   "source": [
    "DataFrame(input_noise_𝒻ₚ_samples, :auto)"
   ]
  },
  {
   "cell_type": "code",
   "execution_count": null,
   "metadata": {},
   "outputs": [],
   "source": [
    "z = input_noise_𝒻ₚ_samples[:, 1];\n",
    "DataFrame(\"μₚ\" => μₚ,\n",
    "  \"z(ω)ᵦ\" => z)"
   ]
  },
  {
   "cell_type": "code",
   "execution_count": null,
   "metadata": {},
   "outputs": [],
   "source": [
    "heaviside(x) = x >= 0 ? 1.0 : 0.0"
   ]
  },
  {
   "cell_type": "code",
   "execution_count": null,
   "metadata": {},
   "outputs": [],
   "source": [
    "function plot_activFN(ϕ::Function, α::Float64, activFN_name::String=\"leakyrelu\")\n",
    "  𝐫::LinRange = LinRange(-1.0, 1.0, 1000)\n",
    "  f = Figure()\n",
    "  lines(f[1, 1], 𝐫, ϕ.(𝐫, α))\n",
    "  Makie.Axis(f[1, 1], title=\"ϕ(x) from $activFN_name function; α = $α\")\n",
    "  f\n",
    "end\n",
    "plot_activFN(ϕ, 0.05)\n",
    "\n",
    "function plot_activFN(ϕ::Function, activFN_name::String=\"leakyrelu\")\n",
    "  𝐫::LinRange = LinRange(-1.0, 1.0, 1000)\n",
    "  f = Figure()\n",
    "  lines(f[1, 1], 𝐫, ϕ.(𝐫))\n",
    "  Makie.Axis(f[1, 1], title=\"ϕ(x) from $activFN_name function\")\n",
    "  f\n",
    "end\n",
    "plot_activFN(ϕ, 0.05)"
   ]
  },
  {
   "cell_type": "code",
   "execution_count": null,
   "metadata": {},
   "outputs": [],
   "source": [
    "plot_activFN(lisht)"
   ]
  },
  {
   "cell_type": "code",
   "execution_count": null,
   "metadata": {},
   "outputs": [],
   "source": [
    "plot_activFN(elu, 0.05, \"elu\")"
   ]
  },
  {
   "cell_type": "code",
   "execution_count": null,
   "metadata": {},
   "outputs": [],
   "source": [
    "plot_activFN(relu, \"relu\")"
   ]
  },
  {
   "cell_type": "code",
   "execution_count": null,
   "metadata": {},
   "outputs": [],
   "source": [
    "plot_activFN(elu, 0.0001, \"elu\")"
   ]
  },
  {
   "cell_type": "code",
   "execution_count": null,
   "metadata": {},
   "outputs": [],
   "source": [
    "plot_activFN(celu, 1.0, \"celu\")"
   ]
  },
  {
   "cell_type": "code",
   "execution_count": null,
   "metadata": {},
   "outputs": [],
   "source": [
    "plot_activFN(celu, 1.0 / 100.0, \"celu\")"
   ]
  },
  {
   "cell_type": "code",
   "execution_count": null,
   "metadata": {},
   "outputs": [],
   "source": [
    "plot_activFN(ϕ)"
   ]
  },
  {
   "cell_type": "code",
   "execution_count": null,
   "metadata": {},
   "outputs": [],
   "source": []
  },
  {
   "cell_type": "code",
   "execution_count": null,
   "metadata": {},
   "outputs": [],
   "source": [
    "f_test = Figure()\n",
    "\n",
    "α_test = 0.1;\n",
    "test_r::LinRange = LinRange(-1.0, 1.0, 1000)\n",
    "test_activ(x) = x * heaviside(x) + α_test * x * (1.0 - heaviside(x))\n",
    "lines(f_test[1, 1], test_r, test_activ.(test_r))\n",
    "# Makie.Axis(f_test[0,0], title=\"ϕ(x) = x H(x) + αx(1-H(x))\")\n",
    "f_test"
   ]
  },
  {
   "cell_type": "markdown",
   "metadata": {},
   "source": [
    "### 2 layers"
   ]
  },
  {
   "cell_type": "code",
   "execution_count": null,
   "metadata": {},
   "outputs": [],
   "source": [
    "μₚ"
   ]
  },
  {
   "cell_type": "code",
   "execution_count": null,
   "metadata": {},
   "outputs": [],
   "source": [
    "LinRange(minimum(μₚ), maximum(μₚ), 64)"
   ]
  },
  {
   "cell_type": "code",
   "execution_count": null,
   "metadata": {},
   "outputs": [],
   "source": []
  },
  {
   "cell_type": "code",
   "execution_count": null,
   "metadata": {},
   "outputs": [],
   "source": [
    "maximum(𝐖_2L[0] * μₚ + 𝐛_2L[0])"
   ]
  },
  {
   "cell_type": "code",
   "execution_count": null,
   "metadata": {},
   "outputs": [],
   "source": [
    "minimum(𝐖_2L[0] * μₚ + 𝐛_2L[0])"
   ]
  },
  {
   "cell_type": "code",
   "execution_count": null,
   "metadata": {},
   "outputs": [],
   "source": [
    "sort(𝐖_2L[0] * μₚ + 𝐛_2L[0])"
   ]
  },
  {
   "cell_type": "code",
   "execution_count": null,
   "metadata": {},
   "outputs": [],
   "source": [
    "maximum(𝐀_1L)"
   ]
  },
  {
   "cell_type": "code",
   "execution_count": null,
   "metadata": {},
   "outputs": [],
   "source": [
    "test_fig = Figure()\n",
    "\n",
    "# lines(test_fig[1,1], ϕ.(LinRange(-10.0, 10.0, 64)))\n",
    "# lines(test_fig[1,1], LinRange(minimum(𝐖_2L[0] * μₚ + 𝐛_2L[0]), maximum(𝐖_2L[0] * μₚ + 𝐛_2L[0]), 64), ϕ.(LinRange(-10.0, 10.0, 64)))\n",
    "\n",
    "# scatter!(test_fig[1,1], LinRange(minimum(μₚ), maximum(μₚ), 64), sort(ϕ.(𝐖_2L[0] * μₚ + 𝐛_2L[0])))\n",
    "\n",
    "scatter(test_fig[1, 1], LinRange(minimum(𝐖_2L[0] * μₚ + 𝐛_2L[0]), maximum(𝐖_2L[0] * μₚ + 𝐛_2L[0]), 64), ϕ.(sort(𝐖_2L[0] * μₚ + 𝐛_2L[0])))\n",
    "\n",
    "test_fig"
   ]
  },
  {
   "cell_type": "code",
   "execution_count": null,
   "metadata": {},
   "outputs": [],
   "source": [
    "lines(𝐖_2L[0] * μₚ + 𝐛_2L[0])"
   ]
  },
  {
   "cell_type": "code",
   "execution_count": null,
   "metadata": {},
   "outputs": [],
   "source": [
    "lines(LinRange(minimum(μₚ), maximum(μₚ), 64), ϕ.(𝐖_2L[0] * μₚ + 𝐛_2L[0]))"
   ]
  },
  {
   "cell_type": "code",
   "execution_count": null,
   "metadata": {},
   "outputs": [],
   "source": [
    "lines(𝐅_2L[0](μₚ))"
   ]
  },
  {
   "cell_type": "code",
   "execution_count": null,
   "metadata": {},
   "outputs": [],
   "source": []
  },
  {
   "cell_type": "code",
   "execution_count": null,
   "metadata": {},
   "outputs": [],
   "source": [
    "lines(ϕ.(𝐖_2L[1] * ϕ.(𝐖_2L[0] * μₚ + 𝐛_2L[0]) + 𝐛_2L[1]))\n"
   ]
  },
  {
   "cell_type": "code",
   "execution_count": null,
   "metadata": {},
   "outputs": [],
   "source": [
    "lines((𝐅_2L[1] ∘ 𝐅_2L[0])(μₚ))"
   ]
  },
  {
   "cell_type": "code",
   "execution_count": null,
   "metadata": {},
   "outputs": [],
   "source": [
    "lines(reduce(∘, reverse(𝐅_2L[0:0]))(μₚ))"
   ]
  },
  {
   "cell_type": "code",
   "execution_count": null,
   "metadata": {},
   "outputs": [],
   "source": [
    "lines(𝐀_2L * ϕ.(𝐖_2L[1] * ϕ.(𝐖_2L[0] * μₚ + 𝐛_2L[0]) + 𝐛_2L[1]))\n"
   ]
  },
  {
   "cell_type": "markdown",
   "metadata": {},
   "source": [
    "### Plots of mean curve passed through each layer:"
   ]
  },
  {
   "cell_type": "code",
   "execution_count": null,
   "metadata": {},
   "outputs": [],
   "source": [
    "function plots_per_layer!(Nfig, 𝐅_NL)\n",
    "\n",
    "  # Nfig = f_5L\n",
    "  # 𝐅_NL = 𝐅_5L\n",
    "  for j in 0:(length(𝐅_NL)-1)\n",
    "    Makie.Axis(Nfig[1, (j+1)], xlabel=\"Component Neuron (out of 64)\", ylabel=L\"F()\")\n",
    "    𝐅ⱼ₋₀(v)::Vector = reduce(∘, reverse(𝐅_NL[0:j]))(v)\n",
    "    lines!(Nfig[1, (j+1)], 𝐅ⱼ₋₀(μₚ))\n",
    "  end\n",
    "\n",
    "end"
   ]
  },
  {
   "cell_type": "code",
   "execution_count": null,
   "metadata": {},
   "outputs": [],
   "source": [
    "lines(nodesxₚ_gll, μₚ)"
   ]
  },
  {
   "cell_type": "code",
   "execution_count": null,
   "metadata": {},
   "outputs": [],
   "source": [
    "f_2L = Figure(size=(800, 300));\n",
    "\n",
    "plots_per_layer!(f_2L, 𝐅_2L)\n",
    "\n",
    "f_2L"
   ]
  },
  {
   "cell_type": "code",
   "execution_count": null,
   "metadata": {},
   "outputs": [],
   "source": [
    "f_3L = Figure(size=(800, 300));\n",
    "\n",
    "plots_per_layer!(f_3L, 𝐅_3L)\n",
    "\n",
    "f_3L"
   ]
  },
  {
   "cell_type": "code",
   "execution_count": null,
   "metadata": {},
   "outputs": [],
   "source": [
    "f_5L = Figure(size=(800, 300));\n",
    "\n",
    "plots_per_layer!(f_5L, 𝐅_5L)\n",
    "\n",
    "f_5L"
   ]
  },
  {
   "cell_type": "code",
   "execution_count": null,
   "metadata": {},
   "outputs": [],
   "source": [
    "lines(nodesxₚ_gll, 𝐀_5L * reduce(∘, reverse(𝐅_5L))(μₚ))"
   ]
  },
  {
   "cell_type": "code",
   "execution_count": null,
   "metadata": {},
   "outputs": [],
   "source": [
    "\n",
    "selected_sample_index::Int = rand(1:num_samples);\n",
    "\n",
    "𝚳_selected = train_input_fns[:, selected_sample_index:(selected_sample_index+100)]"
   ]
  },
  {
   "cell_type": "code",
   "execution_count": null,
   "metadata": {},
   "outputs": [],
   "source": [
    "# test_fig = Figure()\n",
    "  # lines(test_fig[1,1], 𝐀_2L * ϕ.(𝐖_2L[1] * ϕ.(𝐖_2L[0] * μ_selected + 𝐛_2L[0]) + 𝐛_2L[1]))\n",
    "\n",
    "  # for i in 1:101\n",
    "  #     μ_selected = 𝚳_selected[:, i]\n",
    "\n",
    "  #     lines!(test_fig[1,1], 𝐀_2L * ϕ.(𝐖_2L[1] * ϕ.(𝐖_2L[0] * μ_selected + 𝐛_2L[0]) + 𝐛_2L[1]))\n",
    "  #   end\n",
    "  #   test_fig\n"
   ]
  },
  {
   "cell_type": "code",
   "execution_count": null,
   "metadata": {},
   "outputs": [],
   "source": [
    "f_1L = Figure()\n",
    "lines(f_1L[1, 1], leakyrelu.(𝐖_1L[0] * μₚ + 𝐛_1L[0]))\n",
    "\n",
    "\n",
    "lines(f_1L[2, 1], leakyrelu.(𝐖_1L[0] * μₚ + 𝐛_1L[0]))\n",
    "\n",
    "for _ in 100:200\n",
    "  rand_selection::Int = rand(1:num_samples)\n",
    "  noised_μ = input_noise_𝒻ₚ_samples[:, rand_selection]\n",
    "  # lines!(f_1L[2, 1], leakyrelu.(𝐖_1L[0] * (μₚ .+ z) + 𝐛_1L[0]))\n",
    "  lines!(f_1L[2, 1], leakyrelu.(𝐖_1L[0] * noised_μ + 𝐛_1L[0]))\n",
    "end\n",
    "f_1L\n"
   ]
  },
  {
   "cell_type": "code",
   "execution_count": null,
   "metadata": {},
   "outputs": [],
   "source": [
    "f_nextL = Figure()\n",
    "lines(f_nextL[1, 1], (𝐅_2L[0])(μₚ); linestyle=:dashdot)\n",
    "\n",
    "lines(f_nextL[2, 1], (𝐅_2L[0])(μₚ); linestyle=:dashdot)\n",
    "\n",
    "for _ in 1:100\n",
    "  rand_selection::Int = rand(1:num_samples)\n",
    "  noised_μ = input_noise_𝒻ₚ_samples[:, rand_selection]\n",
    "  # lines!(f_nextL[2, 1], (𝐅_2L[0])(μₚ .+ z))\n",
    "  lines!(f_nextL[2, 1], (𝐅_2L[0])(noised_μ))\n",
    "end\n",
    "f_nextL"
   ]
  },
  {
   "cell_type": "code",
   "execution_count": null,
   "metadata": {},
   "outputs": [],
   "source": [
    "z_test = rand(Uniform(-β, β), length(μ_selected))\n",
    "\n",
    "leakyrelu.(𝐖_2L[0] * z_test)"
   ]
  },
  {
   "cell_type": "code",
   "execution_count": null,
   "metadata": {},
   "outputs": [],
   "source": [
    "lines(leakyrelu.(𝐖_2L[0] * z_test))"
   ]
  },
  {
   "cell_type": "code",
   "execution_count": null,
   "metadata": {},
   "outputs": [],
   "source": []
  },
  {
   "cell_type": "code",
   "execution_count": null,
   "metadata": {},
   "outputs": [],
   "source": [
    "f_nextL = Figure()\n",
    "lines(f_nextL[1, 1], (𝐅_2L[1] ∘ 𝐅_2L[0])(μₚ); linestyle=:dashdot)\n",
    "\n",
    "lines(f_nextL[2, 1], (𝐅_2L[1] ∘ 𝐅_2L[0])(μₚ); linestyle=:dashdot)\n",
    "\n",
    "for _ in 1:100\n",
    "  rand_selection::Int = rand(1:num_samples)\n",
    "  z = input_noise_𝒻ₚ_samples[:, rand_selection]\n",
    "  lines!(f_nextL[2, 1], (𝐅_2L[1] ∘ 𝐅_2L[0])(μₚ .+ z))\n",
    "end\n",
    "f_nextL"
   ]
  },
  {
   "cell_type": "code",
   "execution_count": null,
   "metadata": {},
   "outputs": [],
   "source": [
    "f_nextL = Figure()\n",
    "lines(f_nextL[1, 1], (𝐅_3L[0])(μₚ); linestyle=:dashdot)\n",
    "\n",
    "lines(f_nextL[2, 1], (𝐅_3L[0])(μₚ); linestyle=:dashdot)\n",
    "\n",
    "for _ in 1:100\n",
    "  rand_selection::Int = rand(1:num_samples)\n",
    "  noised_μ = input_noise_𝒻ₚ_samples[:, rand_selection]\n",
    "  # lines!(f_nextL[2, 1], (𝐅_3L[0])(μₚ .+ z))\n",
    "  lines!(f_nextL[2, 1], (𝐅_3L[0])(noised_μ))\n",
    "end\n",
    "f_nextL"
   ]
  },
  {
   "cell_type": "code",
   "execution_count": null,
   "metadata": {},
   "outputs": [],
   "source": [
    "f_nextL = Figure()\n",
    "lines(f_nextL[1, 1], (𝐅_3L[1] ∘ 𝐅_3L[0])(μₚ); linestyle=:dashdot)\n",
    "\n",
    "lines(f_nextL[2, 1], (𝐅_3L[1] ∘ 𝐅_3L[0])(μₚ); linestyle=:dashdot)\n",
    "\n",
    "for _ in 1:100\n",
    "  rand_selection::Int = rand(1:num_samples)\n",
    "  noised_μ = input_noise_𝒻ₚ_samples[:, rand_selection]\n",
    "  lines!(f_nextL[2, 1], (𝐅_3L[1] ∘ 𝐅_3L[0])(noised_μ))\n",
    "end\n",
    "f_nextL"
   ]
  },
  {
   "cell_type": "code",
   "execution_count": null,
   "metadata": {},
   "outputs": [],
   "source": [
    "f_nextL = Figure()\n",
    "lines(f_nextL[1, 1], (𝐅_3L[2] ∘ 𝐅_3L[1] ∘ 𝐅_3L[0])(μₚ); linestyle=:dashdot)\n",
    "\n",
    "lines(f_nextL[2, 1], (𝐅_3L[2] ∘ 𝐅_3L[1] ∘ 𝐅_3L[0])(μₚ); linestyle=:dashdot)\n",
    "\n",
    "for _ in 1:100\n",
    "  rand_selection::Int = rand(1:num_samples)\n",
    "  noised_μ = input_noise_𝒻ₚ_samples[:, rand_selection]\n",
    "  lines!(f_nextL[2, 1], (𝐅_3L[2] ∘ 𝐅_3L[1] ∘ 𝐅_3L[0])(noised_μ))\n",
    "end\n",
    "f_nextL"
   ]
  },
  {
   "cell_type": "code",
   "execution_count": null,
   "metadata": {},
   "outputs": [],
   "source": [
    "f_nextL = Figure()\n",
    "lines(f_nextL[1, 1], (𝐅_5L[4] ∘ 𝐅_5L[3] ∘ 𝐅_5L[2] ∘ 𝐅_5L[1] ∘ 𝐅_5L[0])(μₚ); linestyle=:dashdot)\n",
    "\n",
    "lines(f_nextL[2, 1], (𝐅_5L[4] ∘ 𝐅_5L[3] ∘ 𝐅_5L[2] ∘ 𝐅_5L[1] ∘ 𝐅_5L[0])(μₚ); linestyle=:dashdot)\n",
    "\n",
    "for _ in 1:100\n",
    "  rand_selection::Int = rand(1:num_samples)\n",
    "  noised_μ = input_noise_𝒻ₚ_samples[:, rand_selection]\n",
    "  lines!(f_nextL[2, 1], (𝐅_5L[4] ∘ 𝐅_5L[3] ∘ 𝐅_5L[2] ∘ 𝐅_5L[1] ∘ 𝐅_5L[0])(noised_μ))\n",
    "end\n",
    "f_nextL"
   ]
  },
  {
   "cell_type": "code",
   "execution_count": null,
   "metadata": {},
   "outputs": [],
   "source": [
    "out_f = Figure()\n",
    "lines(out_f[1, 1], 𝐀_5L * (𝐅_5L[4] ∘ 𝐅_5L[3] ∘ 𝐅_5L[2] ∘ 𝐅_5L[1] ∘ 𝐅_5L[0])(μₚ .+ z))\n",
    "\n",
    "lines(out_f[2, 1], 𝐀_5L * (𝐅_5L[4] ∘ 𝐅_5L[3] ∘ 𝐅_5L[2] ∘ 𝐅_5L[1] ∘ 𝐅_5L[0])(μₚ .+ z))\n",
    "for _ in 1:100\n",
    "  rand_selection::Int = rand(1:num_samples)\n",
    "  noised_μ = input_noise_𝒻ₚ_samples[:, rand_selection]\n",
    "  lines!(out_f[2, 1], 𝐀_5L * (𝐅_5L[4] ∘ 𝐅_5L[3] ∘ 𝐅_5L[2] ∘ 𝐅_5L[1] ∘ 𝐅_5L[0])(noised_μ))\n",
    "end\n",
    "out_f"
   ]
  },
  {
   "cell_type": "markdown",
   "metadata": {},
   "source": [
    "### With Random input functions:"
   ]
  },
  {
   "cell_type": "code",
   "execution_count": null,
   "metadata": {},
   "outputs": [],
   "source": [
    "𝚳_selected"
   ]
  },
  {
   "cell_type": "code",
   "execution_count": null,
   "metadata": {},
   "outputs": [],
   "source": [
    "# begin\n",
    "#   input_data = train_input_fns[:, 517]\n",
    "#   # y_sol = train_output_fns[:, point_selection]\n",
    "#   # 𝒩_of_μₚ, _ = model_2L(input_data, Θ_2L, layer_states_2L)\n",
    "\n",
    "#   fig = Makie.Figure()\n",
    "#   ax = Makie.Axis(fig[1, 1];\n",
    "#     xlabel=\"x\",\n",
    "#     ylabel=L\"y = N(f(x))\",\n",
    "#     title=\"Random Sample Curve 517\")\n",
    "\n",
    "#   add_interp_line(ax, input_data)\n",
    "#   Makie.scatter!(ax, nodes_x, input_data,\n",
    "#     label=\"\\\"Sampled\\\" Data\";\n",
    "#     markersize=12,\n",
    "#     alpha=0.5,\n",
    "#     strokewidth=2)\n",
    "\n",
    "#   # Makie.errorbars!(nodes_x, input_data, β * ones(31),\n",
    "#   #   color=range(0, 1, length=length(nodesxₚ_gll)),\n",
    "#   #   whiskerwidth=10)\n",
    "\n",
    "#   axislegend(ax)\n",
    "#   fig\n",
    "\n",
    "# end"
   ]
  },
  {
   "cell_type": "code",
   "execution_count": null,
   "metadata": {},
   "outputs": [],
   "source": [
    "f_1L = Figure()\n",
    "\n",
    "μ_selected = 𝚳_selected[:, 1];\n",
    "\n",
    "\n",
    "lines(f_1L[1, 1], leakyrelu.(𝐖_1L[0] * μ_selected + 𝐛_1L[0]))\n",
    "\n",
    "\n",
    "lines(f_1L[2, 1], leakyrelu.(𝐖_1L[0] * μ_selected + 𝐛_1L[0]))\n",
    "\n",
    "for _ in 1:101\n",
    "  rand_selection::Int = rand(1:num_samples)\n",
    "  z = rand(Uniform(-β, β), length(μ_selected))\n",
    "  lines!(f_1L[2, 1], leakyrelu.(𝐖_1L[0] * (μ_selected + z) + 𝐛_1L[0]))\n",
    "end\n",
    "f_1L"
   ]
  },
  {
   "cell_type": "code",
   "execution_count": null,
   "metadata": {},
   "outputs": [],
   "source": [
    "f_nextL = Figure()\n",
    "\n",
    "rand_selection::Int = rand(1:101)\n",
    "μ_selected = 𝚳_selected[:, rand_selection];\n",
    "\n",
    "lines(f_nextL[1, 1], (𝐅_2L[0])(μ_selected); linestyle=:dashdot)\n",
    "\n",
    "lines(f_nextL[2, 1], (𝐅_2L[0])(μ_selected); linestyle=:dashdot)\n",
    "\n",
    "for _ in 1:100\n",
    "  # rand_selection::Int = rand(1:num_samples)\n",
    "  z = rand(Uniform(-β, β), length(μ_selected))\n",
    "  lines!(f_nextL[2, 1], (𝐅_2L[0])(μ_selected .+ z))\n",
    "end\n",
    "f_nextL"
   ]
  },
  {
   "cell_type": "code",
   "execution_count": null,
   "metadata": {},
   "outputs": [],
   "source": [
    "f_nextL = Figure()\n",
    "\n",
    "rand_selection::Int = rand(1:101)\n",
    "μ_selected = 𝚳_selected[:, rand_selection];\n",
    "\n",
    "lines(f_nextL[1, 1], (𝐅_2L[1] ∘ 𝐅_2L[0])(μ_selected); linestyle=:dashdot)\n",
    "\n",
    "lines(f_nextL[2, 1], (𝐅_2L[1] ∘ 𝐅_2L[0])(μ_selected); linestyle=:dashdot)\n",
    "\n",
    "for _ in 1:100\n",
    "  rand_selection::Int = rand(1:num_samples)\n",
    "  z = rand(Uniform(-β, β), length(μ_selected))\n",
    "  lines!(f_nextL[2, 1], (𝐅_2L[1] ∘ 𝐅_2L[0])(μ_selected .+ z))\n",
    "end\n",
    "f_nextL"
   ]
  },
  {
   "cell_type": "code",
   "execution_count": null,
   "metadata": {},
   "outputs": [],
   "source": [
    "f_nextL = Figure()\n",
    "\n",
    "rand_selection::Int = rand(1:101)\n",
    "μ_selected = 𝚳_selected[:, rand_selection];\n",
    "\n",
    "lines(f_nextL[1, 1], (𝐅_3L[0])(μ_selected); linestyle=:dashdot)\n",
    "\n",
    "lines(f_nextL[2, 1], (𝐅_3L[0])(μ_selected); linestyle=:dashdot)\n",
    "\n",
    "for _ in 1:100\n",
    "  rand_selection::Int = rand(1:num_samples)\n",
    "  # z = input_noise_𝒻ₚ_samples[:, rand_selection]\n",
    "  z = rand(Uniform(-β, β), length(μ_selected))\n",
    "  lines!(f_nextL[2, 1], (𝐅_3L[0])(μ_selected .+ z))\n",
    "end\n",
    "f_nextL"
   ]
  },
  {
   "cell_type": "code",
   "execution_count": null,
   "metadata": {},
   "outputs": [],
   "source": [
    "f_nextL = Figure()\n",
    "\n",
    "rand_selection::Int = rand(1:101)\n",
    "μ_selected = 𝚳_selected[:, rand_selection];\n",
    "\n",
    "lines(f_nextL[1, 1], (𝐅_3L[1] ∘ 𝐅_3L[0])(μ_selected); linestyle=:dashdot)\n",
    "\n",
    "lines(f_nextL[2, 1], (𝐅_3L[1] ∘ 𝐅_3L[0])(μ_selected); linestyle=:dashdot)\n",
    "\n",
    "for _ in 1:100\n",
    "  rand_selection::Int = rand(1:num_samples)\n",
    "  # z = input_noise_𝒻ₚ_samples[:, rand_selection]\n",
    "  z = rand(Uniform(-β, β), length(μ_selected))\n",
    "  lines!(f_nextL[2, 1], (𝐅_3L[1] ∘ 𝐅_3L[0])(μ_selected .+ z))\n",
    "end\n",
    "f_nextL"
   ]
  },
  {
   "cell_type": "code",
   "execution_count": null,
   "metadata": {},
   "outputs": [],
   "source": [
    "f_nextL = Figure()\n",
    "\n",
    "rand_selection::Int = rand(1:101)\n",
    "μ_selected = 𝚳_selected[:, rand_selection];\n",
    "\n",
    "lines(f_nextL[1, 1], (𝐅_3L[2] ∘ 𝐅_3L[1] ∘ 𝐅_3L[0])(μ_selected); linestyle=:dashdot)\n",
    "\n",
    "lines(f_nextL[2, 1], (𝐅_3L[2] ∘ 𝐅_3L[1] ∘ 𝐅_3L[0])(μ_selected); linestyle=:dashdot)\n",
    "\n",
    "for _ in 1:100\n",
    "  rand_selection::Int = rand(1:num_samples)\n",
    "  # z = input_noise_𝒻ₚ_samples[:, rand_selection]\n",
    "  z = rand(Uniform(-β, β), length(μ_selected))\n",
    "  lines!(f_nextL[2, 1], (𝐅_3L[2] ∘ 𝐅_3L[1] ∘ 𝐅_3L[0])(μ_selected .+ z))\n",
    "end\n",
    "f_nextL"
   ]
  },
  {
   "cell_type": "code",
   "execution_count": null,
   "metadata": {},
   "outputs": [],
   "source": [
    "f_nextL = Figure()\n",
    "\n",
    "rand_selection::Int = rand(1:101)\n",
    "μ_selected = 𝚳_selected[:, rand_selection];\n",
    "\n",
    "lines(f_nextL[1, 1], (𝐅_5L[4] ∘ 𝐅_5L[3] ∘ 𝐅_5L[2] ∘ 𝐅_5L[1] ∘ 𝐅_5L[0])(μ_selected); linestyle=:dashdot)\n",
    "\n",
    "lines(f_nextL[2, 1], (𝐅_5L[4] ∘ 𝐅_5L[3] ∘ 𝐅_5L[2] ∘ 𝐅_5L[1] ∘ 𝐅_5L[0])(μ_selected); linestyle=:dashdot)\n",
    "\n",
    "for _ in 1:100\n",
    "  rand_selection::Int = rand(1:num_samples)\n",
    "  # z = input_noise_𝒻ₚ_samples[:, rand_selection]\n",
    "  z = rand(Uniform(-β, β), length(μ_selected))\n",
    "  lines!(f_nextL[2, 1], (𝐅_5L[4] ∘ 𝐅_5L[3] ∘ 𝐅_5L[2] ∘ 𝐅_5L[1] ∘ 𝐅_5L[0])(μ_selected .+ z))\n",
    "end\n",
    "f_nextL"
   ]
  },
  {
   "cell_type": "code",
   "execution_count": null,
   "metadata": {},
   "outputs": [],
   "source": [
    "out_f = Figure()\n",
    "lines(out_f[1, 1], nodes_y, 𝐀_5L * (𝐅_5L[4] ∘ 𝐅_5L[3] ∘ 𝐅_5L[2] ∘ 𝐅_5L[1] ∘ 𝐅_5L[0])(μ_selected .+ z))\n",
    "for _ in 1:100\n",
    "  rand_selection::Int = rand(1:num_samples)\n",
    "  z = input_noise_𝒻ₚ_samples[:, rand_selection]\n",
    "  lines!(out_f[1, 1], nodes_y, 𝐀_5L * (𝐅_5L[4] ∘ 𝐅_5L[3] ∘ 𝐅_5L[2] ∘ 𝐅_5L[1] ∘ 𝐅_5L[0])(μ_selected .+ z))\n",
    "end\n",
    "out_f"
   ]
  },
  {
   "cell_type": "markdown",
   "metadata": {},
   "source": [
    "### For comparison:"
   ]
  },
  {
   "cell_type": "code",
   "execution_count": null,
   "metadata": {},
   "outputs": [],
   "source": [
    "out_f = Figure()\n",
    "lines(out_f[1, 1], nodes_y, 𝐀_5L * (𝐅_5L[4] ∘ 𝐅_5L[3] ∘ 𝐅_5L[2] ∘ 𝐅_5L[1] ∘ 𝐅_5L[0])(μₚ .+ z))\n",
    "for _ in 1:100\n",
    "  rand_selection::Int = rand(1:num_samples)\n",
    "  z = input_noise_𝒻ₚ_samples[:, rand_selection]\n",
    "  lines!(out_f[1, 1], nodes_y, 𝐀_5L * (𝐅_5L[4] ∘ 𝐅_5L[3] ∘ 𝐅_5L[2] ∘ 𝐅_5L[1] ∘ 𝐅_5L[0])(μₚ .+ z))\n",
    "end\n",
    "out_f"
   ]
  },
  {
   "cell_type": "code",
   "execution_count": null,
   "metadata": {},
   "outputs": [],
   "source": []
  },
  {
   "cell_type": "markdown",
   "metadata": {},
   "source": [
    "### Output Curves per Layer (No Perturbations)"
   ]
  },
  {
   "cell_type": "code",
   "execution_count": null,
   "metadata": {},
   "outputs": [],
   "source": [
    "scatter(μₚ)"
   ]
  },
  {
   "cell_type": "code",
   "execution_count": null,
   "metadata": {},
   "outputs": [],
   "source": [
    "scatter(μₚ + z)"
   ]
  },
  {
   "cell_type": "code",
   "execution_count": null,
   "metadata": {},
   "outputs": [],
   "source": [
    "ϕ"
   ]
  },
  {
   "cell_type": "code",
   "execution_count": null,
   "metadata": {},
   "outputs": [],
   "source": [
    "μₚ == input_𝒻ₚ"
   ]
  },
  {
   "cell_type": "code",
   "execution_count": null,
   "metadata": {},
   "outputs": [],
   "source": []
  },
  {
   "cell_type": "markdown",
   "metadata": {},
   "source": [
    "## Weight Matrix Parameters:"
   ]
  },
  {
   "cell_type": "code",
   "execution_count": null,
   "metadata": {},
   "outputs": [],
   "source": [
    "DataFrame(𝐖_2L[2], :auto)"
   ]
  },
  {
   "cell_type": "code",
   "execution_count": null,
   "metadata": {},
   "outputs": [],
   "source": [
    "𝐀_2L"
   ]
  },
  {
   "cell_type": "code",
   "execution_count": null,
   "metadata": {},
   "outputs": [],
   "source": [
    "lines(𝐖_2L[0][1, :])"
   ]
  },
  {
   "cell_type": "code",
   "execution_count": null,
   "metadata": {},
   "outputs": [],
   "source": [
    "scatter(𝐖_2L[0][3, :])"
   ]
  },
  {
   "cell_type": "code",
   "execution_count": null,
   "metadata": {},
   "outputs": [],
   "source": [
    "lines(𝐛_5L[1])"
   ]
  },
  {
   "cell_type": "code",
   "execution_count": null,
   "metadata": {},
   "outputs": [],
   "source": []
  },
  {
   "cell_type": "code",
   "execution_count": null,
   "metadata": {},
   "outputs": [],
   "source": []
  }
 ],
 "metadata": {
  "kernelspec": {
   "display_name": "Julia 1.11.4",
   "language": "julia",
   "name": "julia-1.11"
  },
  "language_info": {
   "file_extension": ".jl",
   "mimetype": "application/julia",
   "name": "julia",
   "version": "1.11.4"
  }
 },
 "nbformat": 4,
 "nbformat_minor": 2
}
